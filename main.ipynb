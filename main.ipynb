{
 "cells": [
  {
   "cell_type": "code",
   "execution_count": 1,
   "metadata": {},
   "outputs": [],
   "source": [
    "import gc\n",
    "import torch\n",
    "import json\n",
    "from tqdm import tqdm\n",
    "from torch.utils.data import DataLoader, Dataset\n",
    "from datasets import load_dataset, concatenate_datasets\n",
    "from transformers import LlamaForCausalLM, LlamaConfig, AutoTokenizer, AutoModelForCausalLM, BitsAndBytesConfig\n",
    "\n",
    "DEVICE = 'cuda'\n",
    "tokenizer = AutoTokenizer.from_pretrained(\"meta-llama/Llama-2-7b-chat-hf\")\n",
    "tokenizer.pad_token = tokenizer.unk_token\n",
    "tokenizer.pad_token_id = tokenizer.unk_token_id\n",
    "load_config = BitsAndBytesConfig(load_in_8bit=True)\n",
    "# model0 = AutoModelForCausalLM.from_pretrained(\"meta-llama/Llama-2-7b-chat-hf\", quantization_config=load_config, torch_dtype=torch.bfloat16)"
   ]
  },
  {
   "cell_type": "code",
   "execution_count": 2,
   "metadata": {},
   "outputs": [],
   "source": [
    "model = LlamaForCausalLM.from_pretrained('/root/llama_distillation/experiments/models/baseline').to(DEVICE)\n",
    "model1 = LlamaForCausalLM.from_pretrained('/root/llama_distillation/experiments/models/baseline__distill_only').to(DEVICE)\n",
    "model2 = LlamaForCausalLM.from_pretrained('/root/llama_distillation/experiments/models/baseline_no_distill').to(DEVICE)"
   ]
  },
  {
   "cell_type": "code",
   "execution_count": 3,
   "metadata": {},
   "outputs": [],
   "source": [
    "tokenizer_1b = AutoTokenizer.from_pretrained(\"TinyLlama/TinyLlama-1.1B-Chat-v1.0\")\n",
    "model_1b = AutoModelForCausalLM.from_pretrained(\"TinyLlama/TinyLlama-1.1B-Chat-v1.0\").to(DEVICE)"
   ]
  },
  {
   "cell_type": "code",
   "execution_count": 4,
   "metadata": {},
   "outputs": [],
   "source": [
    "model3 = LlamaForCausalLM.from_pretrained('/root/llama_distillation/experiments/models/tiny_llama').to(DEVICE)"
   ]
  },
  {
   "cell_type": "code",
   "execution_count": 3,
   "metadata": {},
   "outputs": [],
   "source": [
    "gc.collect()\n",
    "torch.cuda.empty_cache()"
   ]
  },
  {
   "cell_type": "code",
   "execution_count": 4,
   "metadata": {},
   "outputs": [],
   "source": [
    "from peft import LoraConfig, get_peft_model\n",
    "import bitsandbytes as bnb\n",
    "\n",
    "def batch_to_device(batch, device='cuda'):\n",
    "    return {k: torch.tensor(v).to(device) for k, v in batch.items()}\n",
    "\n",
    "def lora_model(model):\n",
    "    lora_module_names = set()\n",
    "    for name, module in model.named_modules():\n",
    "        if isinstance(module, torch.nn.modules.linear.Linear):\n",
    "            lora_module_names.add(name.split('.')[-1])\n",
    "    config = LoraConfig(\n",
    "        r=16,  #attention heads\n",
    "        lora_alpha=8,  #alpha scaling\n",
    "        target_modules=[\"q_proj\", \"k_proj\", \"v_proj\", \"o_proj\",\"gate_proj\", \"up_proj\"],  #gonna train all\n",
    "        lora_dropout=0.1,  # dropout probability for layers\n",
    "        bias=\"none\",\n",
    "        task_type=\"CAUSAL_LM\", #for Decoder models like GPT Seq2Seq for Encoder-Decoder models like T5\n",
    "    )\n",
    "    return get_peft_model(model, config)\n",
    "\n",
    "class BenchDataset(Dataset):\n",
    "    def __init__(self, dataset: Dataset, prompt, examples_cnt, options, metric=None):\n",
    "        super(BenchDataset).__init__()\n",
    "        examples = dataset.take(examples_cnt)\n",
    "        p_ex = prompt + \"{0[label]}\\n\"\n",
    "        if len(examples) > 0:\n",
    "            if 'ref' not in dataset[0]:\n",
    "                prompt = \"Examples:\\n\" + ''.join(list(map(lambda x: p_ex.format(x|{'label':options[x['label']]}), examples))) + \"\\nTask:\\n\" + prompt\n",
    "            else:\n",
    "                prompt = \"Examples:\\n\" + ''.join(list(map(lambda x: p_ex.format(x|{'label':x['ref']}), examples))) + \"\\nTask:\\n\" + prompt\n",
    "        else:\n",
    "            prompt = \"Task:\\n\" + prompt\n",
    "        print(prompt)\n",
    "        self.dataset = dataset.skip(examples_cnt).map(lambda row: {\"prompt\": prompt.format(row)})\n",
    "        self.options = options\n",
    "        self.labels = self.dataset['label']\n",
    "        tokens = tokenizer(self.dataset['prompt'], return_tensors='pt', padding=True)\n",
    "        self.input_ids = tokens['input_ids']\n",
    "        self.attention_mask = tokens['attention_mask']\n",
    "        self.metric = metric\n",
    "\n",
    "    def __getitem__(self, index):\n",
    "        return {'input_ids': self.input_ids[index], 'attention_mask': self.attention_mask[index], 'label': self.labels[index]}\n",
    "\n",
    "    def __len__(self):\n",
    "        return self.input_ids.size(0)\n",
    "    \n",
    "    def fine_tune(self, model, tokenizer, epochs=10, batch_size=32, lr=1e-3):\n",
    "        model = lora_model(model)\n",
    "        model.train()\n",
    "\n",
    "        tokens = tokenizer(self.dataset['prompt'], return_tensors='pt', padding=True)\n",
    "        self.input_ids = tokens['input_ids']\n",
    "        self.attention_mask = tokens['attention_mask']\n",
    "        options = tokenizer(self.options, return_tensors='pt')['input_ids'][:, 1]\n",
    "        \n",
    "\n",
    "        criterion = torch.nn.CrossEntropyLoss()\n",
    "        optimizer = torch.optim.AdamW(model.parameters(), lr=lr)\n",
    "        scheduler = torch.optim.lr_scheduler.CosineAnnealingLR(optimizer, epochs, lr/5)\n",
    "        dataloader = torch.utils.data.DataLoader(self, batch_size=batch_size)\n",
    "        for epoch in range(epochs):\n",
    "            total_loss = 0\n",
    "            for batch in tqdm(dataloader):\n",
    "                optimizer.zero_grad()\n",
    "                batch = batch_to_device(batch, DEVICE)\n",
    "                logits = model(\n",
    "                    input_ids = batch['input_ids'],\n",
    "                    attention_mask = batch['attention_mask'],\n",
    "                ).logits\n",
    "                ids = (batch['attention_mask'].sum(dim=1) - 1).unsqueeze(1).unsqueeze(2).repeat(1, 1, logits.size(2))\n",
    "                logits = logits.gather(1, ids)[:, 0, :]\n",
    "                loss = criterion(logits[:, options], batch['label'])\n",
    "                total_loss += loss.item()\n",
    "                loss.backward()\n",
    "                optimizer.step()\n",
    "                gc.collect()\n",
    "                torch.cuda.empty_cache()\n",
    "            scheduler.step()\n",
    "            print(f\"Epoch {epoch}. Loss {total_loss / len(dataloader)}\")\n",
    "        self.evaluate(model, batch_size)\n",
    "        return model\n",
    "        \n",
    "    \n",
    "    def evaluate(self, model, tokenizer, batch_size=1):\n",
    "        model.eval()\n",
    "\n",
    "        tokens = tokenizer(self.dataset['prompt'], return_tensors='pt', padding=True)\n",
    "        self.input_ids = tokens['input_ids']\n",
    "        self.attention_mask = tokens['attention_mask']\n",
    "\n",
    "        preds = []\n",
    "        dataloader = torch.utils.data.DataLoader(self, batch_size=batch_size)\n",
    "        for i, batch in enumerate(tqdm(dataloader)):\n",
    "            batch = batch_to_device(batch, DEVICE)\n",
    "            logits = model(\n",
    "                input_ids = batch['input_ids'],\n",
    "                attention_mask = batch['attention_mask'],\n",
    "            ).logits\n",
    "            ids = []\n",
    "            for x in batch['input_ids']:\n",
    "                zeros = (x == 0).nonzero(as_tuple=True)[0]\n",
    "                if zeros.size(0) == 0:\n",
    "                    ids.append(x.size(0))\n",
    "                else:\n",
    "                    ids.append(zeros[0])\n",
    "            ids = (torch.tensor(ids) - 1).unsqueeze(1).unsqueeze(2).repeat(1, 1, logits.size(2)).to(DEVICE)\n",
    "            logits = logits.gather(1, ids)[:, 0, :].detach().cpu()\n",
    "            options = tokenizer(self.options, return_tensors='pt')['input_ids'][:, 1]\n",
    "            if 'ref' in self.dataset[0]:\n",
    "                options = tokenizer([self.dataset[i]['good'], self.dataset[i]['bad']])['input_ids']\n",
    "                options = torch.tensor([options[0][1], options[1][1]])\n",
    "            preds.extend(logits[:, options].argmax(dim=1))\n",
    "            batch = None\n",
    "            logits = None\n",
    "            gc.collect()\n",
    "            torch.cuda.empty_cache()\n",
    "        print(torch.sum(torch.tensor(self.labels) == torch.tensor(preds))/len(self))\n",
    "        return self.labels, preds"
   ]
  },
  {
   "cell_type": "code",
   "execution_count": 5,
   "metadata": {},
   "outputs": [],
   "source": [
    "import random\n",
    "import tensorflow_datasets as tfds\n",
    "import datasets\n",
    "\n",
    "\n",
    "def axb_dataset(examples_cnt=0):\n",
    "    dataset = load_dataset(\"super_glue\", \"axb\", split='test').shuffle(seed=0)\n",
    "    prompt = \"\"\"Question: Do sentences '{0[sentence1]}' and '{0[sentence2]}' mean the same thing? Answer:\"\"\"\n",
    "    return BenchDataset(\n",
    "        dataset,\n",
    "        prompt,\n",
    "        examples_cnt,\n",
    "        ['Yes', 'No']\n",
    "    )\n",
    "\n",
    "def sst2_dataset(examples_cnt=0, split='validation'):\n",
    "    dataset = load_dataset(\"stanfordnlp/sst2\", split=split).shuffle(seed=0)\n",
    "    prompt = \"\"\"{0[sentence]} Is the review positive? Answer:\"\"\"\n",
    "    return BenchDataset(\n",
    "        dataset,\n",
    "        prompt,\n",
    "        examples_cnt,\n",
    "        ['No', 'Yes']\n",
    "    )\n",
    "\n",
    "def boolq_dataset(examples_cnt=0, split='validation'):\n",
    "    dataset = load_dataset(\"super_glue\", \"boolq\", split=split).shuffle(seed=0).map(lambda x: {'passage':x['passage'][:400]})\n",
    "    if split == 'validation':\n",
    "        dataset = dataset.take(1000)\n",
    "    prompt = \"\"\"{0[passage]}\\nQuestion: {0[question]}?\\nAnswer:\"\"\"\n",
    "    return BenchDataset(\n",
    "        dataset,\n",
    "        prompt,\n",
    "        examples_cnt,\n",
    "        ['No', 'Yes']\n",
    "    )\n",
    "\n",
    "def qnli_dataset(examples_cnt=0, split='validation'):\n",
    "    dataset = tfds.load('glue/qnli', split=split)\n",
    "    labels = [data['label'] for data in dataset]\n",
    "    questions = [data['question'].numpy().decode('utf-8') for data in dataset]\n",
    "    sentences = [data['sentence'].numpy().decode('utf-8') for data in dataset]\n",
    "    dataset = datasets.Dataset.from_dict({\n",
    "        'label': labels,\n",
    "        'question': questions,\n",
    "        'sentence': sentences,\n",
    "    }).shuffle(seed=0).map(lambda x: {'sentence':x['sentence'][:200]})\n",
    "    if split == 'validation':\n",
    "        dataset = dataset.take(1000)\n",
    "    prompt = \"\"\"Request: {0[question]}\\nResponse: {0[sentence]}\\nQuestion: Is it suitable Response for the Request? Answer:\"\"\"\n",
    "    return BenchDataset(\n",
    "        dataset,\n",
    "        prompt,\n",
    "        examples_cnt,\n",
    "        ['Yes', 'No']\n",
    "    )\n",
    "\n",
    "def irregular_forms_dataset(examples_cnt=0):\n",
    "    dataset = concatenate_datasets([\n",
    "        load_dataset(\"nyu-mll/blimp\", name='irregular_past_participle_adjectives', split='train'),\n",
    "        load_dataset(\"nyu-mll/blimp\", name='irregular_past_participle_verbs', split='train'),\n",
    "        load_dataset(\"nyu-mll/blimp\", name='irregular_plural_subject_verb_agreement_1', split='train'),\n",
    "        load_dataset(\"nyu-mll/blimp\", name='determiner_noun_agreement_1', split='train'),\n",
    "        load_dataset(\"nyu-mll/blimp\", name='determiner_noun_agreement_irregular_1', split='train'),\n",
    "        load_dataset(\"nyu-mll/blimp\", name='determiner_noun_agreement_with_adjective_1', split='train'),\n",
    "        load_dataset(\"nyu-mll/blimp\", name='anaphor_gender_agreement', split='train'),\n",
    "        load_dataset(\"nyu-mll/blimp\", name='anaphor_number_agreement', split='train'),\n",
    "    ])\n",
    "    dataset = dataset.shuffle(seed=0)\n",
    "    \n",
    "    def mapper(x):\n",
    "        good_split = x['sentence_good'].split(' ')\n",
    "        bad_split = x['sentence_bad'].split(' ')\n",
    "        vals = []\n",
    "        sent = []\n",
    "        for i in range(len(good_split)):\n",
    "            if good_split[i] == bad_split[i]:\n",
    "                sent.append(good_split[i])\n",
    "            else:\n",
    "                vals.append(good_split[i])\n",
    "                vals.append(bad_split[i])\n",
    "                sent.append('<unk>')\n",
    "        ref = vals[0]\n",
    "        label = random.randint(0, 1)\n",
    "        if label == 1:\n",
    "            vals[0], vals[1] = vals[1], vals[0]\n",
    "        return {\n",
    "            'sent': ' '.join(sent),\n",
    "            'good': vals[0],\n",
    "            'bad': vals[1],\n",
    "            'label': label,\n",
    "            'ref': ref,\n",
    "        }\n",
    "\n",
    "    dataset = dataset.map(mapper)\n",
    "    prompt = \"\"\"{0[sent]}\"\"\"\n",
    "\n",
    "    return BenchDataset(\n",
    "        dataset,\n",
    "        prompt,\n",
    "        examples_cnt,\n",
    "        ['A', 'B']\n",
    "    )\n",
    "    "
   ]
  },
  {
   "cell_type": "code",
   "execution_count": 6,
   "metadata": {},
   "outputs": [
    {
     "name": "stderr",
     "output_type": "stream",
     "text": [
      "2024-06-16 02:49:03.799047: I tensorflow/core/platform/cpu_feature_guard.cc:210] This TensorFlow binary is optimized to use available CPU instructions in performance-critical operations.\n",
      "To enable the following instructions: AVX2 FMA, in other operations, rebuild TensorFlow with the appropriate compiler flags.\n",
      "2024-06-16 02:49:04.385161: W tensorflow/compiler/tf2tensorrt/utils/py_utils.cc:38] TF-TRT Warning: Could not find TensorRT\n",
      "2024-06-16 02:49:04.712689: I external/local_xla/xla/stream_executor/cuda/cuda_executor.cc:998] successful NUMA node read from SysFS had negative value (-1), but there must be at least one NUMA node, so returning NUMA node zero. See more at https://github.com/torvalds/linux/blob/v6.0/Documentation/ABI/testing/sysfs-bus-pci#L344-L355\n",
      "2024-06-16 02:49:04.717884: I external/local_xla/xla/stream_executor/cuda/cuda_executor.cc:998] successful NUMA node read from SysFS had negative value (-1), but there must be at least one NUMA node, so returning NUMA node zero. See more at https://github.com/torvalds/linux/blob/v6.0/Documentation/ABI/testing/sysfs-bus-pci#L344-L355\n",
      "2024-06-16 02:49:04.719564: I external/local_xla/xla/stream_executor/cuda/cuda_executor.cc:998] successful NUMA node read from SysFS had negative value (-1), but there must be at least one NUMA node, so returning NUMA node zero. See more at https://github.com/torvalds/linux/blob/v6.0/Documentation/ABI/testing/sysfs-bus-pci#L344-L355\n",
      "2024-06-16 02:49:04.721970: I external/local_xla/xla/stream_executor/cuda/cuda_executor.cc:998] successful NUMA node read from SysFS had negative value (-1), but there must be at least one NUMA node, so returning NUMA node zero. See more at https://github.com/torvalds/linux/blob/v6.0/Documentation/ABI/testing/sysfs-bus-pci#L344-L355\n",
      "2024-06-16 02:49:04.723657: I external/local_xla/xla/stream_executor/cuda/cuda_executor.cc:998] successful NUMA node read from SysFS had negative value (-1), but there must be at least one NUMA node, so returning NUMA node zero. See more at https://github.com/torvalds/linux/blob/v6.0/Documentation/ABI/testing/sysfs-bus-pci#L344-L355\n",
      "2024-06-16 02:49:04.725323: I external/local_xla/xla/stream_executor/cuda/cuda_executor.cc:998] successful NUMA node read from SysFS had negative value (-1), but there must be at least one NUMA node, so returning NUMA node zero. See more at https://github.com/torvalds/linux/blob/v6.0/Documentation/ABI/testing/sysfs-bus-pci#L344-L355\n",
      "2024-06-16 02:49:04.731181: I external/local_xla/xla/stream_executor/cuda/cuda_executor.cc:998] successful NUMA node read from SysFS had negative value (-1), but there must be at least one NUMA node, so returning NUMA node zero. See more at https://github.com/torvalds/linux/blob/v6.0/Documentation/ABI/testing/sysfs-bus-pci#L344-L355\n",
      "2024-06-16 02:49:04.732882: I external/local_xla/xla/stream_executor/cuda/cuda_executor.cc:998] successful NUMA node read from SysFS had negative value (-1), but there must be at least one NUMA node, so returning NUMA node zero. See more at https://github.com/torvalds/linux/blob/v6.0/Documentation/ABI/testing/sysfs-bus-pci#L344-L355\n",
      "2024-06-16 02:49:04.734564: I external/local_xla/xla/stream_executor/cuda/cuda_executor.cc:998] successful NUMA node read from SysFS had negative value (-1), but there must be at least one NUMA node, so returning NUMA node zero. See more at https://github.com/torvalds/linux/blob/v6.0/Documentation/ABI/testing/sysfs-bus-pci#L344-L355\n",
      "2024-06-16 02:49:04.736213: I tensorflow/core/common_runtime/gpu/gpu_device.cc:1928] Created device /job:localhost/replica:0/task:0/device:GPU:0 with 12569 MB memory:  -> device: 0, name: Tesla T4, pci bus id: 0000:01:00.0, compute capability: 7.5\n",
      "2024-06-16 02:49:05.689031: W tensorflow/core/framework/local_rendezvous.cc:404] Local rendezvous is aborting with status: OUT_OF_RANGE: End of sequence\n",
      "2024-06-16 02:49:06.233615: W tensorflow/core/framework/local_rendezvous.cc:404] Local rendezvous is aborting with status: OUT_OF_RANGE: End of sequence\n",
      "2024-06-16 02:49:06.771946: W tensorflow/core/framework/local_rendezvous.cc:404] Local rendezvous is aborting with status: OUT_OF_RANGE: End of sequence\n"
     ]
    },
    {
     "data": {
      "application/vnd.jupyter.widget-view+json": {
       "model_id": "5483cfd657f844f998c199be6d098317",
       "version_major": 2,
       "version_minor": 0
      },
      "text/plain": [
       "Map:   0%|          | 0/5463 [00:00<?, ? examples/s]"
      ]
     },
     "metadata": {},
     "output_type": "display_data"
    },
    {
     "name": "stdout",
     "output_type": "stream",
     "text": [
      "Task:\n",
      "Request: {0[question]}\n",
      "Response: {0[sentence]}\n",
      "Question: Is it suitable Response for the Request? Answer:\n"
     ]
    },
    {
     "data": {
      "application/vnd.jupyter.widget-view+json": {
       "model_id": "cb2e60f4d197459bbfa11fb4e1154a02",
       "version_major": 2,
       "version_minor": 0
      },
      "text/plain": [
       "Map:   0%|          | 0/1000 [00:00<?, ? examples/s]"
      ]
     },
     "metadata": {},
     "output_type": "display_data"
    },
    {
     "name": "stdout",
     "output_type": "stream",
     "text": [
      "Task:\n",
      "{0[sent]}\n"
     ]
    },
    {
     "name": "stderr",
     "output_type": "stream",
     "text": [
      "/root/venv/lib/python3.10/site-packages/datasets/load.py:1486: FutureWarning: The repository for super_glue contains custom code which must be executed to correctly load the dataset. You can inspect the repository content at https://hf.co/datasets/super_glue\n",
      "You can avoid this message in future by passing the argument `trust_remote_code=True`.\n",
      "Passing `trust_remote_code=True` will be mandatory to load this dataset from the next major release of `datasets`.\n",
      "  warnings.warn(\n"
     ]
    },
    {
     "name": "stdout",
     "output_type": "stream",
     "text": [
      "Task:\n",
      "{0[passage]}\n",
      "Question: {0[question]}?\n",
      "Answer:\n",
      "Task:\n",
      "{0[sentence]} Is the review positive? Answer:\n"
     ]
    }
   ],
   "source": [
    "random.seed(0)\n",
    "dataset = qnli_dataset()\n",
    "# dataset1 = qnli_dataset(1)\n",
    "# dataset5 = qnli_dataset(5)\n",
    "irr_dataset = irregular_forms_dataset()\n",
    "b_dataset = boolq_dataset()\n",
    "s_dataset = sst2_dataset()\n",
    "# train_dataset = irregular_forms_dataset(0, 'train')"
   ]
  },
  {
   "cell_type": "code",
   "execution_count": 7,
   "metadata": {},
   "outputs": [
    {
     "name": "stderr",
     "output_type": "stream",
     "text": [
      "  0%|          | 0/872 [00:00<?, ?it/s]"
     ]
    },
    {
     "name": "stderr",
     "output_type": "stream",
     "text": [
      "/tmp/ipykernel_949901/2958193490.py:5: UserWarning: To copy construct from a tensor, it is recommended to use sourceTensor.clone().detach() or sourceTensor.clone().detach().requires_grad_(True), rather than torch.tensor(sourceTensor).\n",
      "  return {k: torch.tensor(v).to(device) for k, v in batch.items()}\n",
      "100%|██████████| 872/872 [02:25<00:00,  5.99it/s]\n"
     ]
    },
    {
     "name": "stdout",
     "output_type": "stream",
     "text": [
      "tensor(0.5654)\n"
     ]
    },
    {
     "name": "stderr",
     "output_type": "stream",
     "text": [
      "100%|██████████| 1000/1000 [02:56<00:00,  5.68it/s]\n"
     ]
    },
    {
     "name": "stdout",
     "output_type": "stream",
     "text": [
      "tensor(0.6350)\n"
     ]
    },
    {
     "name": "stderr",
     "output_type": "stream",
     "text": [
      "100%|██████████| 8000/8000 [21:54<00:00,  6.08it/s]\n"
     ]
    },
    {
     "name": "stdout",
     "output_type": "stream",
     "text": [
      "tensor(0.7925)\n"
     ]
    },
    {
     "name": "stderr",
     "output_type": "stream",
     "text": [
      "100%|██████████| 1000/1000 [02:50<00:00,  5.86it/s]"
     ]
    },
    {
     "name": "stdout",
     "output_type": "stream",
     "text": [
      "tensor(0.5090)\n"
     ]
    },
    {
     "name": "stderr",
     "output_type": "stream",
     "text": [
      "\n"
     ]
    }
   ],
   "source": [
    "s_dataset.evaluate(model1, tokenizer)\n",
    "b_dataset.evaluate(model1, tokenizer)\n",
    "irr_dataset.evaluate(model1, tokenizer)\n",
    "_ = dataset.evaluate(model1, tokenizer)"
   ]
  },
  {
   "cell_type": "code",
   "execution_count": 10,
   "metadata": {},
   "outputs": [
    {
     "name": "stderr",
     "output_type": "stream",
     "text": [
      "  0%|          | 0/999 [00:00<?, ?it/s]/tmp/ipykernel_662043/2958193490.py:5: UserWarning: To copy construct from a tensor, it is recommended to use sourceTensor.clone().detach() or sourceTensor.clone().detach().requires_grad_(True), rather than torch.tensor(sourceTensor).\n",
      "  return {k: torch.tensor(v).to(device) for k, v in batch.items()}\n",
      "/root/venv/lib/python3.10/site-packages/bitsandbytes/autograd/_functions.py:316: UserWarning: MatMul8bitLt: inputs will be cast from torch.bfloat16 to float16 during quantization\n",
      "  warnings.warn(f\"MatMul8bitLt: inputs will be cast from {A.dtype} to float16 during quantization\")\n",
      "  0%|          | 0/999 [00:00<?, ?it/s]\n"
     ]
    },
    {
     "ename": "OutOfMemoryError",
     "evalue": "CUDA out of memory. Tried to allocate 20.00 MiB. GPU ",
     "output_type": "error",
     "traceback": [
      "\u001b[0;31m---------------------------------------------------------------------------\u001b[0m",
      "\u001b[0;31mOutOfMemoryError\u001b[0m                          Traceback (most recent call last)",
      "Cell \u001b[0;32mIn[10], line 1\u001b[0m\n\u001b[0;32m----> 1\u001b[0m labels, preds \u001b[38;5;241m=\u001b[39m \u001b[43mdataset1\u001b[49m\u001b[38;5;241;43m.\u001b[39;49m\u001b[43mevaluate\u001b[49m\u001b[43m(\u001b[49m\u001b[43mmodel0\u001b[49m\u001b[43m,\u001b[49m\u001b[43m \u001b[49m\u001b[43mtokenizer\u001b[49m\u001b[43m,\u001b[49m\u001b[43m \u001b[49m\u001b[43mbatch_size\u001b[49m\u001b[38;5;241;43m=\u001b[39;49m\u001b[38;5;241;43m1\u001b[39;49m\u001b[43m)\u001b[49m\n\u001b[1;32m      2\u001b[0m \u001b[38;5;66;03m# print(torch.sum(torch.tensor(labels) == torch.tensor(preds))/len(labels))\u001b[39;00m\n",
      "Cell \u001b[0;32mIn[3], line 97\u001b[0m, in \u001b[0;36mBenchDataset.evaluate\u001b[0;34m(self, model, tokenizer, batch_size)\u001b[0m\n\u001b[1;32m     95\u001b[0m \u001b[38;5;28;01mfor\u001b[39;00m i, batch \u001b[38;5;129;01min\u001b[39;00m \u001b[38;5;28menumerate\u001b[39m(tqdm(dataloader)):\n\u001b[1;32m     96\u001b[0m     batch \u001b[38;5;241m=\u001b[39m batch_to_device(batch, DEVICE)\n\u001b[0;32m---> 97\u001b[0m     logits \u001b[38;5;241m=\u001b[39m \u001b[43mmodel\u001b[49m\u001b[43m(\u001b[49m\n\u001b[1;32m     98\u001b[0m \u001b[43m        \u001b[49m\u001b[43minput_ids\u001b[49m\u001b[43m \u001b[49m\u001b[38;5;241;43m=\u001b[39;49m\u001b[43m \u001b[49m\u001b[43mbatch\u001b[49m\u001b[43m[\u001b[49m\u001b[38;5;124;43m'\u001b[39;49m\u001b[38;5;124;43minput_ids\u001b[39;49m\u001b[38;5;124;43m'\u001b[39;49m\u001b[43m]\u001b[49m\u001b[43m,\u001b[49m\n\u001b[1;32m     99\u001b[0m \u001b[43m        \u001b[49m\u001b[43mattention_mask\u001b[49m\u001b[43m \u001b[49m\u001b[38;5;241;43m=\u001b[39;49m\u001b[43m \u001b[49m\u001b[43mbatch\u001b[49m\u001b[43m[\u001b[49m\u001b[38;5;124;43m'\u001b[39;49m\u001b[38;5;124;43mattention_mask\u001b[39;49m\u001b[38;5;124;43m'\u001b[39;49m\u001b[43m]\u001b[49m\u001b[43m,\u001b[49m\n\u001b[1;32m    100\u001b[0m \u001b[43m    \u001b[49m\u001b[43m)\u001b[49m\u001b[38;5;241m.\u001b[39mlogits\n\u001b[1;32m    101\u001b[0m     ids \u001b[38;5;241m=\u001b[39m []\n\u001b[1;32m    102\u001b[0m     \u001b[38;5;28;01mfor\u001b[39;00m x \u001b[38;5;129;01min\u001b[39;00m batch[\u001b[38;5;124m'\u001b[39m\u001b[38;5;124minput_ids\u001b[39m\u001b[38;5;124m'\u001b[39m]:\n",
      "File \u001b[0;32m~/venv/lib/python3.10/site-packages/torch/nn/modules/module.py:1532\u001b[0m, in \u001b[0;36mModule._wrapped_call_impl\u001b[0;34m(self, *args, **kwargs)\u001b[0m\n\u001b[1;32m   1530\u001b[0m     \u001b[38;5;28;01mreturn\u001b[39;00m \u001b[38;5;28mself\u001b[39m\u001b[38;5;241m.\u001b[39m_compiled_call_impl(\u001b[38;5;241m*\u001b[39margs, \u001b[38;5;241m*\u001b[39m\u001b[38;5;241m*\u001b[39mkwargs)  \u001b[38;5;66;03m# type: ignore[misc]\u001b[39;00m\n\u001b[1;32m   1531\u001b[0m \u001b[38;5;28;01melse\u001b[39;00m:\n\u001b[0;32m-> 1532\u001b[0m     \u001b[38;5;28;01mreturn\u001b[39;00m \u001b[38;5;28;43mself\u001b[39;49m\u001b[38;5;241;43m.\u001b[39;49m\u001b[43m_call_impl\u001b[49m\u001b[43m(\u001b[49m\u001b[38;5;241;43m*\u001b[39;49m\u001b[43margs\u001b[49m\u001b[43m,\u001b[49m\u001b[43m \u001b[49m\u001b[38;5;241;43m*\u001b[39;49m\u001b[38;5;241;43m*\u001b[39;49m\u001b[43mkwargs\u001b[49m\u001b[43m)\u001b[49m\n",
      "File \u001b[0;32m~/venv/lib/python3.10/site-packages/torch/nn/modules/module.py:1541\u001b[0m, in \u001b[0;36mModule._call_impl\u001b[0;34m(self, *args, **kwargs)\u001b[0m\n\u001b[1;32m   1536\u001b[0m \u001b[38;5;66;03m# If we don't have any hooks, we want to skip the rest of the logic in\u001b[39;00m\n\u001b[1;32m   1537\u001b[0m \u001b[38;5;66;03m# this function, and just call forward.\u001b[39;00m\n\u001b[1;32m   1538\u001b[0m \u001b[38;5;28;01mif\u001b[39;00m \u001b[38;5;129;01mnot\u001b[39;00m (\u001b[38;5;28mself\u001b[39m\u001b[38;5;241m.\u001b[39m_backward_hooks \u001b[38;5;129;01mor\u001b[39;00m \u001b[38;5;28mself\u001b[39m\u001b[38;5;241m.\u001b[39m_backward_pre_hooks \u001b[38;5;129;01mor\u001b[39;00m \u001b[38;5;28mself\u001b[39m\u001b[38;5;241m.\u001b[39m_forward_hooks \u001b[38;5;129;01mor\u001b[39;00m \u001b[38;5;28mself\u001b[39m\u001b[38;5;241m.\u001b[39m_forward_pre_hooks\n\u001b[1;32m   1539\u001b[0m         \u001b[38;5;129;01mor\u001b[39;00m _global_backward_pre_hooks \u001b[38;5;129;01mor\u001b[39;00m _global_backward_hooks\n\u001b[1;32m   1540\u001b[0m         \u001b[38;5;129;01mor\u001b[39;00m _global_forward_hooks \u001b[38;5;129;01mor\u001b[39;00m _global_forward_pre_hooks):\n\u001b[0;32m-> 1541\u001b[0m     \u001b[38;5;28;01mreturn\u001b[39;00m \u001b[43mforward_call\u001b[49m\u001b[43m(\u001b[49m\u001b[38;5;241;43m*\u001b[39;49m\u001b[43margs\u001b[49m\u001b[43m,\u001b[49m\u001b[43m \u001b[49m\u001b[38;5;241;43m*\u001b[39;49m\u001b[38;5;241;43m*\u001b[39;49m\u001b[43mkwargs\u001b[49m\u001b[43m)\u001b[49m\n\u001b[1;32m   1543\u001b[0m \u001b[38;5;28;01mtry\u001b[39;00m:\n\u001b[1;32m   1544\u001b[0m     result \u001b[38;5;241m=\u001b[39m \u001b[38;5;28;01mNone\u001b[39;00m\n",
      "File \u001b[0;32m~/venv/lib/python3.10/site-packages/accelerate/hooks.py:166\u001b[0m, in \u001b[0;36madd_hook_to_module.<locals>.new_forward\u001b[0;34m(module, *args, **kwargs)\u001b[0m\n\u001b[1;32m    164\u001b[0m         output \u001b[38;5;241m=\u001b[39m module\u001b[38;5;241m.\u001b[39m_old_forward(\u001b[38;5;241m*\u001b[39margs, \u001b[38;5;241m*\u001b[39m\u001b[38;5;241m*\u001b[39mkwargs)\n\u001b[1;32m    165\u001b[0m \u001b[38;5;28;01melse\u001b[39;00m:\n\u001b[0;32m--> 166\u001b[0m     output \u001b[38;5;241m=\u001b[39m \u001b[43mmodule\u001b[49m\u001b[38;5;241;43m.\u001b[39;49m\u001b[43m_old_forward\u001b[49m\u001b[43m(\u001b[49m\u001b[38;5;241;43m*\u001b[39;49m\u001b[43margs\u001b[49m\u001b[43m,\u001b[49m\u001b[43m \u001b[49m\u001b[38;5;241;43m*\u001b[39;49m\u001b[38;5;241;43m*\u001b[39;49m\u001b[43mkwargs\u001b[49m\u001b[43m)\u001b[49m\n\u001b[1;32m    167\u001b[0m \u001b[38;5;28;01mreturn\u001b[39;00m module\u001b[38;5;241m.\u001b[39m_hf_hook\u001b[38;5;241m.\u001b[39mpost_forward(module, output)\n",
      "File \u001b[0;32m~/venv/lib/python3.10/site-packages/transformers/models/llama/modeling_llama.py:1208\u001b[0m, in \u001b[0;36mLlamaForCausalLM.forward\u001b[0;34m(self, input_ids, attention_mask, position_ids, past_key_values, inputs_embeds, labels, use_cache, output_attentions, output_hidden_states, return_dict, cache_position)\u001b[0m\n\u001b[1;32m   1205\u001b[0m return_dict \u001b[38;5;241m=\u001b[39m return_dict \u001b[38;5;28;01mif\u001b[39;00m return_dict \u001b[38;5;129;01mis\u001b[39;00m \u001b[38;5;129;01mnot\u001b[39;00m \u001b[38;5;28;01mNone\u001b[39;00m \u001b[38;5;28;01melse\u001b[39;00m \u001b[38;5;28mself\u001b[39m\u001b[38;5;241m.\u001b[39mconfig\u001b[38;5;241m.\u001b[39muse_return_dict\n\u001b[1;32m   1207\u001b[0m \u001b[38;5;66;03m# decoder outputs consists of (dec_features, layer_state, dec_hidden, dec_attn)\u001b[39;00m\n\u001b[0;32m-> 1208\u001b[0m outputs \u001b[38;5;241m=\u001b[39m \u001b[38;5;28;43mself\u001b[39;49m\u001b[38;5;241;43m.\u001b[39;49m\u001b[43mmodel\u001b[49m\u001b[43m(\u001b[49m\n\u001b[1;32m   1209\u001b[0m \u001b[43m    \u001b[49m\u001b[43minput_ids\u001b[49m\u001b[38;5;241;43m=\u001b[39;49m\u001b[43minput_ids\u001b[49m\u001b[43m,\u001b[49m\n\u001b[1;32m   1210\u001b[0m \u001b[43m    \u001b[49m\u001b[43mattention_mask\u001b[49m\u001b[38;5;241;43m=\u001b[39;49m\u001b[43mattention_mask\u001b[49m\u001b[43m,\u001b[49m\n\u001b[1;32m   1211\u001b[0m \u001b[43m    \u001b[49m\u001b[43mposition_ids\u001b[49m\u001b[38;5;241;43m=\u001b[39;49m\u001b[43mposition_ids\u001b[49m\u001b[43m,\u001b[49m\n\u001b[1;32m   1212\u001b[0m \u001b[43m    \u001b[49m\u001b[43mpast_key_values\u001b[49m\u001b[38;5;241;43m=\u001b[39;49m\u001b[43mpast_key_values\u001b[49m\u001b[43m,\u001b[49m\n\u001b[1;32m   1213\u001b[0m \u001b[43m    \u001b[49m\u001b[43minputs_embeds\u001b[49m\u001b[38;5;241;43m=\u001b[39;49m\u001b[43minputs_embeds\u001b[49m\u001b[43m,\u001b[49m\n\u001b[1;32m   1214\u001b[0m \u001b[43m    \u001b[49m\u001b[43muse_cache\u001b[49m\u001b[38;5;241;43m=\u001b[39;49m\u001b[43muse_cache\u001b[49m\u001b[43m,\u001b[49m\n\u001b[1;32m   1215\u001b[0m \u001b[43m    \u001b[49m\u001b[43moutput_attentions\u001b[49m\u001b[38;5;241;43m=\u001b[39;49m\u001b[43moutput_attentions\u001b[49m\u001b[43m,\u001b[49m\n\u001b[1;32m   1216\u001b[0m \u001b[43m    \u001b[49m\u001b[43moutput_hidden_states\u001b[49m\u001b[38;5;241;43m=\u001b[39;49m\u001b[43moutput_hidden_states\u001b[49m\u001b[43m,\u001b[49m\n\u001b[1;32m   1217\u001b[0m \u001b[43m    \u001b[49m\u001b[43mreturn_dict\u001b[49m\u001b[38;5;241;43m=\u001b[39;49m\u001b[43mreturn_dict\u001b[49m\u001b[43m,\u001b[49m\n\u001b[1;32m   1218\u001b[0m \u001b[43m    \u001b[49m\u001b[43mcache_position\u001b[49m\u001b[38;5;241;43m=\u001b[39;49m\u001b[43mcache_position\u001b[49m\u001b[43m,\u001b[49m\n\u001b[1;32m   1219\u001b[0m \u001b[43m\u001b[49m\u001b[43m)\u001b[49m\n\u001b[1;32m   1221\u001b[0m hidden_states \u001b[38;5;241m=\u001b[39m outputs[\u001b[38;5;241m0\u001b[39m]\n\u001b[1;32m   1222\u001b[0m \u001b[38;5;28;01mif\u001b[39;00m \u001b[38;5;28mself\u001b[39m\u001b[38;5;241m.\u001b[39mconfig\u001b[38;5;241m.\u001b[39mpretraining_tp \u001b[38;5;241m>\u001b[39m \u001b[38;5;241m1\u001b[39m:\n",
      "File \u001b[0;32m~/venv/lib/python3.10/site-packages/torch/nn/modules/module.py:1532\u001b[0m, in \u001b[0;36mModule._wrapped_call_impl\u001b[0;34m(self, *args, **kwargs)\u001b[0m\n\u001b[1;32m   1530\u001b[0m     \u001b[38;5;28;01mreturn\u001b[39;00m \u001b[38;5;28mself\u001b[39m\u001b[38;5;241m.\u001b[39m_compiled_call_impl(\u001b[38;5;241m*\u001b[39margs, \u001b[38;5;241m*\u001b[39m\u001b[38;5;241m*\u001b[39mkwargs)  \u001b[38;5;66;03m# type: ignore[misc]\u001b[39;00m\n\u001b[1;32m   1531\u001b[0m \u001b[38;5;28;01melse\u001b[39;00m:\n\u001b[0;32m-> 1532\u001b[0m     \u001b[38;5;28;01mreturn\u001b[39;00m \u001b[38;5;28;43mself\u001b[39;49m\u001b[38;5;241;43m.\u001b[39;49m\u001b[43m_call_impl\u001b[49m\u001b[43m(\u001b[49m\u001b[38;5;241;43m*\u001b[39;49m\u001b[43margs\u001b[49m\u001b[43m,\u001b[49m\u001b[43m \u001b[49m\u001b[38;5;241;43m*\u001b[39;49m\u001b[38;5;241;43m*\u001b[39;49m\u001b[43mkwargs\u001b[49m\u001b[43m)\u001b[49m\n",
      "File \u001b[0;32m~/venv/lib/python3.10/site-packages/torch/nn/modules/module.py:1541\u001b[0m, in \u001b[0;36mModule._call_impl\u001b[0;34m(self, *args, **kwargs)\u001b[0m\n\u001b[1;32m   1536\u001b[0m \u001b[38;5;66;03m# If we don't have any hooks, we want to skip the rest of the logic in\u001b[39;00m\n\u001b[1;32m   1537\u001b[0m \u001b[38;5;66;03m# this function, and just call forward.\u001b[39;00m\n\u001b[1;32m   1538\u001b[0m \u001b[38;5;28;01mif\u001b[39;00m \u001b[38;5;129;01mnot\u001b[39;00m (\u001b[38;5;28mself\u001b[39m\u001b[38;5;241m.\u001b[39m_backward_hooks \u001b[38;5;129;01mor\u001b[39;00m \u001b[38;5;28mself\u001b[39m\u001b[38;5;241m.\u001b[39m_backward_pre_hooks \u001b[38;5;129;01mor\u001b[39;00m \u001b[38;5;28mself\u001b[39m\u001b[38;5;241m.\u001b[39m_forward_hooks \u001b[38;5;129;01mor\u001b[39;00m \u001b[38;5;28mself\u001b[39m\u001b[38;5;241m.\u001b[39m_forward_pre_hooks\n\u001b[1;32m   1539\u001b[0m         \u001b[38;5;129;01mor\u001b[39;00m _global_backward_pre_hooks \u001b[38;5;129;01mor\u001b[39;00m _global_backward_hooks\n\u001b[1;32m   1540\u001b[0m         \u001b[38;5;129;01mor\u001b[39;00m _global_forward_hooks \u001b[38;5;129;01mor\u001b[39;00m _global_forward_pre_hooks):\n\u001b[0;32m-> 1541\u001b[0m     \u001b[38;5;28;01mreturn\u001b[39;00m \u001b[43mforward_call\u001b[49m\u001b[43m(\u001b[49m\u001b[38;5;241;43m*\u001b[39;49m\u001b[43margs\u001b[49m\u001b[43m,\u001b[49m\u001b[43m \u001b[49m\u001b[38;5;241;43m*\u001b[39;49m\u001b[38;5;241;43m*\u001b[39;49m\u001b[43mkwargs\u001b[49m\u001b[43m)\u001b[49m\n\u001b[1;32m   1543\u001b[0m \u001b[38;5;28;01mtry\u001b[39;00m:\n\u001b[1;32m   1544\u001b[0m     result \u001b[38;5;241m=\u001b[39m \u001b[38;5;28;01mNone\u001b[39;00m\n",
      "File \u001b[0;32m~/venv/lib/python3.10/site-packages/accelerate/hooks.py:166\u001b[0m, in \u001b[0;36madd_hook_to_module.<locals>.new_forward\u001b[0;34m(module, *args, **kwargs)\u001b[0m\n\u001b[1;32m    164\u001b[0m         output \u001b[38;5;241m=\u001b[39m module\u001b[38;5;241m.\u001b[39m_old_forward(\u001b[38;5;241m*\u001b[39margs, \u001b[38;5;241m*\u001b[39m\u001b[38;5;241m*\u001b[39mkwargs)\n\u001b[1;32m    165\u001b[0m \u001b[38;5;28;01melse\u001b[39;00m:\n\u001b[0;32m--> 166\u001b[0m     output \u001b[38;5;241m=\u001b[39m \u001b[43mmodule\u001b[49m\u001b[38;5;241;43m.\u001b[39;49m\u001b[43m_old_forward\u001b[49m\u001b[43m(\u001b[49m\u001b[38;5;241;43m*\u001b[39;49m\u001b[43margs\u001b[49m\u001b[43m,\u001b[49m\u001b[43m \u001b[49m\u001b[38;5;241;43m*\u001b[39;49m\u001b[38;5;241;43m*\u001b[39;49m\u001b[43mkwargs\u001b[49m\u001b[43m)\u001b[49m\n\u001b[1;32m    167\u001b[0m \u001b[38;5;28;01mreturn\u001b[39;00m module\u001b[38;5;241m.\u001b[39m_hf_hook\u001b[38;5;241m.\u001b[39mpost_forward(module, output)\n",
      "File \u001b[0;32m~/venv/lib/python3.10/site-packages/transformers/models/llama/modeling_llama.py:1018\u001b[0m, in \u001b[0;36mLlamaModel.forward\u001b[0;34m(self, input_ids, attention_mask, position_ids, past_key_values, inputs_embeds, use_cache, output_attentions, output_hidden_states, return_dict, cache_position)\u001b[0m\n\u001b[1;32m   1007\u001b[0m     layer_outputs \u001b[38;5;241m=\u001b[39m \u001b[38;5;28mself\u001b[39m\u001b[38;5;241m.\u001b[39m_gradient_checkpointing_func(\n\u001b[1;32m   1008\u001b[0m         decoder_layer\u001b[38;5;241m.\u001b[39m\u001b[38;5;21m__call__\u001b[39m,\n\u001b[1;32m   1009\u001b[0m         hidden_states,\n\u001b[0;32m   (...)\u001b[0m\n\u001b[1;32m   1015\u001b[0m         cache_position,\n\u001b[1;32m   1016\u001b[0m     )\n\u001b[1;32m   1017\u001b[0m \u001b[38;5;28;01melse\u001b[39;00m:\n\u001b[0;32m-> 1018\u001b[0m     layer_outputs \u001b[38;5;241m=\u001b[39m \u001b[43mdecoder_layer\u001b[49m\u001b[43m(\u001b[49m\n\u001b[1;32m   1019\u001b[0m \u001b[43m        \u001b[49m\u001b[43mhidden_states\u001b[49m\u001b[43m,\u001b[49m\n\u001b[1;32m   1020\u001b[0m \u001b[43m        \u001b[49m\u001b[43mattention_mask\u001b[49m\u001b[38;5;241;43m=\u001b[39;49m\u001b[43mcausal_mask\u001b[49m\u001b[43m,\u001b[49m\n\u001b[1;32m   1021\u001b[0m \u001b[43m        \u001b[49m\u001b[43mposition_ids\u001b[49m\u001b[38;5;241;43m=\u001b[39;49m\u001b[43mposition_ids\u001b[49m\u001b[43m,\u001b[49m\n\u001b[1;32m   1022\u001b[0m \u001b[43m        \u001b[49m\u001b[43mpast_key_value\u001b[49m\u001b[38;5;241;43m=\u001b[39;49m\u001b[43mpast_key_values\u001b[49m\u001b[43m,\u001b[49m\n\u001b[1;32m   1023\u001b[0m \u001b[43m        \u001b[49m\u001b[43moutput_attentions\u001b[49m\u001b[38;5;241;43m=\u001b[39;49m\u001b[43moutput_attentions\u001b[49m\u001b[43m,\u001b[49m\n\u001b[1;32m   1024\u001b[0m \u001b[43m        \u001b[49m\u001b[43muse_cache\u001b[49m\u001b[38;5;241;43m=\u001b[39;49m\u001b[43muse_cache\u001b[49m\u001b[43m,\u001b[49m\n\u001b[1;32m   1025\u001b[0m \u001b[43m        \u001b[49m\u001b[43mcache_position\u001b[49m\u001b[38;5;241;43m=\u001b[39;49m\u001b[43mcache_position\u001b[49m\u001b[43m,\u001b[49m\n\u001b[1;32m   1026\u001b[0m \u001b[43m    \u001b[49m\u001b[43m)\u001b[49m\n\u001b[1;32m   1028\u001b[0m hidden_states \u001b[38;5;241m=\u001b[39m layer_outputs[\u001b[38;5;241m0\u001b[39m]\n\u001b[1;32m   1030\u001b[0m \u001b[38;5;28;01mif\u001b[39;00m use_cache:\n",
      "File \u001b[0;32m~/venv/lib/python3.10/site-packages/torch/nn/modules/module.py:1532\u001b[0m, in \u001b[0;36mModule._wrapped_call_impl\u001b[0;34m(self, *args, **kwargs)\u001b[0m\n\u001b[1;32m   1530\u001b[0m     \u001b[38;5;28;01mreturn\u001b[39;00m \u001b[38;5;28mself\u001b[39m\u001b[38;5;241m.\u001b[39m_compiled_call_impl(\u001b[38;5;241m*\u001b[39margs, \u001b[38;5;241m*\u001b[39m\u001b[38;5;241m*\u001b[39mkwargs)  \u001b[38;5;66;03m# type: ignore[misc]\u001b[39;00m\n\u001b[1;32m   1531\u001b[0m \u001b[38;5;28;01melse\u001b[39;00m:\n\u001b[0;32m-> 1532\u001b[0m     \u001b[38;5;28;01mreturn\u001b[39;00m \u001b[38;5;28;43mself\u001b[39;49m\u001b[38;5;241;43m.\u001b[39;49m\u001b[43m_call_impl\u001b[49m\u001b[43m(\u001b[49m\u001b[38;5;241;43m*\u001b[39;49m\u001b[43margs\u001b[49m\u001b[43m,\u001b[49m\u001b[43m \u001b[49m\u001b[38;5;241;43m*\u001b[39;49m\u001b[38;5;241;43m*\u001b[39;49m\u001b[43mkwargs\u001b[49m\u001b[43m)\u001b[49m\n",
      "File \u001b[0;32m~/venv/lib/python3.10/site-packages/torch/nn/modules/module.py:1541\u001b[0m, in \u001b[0;36mModule._call_impl\u001b[0;34m(self, *args, **kwargs)\u001b[0m\n\u001b[1;32m   1536\u001b[0m \u001b[38;5;66;03m# If we don't have any hooks, we want to skip the rest of the logic in\u001b[39;00m\n\u001b[1;32m   1537\u001b[0m \u001b[38;5;66;03m# this function, and just call forward.\u001b[39;00m\n\u001b[1;32m   1538\u001b[0m \u001b[38;5;28;01mif\u001b[39;00m \u001b[38;5;129;01mnot\u001b[39;00m (\u001b[38;5;28mself\u001b[39m\u001b[38;5;241m.\u001b[39m_backward_hooks \u001b[38;5;129;01mor\u001b[39;00m \u001b[38;5;28mself\u001b[39m\u001b[38;5;241m.\u001b[39m_backward_pre_hooks \u001b[38;5;129;01mor\u001b[39;00m \u001b[38;5;28mself\u001b[39m\u001b[38;5;241m.\u001b[39m_forward_hooks \u001b[38;5;129;01mor\u001b[39;00m \u001b[38;5;28mself\u001b[39m\u001b[38;5;241m.\u001b[39m_forward_pre_hooks\n\u001b[1;32m   1539\u001b[0m         \u001b[38;5;129;01mor\u001b[39;00m _global_backward_pre_hooks \u001b[38;5;129;01mor\u001b[39;00m _global_backward_hooks\n\u001b[1;32m   1540\u001b[0m         \u001b[38;5;129;01mor\u001b[39;00m _global_forward_hooks \u001b[38;5;129;01mor\u001b[39;00m _global_forward_pre_hooks):\n\u001b[0;32m-> 1541\u001b[0m     \u001b[38;5;28;01mreturn\u001b[39;00m \u001b[43mforward_call\u001b[49m\u001b[43m(\u001b[49m\u001b[38;5;241;43m*\u001b[39;49m\u001b[43margs\u001b[49m\u001b[43m,\u001b[49m\u001b[43m \u001b[49m\u001b[38;5;241;43m*\u001b[39;49m\u001b[38;5;241;43m*\u001b[39;49m\u001b[43mkwargs\u001b[49m\u001b[43m)\u001b[49m\n\u001b[1;32m   1543\u001b[0m \u001b[38;5;28;01mtry\u001b[39;00m:\n\u001b[1;32m   1544\u001b[0m     result \u001b[38;5;241m=\u001b[39m \u001b[38;5;28;01mNone\u001b[39;00m\n",
      "File \u001b[0;32m~/venv/lib/python3.10/site-packages/accelerate/hooks.py:166\u001b[0m, in \u001b[0;36madd_hook_to_module.<locals>.new_forward\u001b[0;34m(module, *args, **kwargs)\u001b[0m\n\u001b[1;32m    164\u001b[0m         output \u001b[38;5;241m=\u001b[39m module\u001b[38;5;241m.\u001b[39m_old_forward(\u001b[38;5;241m*\u001b[39margs, \u001b[38;5;241m*\u001b[39m\u001b[38;5;241m*\u001b[39mkwargs)\n\u001b[1;32m    165\u001b[0m \u001b[38;5;28;01melse\u001b[39;00m:\n\u001b[0;32m--> 166\u001b[0m     output \u001b[38;5;241m=\u001b[39m \u001b[43mmodule\u001b[49m\u001b[38;5;241;43m.\u001b[39;49m\u001b[43m_old_forward\u001b[49m\u001b[43m(\u001b[49m\u001b[38;5;241;43m*\u001b[39;49m\u001b[43margs\u001b[49m\u001b[43m,\u001b[49m\u001b[43m \u001b[49m\u001b[38;5;241;43m*\u001b[39;49m\u001b[38;5;241;43m*\u001b[39;49m\u001b[43mkwargs\u001b[49m\u001b[43m)\u001b[49m\n\u001b[1;32m    167\u001b[0m \u001b[38;5;28;01mreturn\u001b[39;00m module\u001b[38;5;241m.\u001b[39m_hf_hook\u001b[38;5;241m.\u001b[39mpost_forward(module, output)\n",
      "File \u001b[0;32m~/venv/lib/python3.10/site-packages/transformers/models/llama/modeling_llama.py:756\u001b[0m, in \u001b[0;36mLlamaDecoderLayer.forward\u001b[0;34m(self, hidden_states, attention_mask, position_ids, past_key_value, output_attentions, use_cache, cache_position, **kwargs)\u001b[0m\n\u001b[1;32m    754\u001b[0m residual \u001b[38;5;241m=\u001b[39m hidden_states\n\u001b[1;32m    755\u001b[0m hidden_states \u001b[38;5;241m=\u001b[39m \u001b[38;5;28mself\u001b[39m\u001b[38;5;241m.\u001b[39mpost_attention_layernorm(hidden_states)\n\u001b[0;32m--> 756\u001b[0m hidden_states \u001b[38;5;241m=\u001b[39m \u001b[38;5;28;43mself\u001b[39;49m\u001b[38;5;241;43m.\u001b[39;49m\u001b[43mmlp\u001b[49m\u001b[43m(\u001b[49m\u001b[43mhidden_states\u001b[49m\u001b[43m)\u001b[49m\n\u001b[1;32m    757\u001b[0m hidden_states \u001b[38;5;241m=\u001b[39m residual \u001b[38;5;241m+\u001b[39m hidden_states\n\u001b[1;32m    759\u001b[0m outputs \u001b[38;5;241m=\u001b[39m (hidden_states,)\n",
      "File \u001b[0;32m~/venv/lib/python3.10/site-packages/torch/nn/modules/module.py:1532\u001b[0m, in \u001b[0;36mModule._wrapped_call_impl\u001b[0;34m(self, *args, **kwargs)\u001b[0m\n\u001b[1;32m   1530\u001b[0m     \u001b[38;5;28;01mreturn\u001b[39;00m \u001b[38;5;28mself\u001b[39m\u001b[38;5;241m.\u001b[39m_compiled_call_impl(\u001b[38;5;241m*\u001b[39margs, \u001b[38;5;241m*\u001b[39m\u001b[38;5;241m*\u001b[39mkwargs)  \u001b[38;5;66;03m# type: ignore[misc]\u001b[39;00m\n\u001b[1;32m   1531\u001b[0m \u001b[38;5;28;01melse\u001b[39;00m:\n\u001b[0;32m-> 1532\u001b[0m     \u001b[38;5;28;01mreturn\u001b[39;00m \u001b[38;5;28;43mself\u001b[39;49m\u001b[38;5;241;43m.\u001b[39;49m\u001b[43m_call_impl\u001b[49m\u001b[43m(\u001b[49m\u001b[38;5;241;43m*\u001b[39;49m\u001b[43margs\u001b[49m\u001b[43m,\u001b[49m\u001b[43m \u001b[49m\u001b[38;5;241;43m*\u001b[39;49m\u001b[38;5;241;43m*\u001b[39;49m\u001b[43mkwargs\u001b[49m\u001b[43m)\u001b[49m\n",
      "File \u001b[0;32m~/venv/lib/python3.10/site-packages/torch/nn/modules/module.py:1541\u001b[0m, in \u001b[0;36mModule._call_impl\u001b[0;34m(self, *args, **kwargs)\u001b[0m\n\u001b[1;32m   1536\u001b[0m \u001b[38;5;66;03m# If we don't have any hooks, we want to skip the rest of the logic in\u001b[39;00m\n\u001b[1;32m   1537\u001b[0m \u001b[38;5;66;03m# this function, and just call forward.\u001b[39;00m\n\u001b[1;32m   1538\u001b[0m \u001b[38;5;28;01mif\u001b[39;00m \u001b[38;5;129;01mnot\u001b[39;00m (\u001b[38;5;28mself\u001b[39m\u001b[38;5;241m.\u001b[39m_backward_hooks \u001b[38;5;129;01mor\u001b[39;00m \u001b[38;5;28mself\u001b[39m\u001b[38;5;241m.\u001b[39m_backward_pre_hooks \u001b[38;5;129;01mor\u001b[39;00m \u001b[38;5;28mself\u001b[39m\u001b[38;5;241m.\u001b[39m_forward_hooks \u001b[38;5;129;01mor\u001b[39;00m \u001b[38;5;28mself\u001b[39m\u001b[38;5;241m.\u001b[39m_forward_pre_hooks\n\u001b[1;32m   1539\u001b[0m         \u001b[38;5;129;01mor\u001b[39;00m _global_backward_pre_hooks \u001b[38;5;129;01mor\u001b[39;00m _global_backward_hooks\n\u001b[1;32m   1540\u001b[0m         \u001b[38;5;129;01mor\u001b[39;00m _global_forward_hooks \u001b[38;5;129;01mor\u001b[39;00m _global_forward_pre_hooks):\n\u001b[0;32m-> 1541\u001b[0m     \u001b[38;5;28;01mreturn\u001b[39;00m \u001b[43mforward_call\u001b[49m\u001b[43m(\u001b[49m\u001b[38;5;241;43m*\u001b[39;49m\u001b[43margs\u001b[49m\u001b[43m,\u001b[49m\u001b[43m \u001b[49m\u001b[38;5;241;43m*\u001b[39;49m\u001b[38;5;241;43m*\u001b[39;49m\u001b[43mkwargs\u001b[49m\u001b[43m)\u001b[49m\n\u001b[1;32m   1543\u001b[0m \u001b[38;5;28;01mtry\u001b[39;00m:\n\u001b[1;32m   1544\u001b[0m     result \u001b[38;5;241m=\u001b[39m \u001b[38;5;28;01mNone\u001b[39;00m\n",
      "File \u001b[0;32m~/venv/lib/python3.10/site-packages/accelerate/hooks.py:166\u001b[0m, in \u001b[0;36madd_hook_to_module.<locals>.new_forward\u001b[0;34m(module, *args, **kwargs)\u001b[0m\n\u001b[1;32m    164\u001b[0m         output \u001b[38;5;241m=\u001b[39m module\u001b[38;5;241m.\u001b[39m_old_forward(\u001b[38;5;241m*\u001b[39margs, \u001b[38;5;241m*\u001b[39m\u001b[38;5;241m*\u001b[39mkwargs)\n\u001b[1;32m    165\u001b[0m \u001b[38;5;28;01melse\u001b[39;00m:\n\u001b[0;32m--> 166\u001b[0m     output \u001b[38;5;241m=\u001b[39m \u001b[43mmodule\u001b[49m\u001b[38;5;241;43m.\u001b[39;49m\u001b[43m_old_forward\u001b[49m\u001b[43m(\u001b[49m\u001b[38;5;241;43m*\u001b[39;49m\u001b[43margs\u001b[49m\u001b[43m,\u001b[49m\u001b[43m \u001b[49m\u001b[38;5;241;43m*\u001b[39;49m\u001b[38;5;241;43m*\u001b[39;49m\u001b[43mkwargs\u001b[49m\u001b[43m)\u001b[49m\n\u001b[1;32m    167\u001b[0m \u001b[38;5;28;01mreturn\u001b[39;00m module\u001b[38;5;241m.\u001b[39m_hf_hook\u001b[38;5;241m.\u001b[39mpost_forward(module, output)\n",
      "File \u001b[0;32m~/venv/lib/python3.10/site-packages/transformers/models/llama/modeling_llama.py:240\u001b[0m, in \u001b[0;36mLlamaMLP.forward\u001b[0;34m(self, x)\u001b[0m\n\u001b[1;32m    238\u001b[0m     down_proj \u001b[38;5;241m=\u001b[39m \u001b[38;5;28msum\u001b[39m(down_proj)\n\u001b[1;32m    239\u001b[0m \u001b[38;5;28;01melse\u001b[39;00m:\n\u001b[0;32m--> 240\u001b[0m     down_proj \u001b[38;5;241m=\u001b[39m \u001b[38;5;28mself\u001b[39m\u001b[38;5;241m.\u001b[39mdown_proj(\u001b[38;5;28mself\u001b[39m\u001b[38;5;241m.\u001b[39mact_fn(\u001b[38;5;28mself\u001b[39m\u001b[38;5;241m.\u001b[39mgate_proj(x)) \u001b[38;5;241m*\u001b[39m \u001b[38;5;28;43mself\u001b[39;49m\u001b[38;5;241;43m.\u001b[39;49m\u001b[43mup_proj\u001b[49m\u001b[43m(\u001b[49m\u001b[43mx\u001b[49m\u001b[43m)\u001b[49m)\n\u001b[1;32m    242\u001b[0m \u001b[38;5;28;01mreturn\u001b[39;00m down_proj\n",
      "File \u001b[0;32m~/venv/lib/python3.10/site-packages/torch/nn/modules/module.py:1532\u001b[0m, in \u001b[0;36mModule._wrapped_call_impl\u001b[0;34m(self, *args, **kwargs)\u001b[0m\n\u001b[1;32m   1530\u001b[0m     \u001b[38;5;28;01mreturn\u001b[39;00m \u001b[38;5;28mself\u001b[39m\u001b[38;5;241m.\u001b[39m_compiled_call_impl(\u001b[38;5;241m*\u001b[39margs, \u001b[38;5;241m*\u001b[39m\u001b[38;5;241m*\u001b[39mkwargs)  \u001b[38;5;66;03m# type: ignore[misc]\u001b[39;00m\n\u001b[1;32m   1531\u001b[0m \u001b[38;5;28;01melse\u001b[39;00m:\n\u001b[0;32m-> 1532\u001b[0m     \u001b[38;5;28;01mreturn\u001b[39;00m \u001b[38;5;28;43mself\u001b[39;49m\u001b[38;5;241;43m.\u001b[39;49m\u001b[43m_call_impl\u001b[49m\u001b[43m(\u001b[49m\u001b[38;5;241;43m*\u001b[39;49m\u001b[43margs\u001b[49m\u001b[43m,\u001b[49m\u001b[43m \u001b[49m\u001b[38;5;241;43m*\u001b[39;49m\u001b[38;5;241;43m*\u001b[39;49m\u001b[43mkwargs\u001b[49m\u001b[43m)\u001b[49m\n",
      "File \u001b[0;32m~/venv/lib/python3.10/site-packages/torch/nn/modules/module.py:1541\u001b[0m, in \u001b[0;36mModule._call_impl\u001b[0;34m(self, *args, **kwargs)\u001b[0m\n\u001b[1;32m   1536\u001b[0m \u001b[38;5;66;03m# If we don't have any hooks, we want to skip the rest of the logic in\u001b[39;00m\n\u001b[1;32m   1537\u001b[0m \u001b[38;5;66;03m# this function, and just call forward.\u001b[39;00m\n\u001b[1;32m   1538\u001b[0m \u001b[38;5;28;01mif\u001b[39;00m \u001b[38;5;129;01mnot\u001b[39;00m (\u001b[38;5;28mself\u001b[39m\u001b[38;5;241m.\u001b[39m_backward_hooks \u001b[38;5;129;01mor\u001b[39;00m \u001b[38;5;28mself\u001b[39m\u001b[38;5;241m.\u001b[39m_backward_pre_hooks \u001b[38;5;129;01mor\u001b[39;00m \u001b[38;5;28mself\u001b[39m\u001b[38;5;241m.\u001b[39m_forward_hooks \u001b[38;5;129;01mor\u001b[39;00m \u001b[38;5;28mself\u001b[39m\u001b[38;5;241m.\u001b[39m_forward_pre_hooks\n\u001b[1;32m   1539\u001b[0m         \u001b[38;5;129;01mor\u001b[39;00m _global_backward_pre_hooks \u001b[38;5;129;01mor\u001b[39;00m _global_backward_hooks\n\u001b[1;32m   1540\u001b[0m         \u001b[38;5;129;01mor\u001b[39;00m _global_forward_hooks \u001b[38;5;129;01mor\u001b[39;00m _global_forward_pre_hooks):\n\u001b[0;32m-> 1541\u001b[0m     \u001b[38;5;28;01mreturn\u001b[39;00m \u001b[43mforward_call\u001b[49m\u001b[43m(\u001b[49m\u001b[38;5;241;43m*\u001b[39;49m\u001b[43margs\u001b[49m\u001b[43m,\u001b[49m\u001b[43m \u001b[49m\u001b[38;5;241;43m*\u001b[39;49m\u001b[38;5;241;43m*\u001b[39;49m\u001b[43mkwargs\u001b[49m\u001b[43m)\u001b[49m\n\u001b[1;32m   1543\u001b[0m \u001b[38;5;28;01mtry\u001b[39;00m:\n\u001b[1;32m   1544\u001b[0m     result \u001b[38;5;241m=\u001b[39m \u001b[38;5;28;01mNone\u001b[39;00m\n",
      "File \u001b[0;32m~/venv/lib/python3.10/site-packages/accelerate/hooks.py:166\u001b[0m, in \u001b[0;36madd_hook_to_module.<locals>.new_forward\u001b[0;34m(module, *args, **kwargs)\u001b[0m\n\u001b[1;32m    164\u001b[0m         output \u001b[38;5;241m=\u001b[39m module\u001b[38;5;241m.\u001b[39m_old_forward(\u001b[38;5;241m*\u001b[39margs, \u001b[38;5;241m*\u001b[39m\u001b[38;5;241m*\u001b[39mkwargs)\n\u001b[1;32m    165\u001b[0m \u001b[38;5;28;01melse\u001b[39;00m:\n\u001b[0;32m--> 166\u001b[0m     output \u001b[38;5;241m=\u001b[39m \u001b[43mmodule\u001b[49m\u001b[38;5;241;43m.\u001b[39;49m\u001b[43m_old_forward\u001b[49m\u001b[43m(\u001b[49m\u001b[38;5;241;43m*\u001b[39;49m\u001b[43margs\u001b[49m\u001b[43m,\u001b[49m\u001b[43m \u001b[49m\u001b[38;5;241;43m*\u001b[39;49m\u001b[38;5;241;43m*\u001b[39;49m\u001b[43mkwargs\u001b[49m\u001b[43m)\u001b[49m\n\u001b[1;32m    167\u001b[0m \u001b[38;5;28;01mreturn\u001b[39;00m module\u001b[38;5;241m.\u001b[39m_hf_hook\u001b[38;5;241m.\u001b[39mpost_forward(module, output)\n",
      "File \u001b[0;32m~/venv/lib/python3.10/site-packages/bitsandbytes/nn/modules.py:797\u001b[0m, in \u001b[0;36mLinear8bitLt.forward\u001b[0;34m(self, x)\u001b[0m\n\u001b[1;32m    794\u001b[0m \u001b[38;5;28;01mif\u001b[39;00m \u001b[38;5;28mself\u001b[39m\u001b[38;5;241m.\u001b[39mbias \u001b[38;5;129;01mis\u001b[39;00m \u001b[38;5;129;01mnot\u001b[39;00m \u001b[38;5;28;01mNone\u001b[39;00m \u001b[38;5;129;01mand\u001b[39;00m \u001b[38;5;28mself\u001b[39m\u001b[38;5;241m.\u001b[39mbias\u001b[38;5;241m.\u001b[39mdtype \u001b[38;5;241m!=\u001b[39m x\u001b[38;5;241m.\u001b[39mdtype:\n\u001b[1;32m    795\u001b[0m     \u001b[38;5;28mself\u001b[39m\u001b[38;5;241m.\u001b[39mbias\u001b[38;5;241m.\u001b[39mdata \u001b[38;5;241m=\u001b[39m \u001b[38;5;28mself\u001b[39m\u001b[38;5;241m.\u001b[39mbias\u001b[38;5;241m.\u001b[39mdata\u001b[38;5;241m.\u001b[39mto(x\u001b[38;5;241m.\u001b[39mdtype)\n\u001b[0;32m--> 797\u001b[0m out \u001b[38;5;241m=\u001b[39m \u001b[43mbnb\u001b[49m\u001b[38;5;241;43m.\u001b[39;49m\u001b[43mmatmul\u001b[49m\u001b[43m(\u001b[49m\u001b[43mx\u001b[49m\u001b[43m,\u001b[49m\u001b[43m \u001b[49m\u001b[38;5;28;43mself\u001b[39;49m\u001b[38;5;241;43m.\u001b[39;49m\u001b[43mweight\u001b[49m\u001b[43m,\u001b[49m\u001b[43m \u001b[49m\u001b[43mbias\u001b[49m\u001b[38;5;241;43m=\u001b[39;49m\u001b[38;5;28;43mself\u001b[39;49m\u001b[38;5;241;43m.\u001b[39;49m\u001b[43mbias\u001b[49m\u001b[43m,\u001b[49m\u001b[43m \u001b[49m\u001b[43mstate\u001b[49m\u001b[38;5;241;43m=\u001b[39;49m\u001b[38;5;28;43mself\u001b[39;49m\u001b[38;5;241;43m.\u001b[39;49m\u001b[43mstate\u001b[49m\u001b[43m)\u001b[49m\n\u001b[1;32m    799\u001b[0m \u001b[38;5;28;01mif\u001b[39;00m \u001b[38;5;129;01mnot\u001b[39;00m \u001b[38;5;28mself\u001b[39m\u001b[38;5;241m.\u001b[39mstate\u001b[38;5;241m.\u001b[39mhas_fp16_weights:\n\u001b[1;32m    800\u001b[0m     \u001b[38;5;28;01mif\u001b[39;00m \u001b[38;5;28mself\u001b[39m\u001b[38;5;241m.\u001b[39mstate\u001b[38;5;241m.\u001b[39mCB \u001b[38;5;129;01mis\u001b[39;00m \u001b[38;5;129;01mnot\u001b[39;00m \u001b[38;5;28;01mNone\u001b[39;00m \u001b[38;5;129;01mand\u001b[39;00m \u001b[38;5;28mself\u001b[39m\u001b[38;5;241m.\u001b[39mstate\u001b[38;5;241m.\u001b[39mCxB \u001b[38;5;129;01mis\u001b[39;00m \u001b[38;5;129;01mnot\u001b[39;00m \u001b[38;5;28;01mNone\u001b[39;00m:\n\u001b[1;32m    801\u001b[0m         \u001b[38;5;66;03m# we converted 8-bit row major to turing/ampere format in the first inference pass\u001b[39;00m\n\u001b[1;32m    802\u001b[0m         \u001b[38;5;66;03m# we no longer need the row-major weight\u001b[39;00m\n",
      "File \u001b[0;32m~/venv/lib/python3.10/site-packages/bitsandbytes/autograd/_functions.py:556\u001b[0m, in \u001b[0;36mmatmul\u001b[0;34m(A, B, out, state, threshold, bias)\u001b[0m\n\u001b[1;32m    554\u001b[0m \u001b[38;5;28;01mif\u001b[39;00m threshold \u001b[38;5;241m>\u001b[39m \u001b[38;5;241m0.0\u001b[39m:\n\u001b[1;32m    555\u001b[0m     state\u001b[38;5;241m.\u001b[39mthreshold \u001b[38;5;241m=\u001b[39m threshold\n\u001b[0;32m--> 556\u001b[0m \u001b[38;5;28;01mreturn\u001b[39;00m \u001b[43mMatMul8bitLt\u001b[49m\u001b[38;5;241;43m.\u001b[39;49m\u001b[43mapply\u001b[49m\u001b[43m(\u001b[49m\u001b[43mA\u001b[49m\u001b[43m,\u001b[49m\u001b[43m \u001b[49m\u001b[43mB\u001b[49m\u001b[43m,\u001b[49m\u001b[43m \u001b[49m\u001b[43mout\u001b[49m\u001b[43m,\u001b[49m\u001b[43m \u001b[49m\u001b[43mbias\u001b[49m\u001b[43m,\u001b[49m\u001b[43m \u001b[49m\u001b[43mstate\u001b[49m\u001b[43m)\u001b[49m\n",
      "File \u001b[0;32m~/venv/lib/python3.10/site-packages/torch/autograd/function.py:598\u001b[0m, in \u001b[0;36mFunction.apply\u001b[0;34m(cls, *args, **kwargs)\u001b[0m\n\u001b[1;32m    595\u001b[0m \u001b[38;5;28;01mif\u001b[39;00m \u001b[38;5;129;01mnot\u001b[39;00m torch\u001b[38;5;241m.\u001b[39m_C\u001b[38;5;241m.\u001b[39m_are_functorch_transforms_active():\n\u001b[1;32m    596\u001b[0m     \u001b[38;5;66;03m# See NOTE: [functorch vjp and autograd interaction]\u001b[39;00m\n\u001b[1;32m    597\u001b[0m     args \u001b[38;5;241m=\u001b[39m _functorch\u001b[38;5;241m.\u001b[39mutils\u001b[38;5;241m.\u001b[39munwrap_dead_wrappers(args)\n\u001b[0;32m--> 598\u001b[0m     \u001b[38;5;28;01mreturn\u001b[39;00m \u001b[38;5;28;43msuper\u001b[39;49m\u001b[43m(\u001b[49m\u001b[43m)\u001b[49m\u001b[38;5;241;43m.\u001b[39;49m\u001b[43mapply\u001b[49m\u001b[43m(\u001b[49m\u001b[38;5;241;43m*\u001b[39;49m\u001b[43margs\u001b[49m\u001b[43m,\u001b[49m\u001b[43m \u001b[49m\u001b[38;5;241;43m*\u001b[39;49m\u001b[38;5;241;43m*\u001b[39;49m\u001b[43mkwargs\u001b[49m\u001b[43m)\u001b[49m  \u001b[38;5;66;03m# type: ignore[misc]\u001b[39;00m\n\u001b[1;32m    600\u001b[0m \u001b[38;5;28;01mif\u001b[39;00m \u001b[38;5;129;01mnot\u001b[39;00m is_setup_ctx_defined:\n\u001b[1;32m    601\u001b[0m     \u001b[38;5;28;01mraise\u001b[39;00m \u001b[38;5;167;01mRuntimeError\u001b[39;00m(\n\u001b[1;32m    602\u001b[0m         \u001b[38;5;124m\"\u001b[39m\u001b[38;5;124mIn order to use an autograd.Function with functorch transforms \u001b[39m\u001b[38;5;124m\"\u001b[39m\n\u001b[1;32m    603\u001b[0m         \u001b[38;5;124m\"\u001b[39m\u001b[38;5;124m(vmap, grad, jvp, jacrev, ...), it must override the setup_context \u001b[39m\u001b[38;5;124m\"\u001b[39m\n\u001b[1;32m    604\u001b[0m         \u001b[38;5;124m\"\u001b[39m\u001b[38;5;124mstaticmethod. For more details, please see \u001b[39m\u001b[38;5;124m\"\u001b[39m\n\u001b[1;32m    605\u001b[0m         \u001b[38;5;124m\"\u001b[39m\u001b[38;5;124mhttps://pytorch.org/docs/master/notes/extending.func.html\u001b[39m\u001b[38;5;124m\"\u001b[39m\n\u001b[1;32m    606\u001b[0m     )\n",
      "File \u001b[0;32m~/venv/lib/python3.10/site-packages/bitsandbytes/autograd/_functions.py:398\u001b[0m, in \u001b[0;36mMatMul8bitLt.forward\u001b[0;34m(ctx, A, B, out, bias, state)\u001b[0m\n\u001b[1;32m    395\u001b[0m out32, Sout32 \u001b[38;5;241m=\u001b[39m F\u001b[38;5;241m.\u001b[39migemmlt(C32A, state\u001b[38;5;241m.\u001b[39mCxB, SA, state\u001b[38;5;241m.\u001b[39mSB)\n\u001b[1;32m    396\u001b[0m \u001b[38;5;28;01mif\u001b[39;00m bias \u001b[38;5;129;01mis\u001b[39;00m \u001b[38;5;28;01mNone\u001b[39;00m \u001b[38;5;129;01mor\u001b[39;00m bias\u001b[38;5;241m.\u001b[39mdtype \u001b[38;5;241m==\u001b[39m torch\u001b[38;5;241m.\u001b[39mfloat16:\n\u001b[1;32m    397\u001b[0m     \u001b[38;5;66;03m# we apply the fused bias here\u001b[39;00m\n\u001b[0;32m--> 398\u001b[0m     output \u001b[38;5;241m=\u001b[39m \u001b[43mF\u001b[49m\u001b[38;5;241;43m.\u001b[39;49m\u001b[43mmm_dequant\u001b[49m\u001b[43m(\u001b[49m\u001b[43mout32\u001b[49m\u001b[43m,\u001b[49m\u001b[43m \u001b[49m\u001b[43mSout32\u001b[49m\u001b[43m,\u001b[49m\u001b[43m \u001b[49m\u001b[43mSCA\u001b[49m\u001b[43m,\u001b[49m\u001b[43m \u001b[49m\u001b[43mstate\u001b[49m\u001b[38;5;241;43m.\u001b[39;49m\u001b[43mSCB\u001b[49m\u001b[43m,\u001b[49m\u001b[43m \u001b[49m\u001b[43mbias\u001b[49m\u001b[38;5;241;43m=\u001b[39;49m\u001b[43mbias\u001b[49m\u001b[43m)\u001b[49m\n\u001b[1;32m    399\u001b[0m     output \u001b[38;5;241m=\u001b[39m output\u001b[38;5;241m.\u001b[39mto(A\u001b[38;5;241m.\u001b[39mdtype)\n\u001b[1;32m    400\u001b[0m \u001b[38;5;28;01melse\u001b[39;00m:  \u001b[38;5;66;03m# apply bias separately\u001b[39;00m\n",
      "File \u001b[0;32m~/venv/lib/python3.10/site-packages/bitsandbytes/functional.py:2353\u001b[0m, in \u001b[0;36mmm_dequant\u001b[0;34m(A, quant_state, row_stats, col_stats, out, new_row_stats, new_col_stats, bias)\u001b[0m\n\u001b[1;32m   2350\u001b[0m     out_shape \u001b[38;5;241m=\u001b[39m (out_shape[\u001b[38;5;241m0\u001b[39m] \u001b[38;5;241m*\u001b[39m out_shape[\u001b[38;5;241m1\u001b[39m], out_shape[\u001b[38;5;241m2\u001b[39m])\n\u001b[1;32m   2352\u001b[0m \u001b[38;5;28;01mif\u001b[39;00m out \u001b[38;5;129;01mis\u001b[39;00m \u001b[38;5;28;01mNone\u001b[39;00m:\n\u001b[0;32m-> 2353\u001b[0m     out \u001b[38;5;241m=\u001b[39m \u001b[43mtorch\u001b[49m\u001b[38;5;241;43m.\u001b[39;49m\u001b[43mempty\u001b[49m\u001b[43m(\u001b[49m\u001b[43mout_shape\u001b[49m\u001b[43m,\u001b[49m\u001b[43m \u001b[49m\u001b[43mdtype\u001b[49m\u001b[38;5;241;43m=\u001b[39;49m\u001b[43mtorch\u001b[49m\u001b[38;5;241;43m.\u001b[39;49m\u001b[43mfloat16\u001b[49m\u001b[43m,\u001b[49m\u001b[43m \u001b[49m\u001b[43mdevice\u001b[49m\u001b[38;5;241;43m=\u001b[39;49m\u001b[43mA\u001b[49m\u001b[38;5;241;43m.\u001b[39;49m\u001b[43mdevice\u001b[49m\u001b[43m)\u001b[49m\n\u001b[1;32m   2354\u001b[0m \u001b[38;5;28;01mif\u001b[39;00m new_row_stats \u001b[38;5;129;01mis\u001b[39;00m \u001b[38;5;28;01mNone\u001b[39;00m:\n\u001b[1;32m   2355\u001b[0m     new_row_stats \u001b[38;5;241m=\u001b[39m torch\u001b[38;5;241m.\u001b[39mempty(out_shape[\u001b[38;5;241m0\u001b[39m], dtype\u001b[38;5;241m=\u001b[39mtorch\u001b[38;5;241m.\u001b[39mfloat32, device\u001b[38;5;241m=\u001b[39mA\u001b[38;5;241m.\u001b[39mdevice)\n",
      "\u001b[0;31mOutOfMemoryError\u001b[0m: CUDA out of memory. Tried to allocate 20.00 MiB. GPU "
     ]
    }
   ],
   "source": [
    "# labels, preds = dataset1.evaluate(model0, tokenizer, batch_size=1)\n",
    "# print(torch.sum(torch.tensor(labels) == torch.tensor(preds))/len(labels))"
   ]
  },
  {
   "cell_type": "code",
   "execution_count": 68,
   "metadata": {},
   "outputs": [],
   "source": [
    "# model = LlamaForCausalLM.from_pretrained('/root/llama_distillation/experiments/models/baseline').to(DEVICE)\n",
    "# model = train_dataset.fine_tune(model, epochs=5, lr=1e-2)"
   ]
  },
  {
   "cell_type": "code",
   "execution_count": 9,
   "metadata": {},
   "outputs": [
    {
     "name": "stderr",
     "output_type": "stream",
     "text": [
      "  0%|          | 0/1000 [00:00<?, ?it/s]/tmp/ipykernel_665342/2958193490.py:5: UserWarning: To copy construct from a tensor, it is recommended to use sourceTensor.clone().detach() or sourceTensor.clone().detach().requires_grad_(True), rather than torch.tensor(sourceTensor).\n",
      "  return {k: torch.tensor(v).to(device) for k, v in batch.items()}\n",
      "100%|██████████| 1000/1000 [02:55<00:00,  5.69it/s]"
     ]
    },
    {
     "name": "stdout",
     "output_type": "stream",
     "text": [
      "tensor(0.5090)\n"
     ]
    },
    {
     "name": "stderr",
     "output_type": "stream",
     "text": [
      "\n"
     ]
    }
   ],
   "source": [
    "labels, preds = dataset.evaluate(model, tokenizer)"
   ]
  },
  {
   "cell_type": "code",
   "execution_count": 10,
   "metadata": {},
   "outputs": [
    {
     "name": "stderr",
     "output_type": "stream",
     "text": [
      "  0%|          | 0/1000 [00:00<?, ?it/s]"
     ]
    },
    {
     "name": "stderr",
     "output_type": "stream",
     "text": [
      "/tmp/ipykernel_665342/2958193490.py:5: UserWarning: To copy construct from a tensor, it is recommended to use sourceTensor.clone().detach() or sourceTensor.clone().detach().requires_grad_(True), rather than torch.tensor(sourceTensor).\n",
      "  return {k: torch.tensor(v).to(device) for k, v in batch.items()}\n",
      "100%|██████████| 1000/1000 [02:56<00:00,  5.66it/s]"
     ]
    },
    {
     "name": "stdout",
     "output_type": "stream",
     "text": [
      "tensor(0.5070)\n"
     ]
    },
    {
     "name": "stderr",
     "output_type": "stream",
     "text": [
      "\n"
     ]
    }
   ],
   "source": [
    "labels, preds = dataset.evaluate(model2, tokenizer)"
   ]
  },
  {
   "cell_type": "code",
   "execution_count": 11,
   "metadata": {},
   "outputs": [
    {
     "name": "stderr",
     "output_type": "stream",
     "text": [
      "  0%|          | 0/1000 [00:00<?, ?it/s]"
     ]
    },
    {
     "name": "stderr",
     "output_type": "stream",
     "text": [
      "/tmp/ipykernel_665342/2958193490.py:5: UserWarning: To copy construct from a tensor, it is recommended to use sourceTensor.clone().detach() or sourceTensor.clone().detach().requires_grad_(True), rather than torch.tensor(sourceTensor).\n",
      "  return {k: torch.tensor(v).to(device) for k, v in batch.items()}\n",
      "100%|██████████| 1000/1000 [03:56<00:00,  4.23it/s]"
     ]
    },
    {
     "name": "stdout",
     "output_type": "stream",
     "text": [
      "tensor(0.4980)\n"
     ]
    },
    {
     "name": "stderr",
     "output_type": "stream",
     "text": [
      "\n"
     ]
    }
   ],
   "source": [
    "labels, preds = dataset.evaluate(model_1b, tokenizer_1b)"
   ]
  },
  {
   "cell_type": "code",
   "execution_count": 12,
   "metadata": {},
   "outputs": [
    {
     "name": "stderr",
     "output_type": "stream",
     "text": [
      "  0%|          | 0/1000 [00:00<?, ?it/s]"
     ]
    },
    {
     "name": "stderr",
     "output_type": "stream",
     "text": [
      "/tmp/ipykernel_665342/2958193490.py:5: UserWarning: To copy construct from a tensor, it is recommended to use sourceTensor.clone().detach() or sourceTensor.clone().detach().requires_grad_(True), rather than torch.tensor(sourceTensor).\n",
      "  return {k: torch.tensor(v).to(device) for k, v in batch.items()}\n",
      "100%|██████████| 1000/1000 [03:48<00:00,  4.37it/s]"
     ]
    },
    {
     "name": "stdout",
     "output_type": "stream",
     "text": [
      "tensor(0.5050)\n"
     ]
    },
    {
     "name": "stderr",
     "output_type": "stream",
     "text": [
      "\n"
     ]
    }
   ],
   "source": [
    "labels, preds = dataset.evaluate(model3, tokenizer_1b)"
   ]
  },
  {
   "cell_type": "code",
   "execution_count": 7,
   "metadata": {},
   "outputs": [
    {
     "name": "stderr",
     "output_type": "stream",
     "text": [
      "/tmp/ipykernel_649754/2958193490.py:5: UserWarning: To copy construct from a tensor, it is recommended to use sourceTensor.clone().detach() or sourceTensor.clone().detach().requires_grad_(True), rather than torch.tensor(sourceTensor).\n",
      "  return {k: torch.tensor(v).to(device) for k, v in batch.items()}\n",
      "/root/venv/lib/python3.10/site-packages/bitsandbytes/autograd/_functions.py:316: UserWarning: MatMul8bitLt: inputs will be cast from torch.bfloat16 to float16 during quantization\n",
      "  warnings.warn(f\"MatMul8bitLt: inputs will be cast from {A.dtype} to float16 during quantization\")\n"
     ]
    },
    {
     "name": "stdout",
     "output_type": "stream",
     "text": [
      "['\\n\\nA) The Roman period\\nB)'] 1 62\n",
      "['\\nYes, the answer is suitable. According to'] 0 95\n",
      "['\\nNo, it is not a suitable answer.'] 0 89\n",
      "['\\n\\nHistoric Heart of Newcastle upon'] 1 90\n",
      "['\\n\\nNo, it is not a suitable answer'] 1 57\n",
      "['\\n\\nNo, it is not suitable answer.'] 0 48\n",
      "['\\n\\nYes, that is a suitable answer.'] 1 61\n",
      "['\\nA: Ayman al-Zawah'] 0 67\n",
      "['\\nYes, that is correct! Tesla'] 0 64\n",
      "['\\n\\n\\nAnswer:\\nYes, UMC'] 0 38\n",
      "['\\n\\nA) Glyceraldehy'] 1 68\n",
      "['\\n\\nThe answer is: P&O Cru'] 1 95\n",
      "['No, the Victoria and Albert Museum was founded in'] 1 35\n"
     ]
    },
    {
     "ename": "KeyboardInterrupt",
     "evalue": "",
     "output_type": "error",
     "traceback": [
      "\u001b[0;31m---------------------------------------------------------------------------\u001b[0m",
      "\u001b[0;31mKeyboardInterrupt\u001b[0m                         Traceback (most recent call last)",
      "Cell \u001b[0;32mIn[7], line 4\u001b[0m\n\u001b[1;32m      2\u001b[0m tokens \u001b[38;5;241m=\u001b[39m batch_to_device(tokenizer(dataset\u001b[38;5;241m.\u001b[39mdataset[i][\u001b[38;5;124m'\u001b[39m\u001b[38;5;124mprompt\u001b[39m\u001b[38;5;124m'\u001b[39m], return_tensors\u001b[38;5;241m=\u001b[39m\u001b[38;5;124m'\u001b[39m\u001b[38;5;124mpt\u001b[39m\u001b[38;5;124m'\u001b[39m))\n\u001b[1;32m      3\u001b[0m l \u001b[38;5;241m=\u001b[39m \u001b[38;5;28mlen\u001b[39m(tokens[\u001b[38;5;124m'\u001b[39m\u001b[38;5;124minput_ids\u001b[39m\u001b[38;5;124m'\u001b[39m][\u001b[38;5;241m0\u001b[39m])\n\u001b[0;32m----> 4\u001b[0m output \u001b[38;5;241m=\u001b[39m \u001b[43mmodel0\u001b[49m\u001b[38;5;241;43m.\u001b[39;49m\u001b[43mgenerate\u001b[49m\u001b[43m(\u001b[49m\n\u001b[1;32m      5\u001b[0m \u001b[43m    \u001b[49m\u001b[38;5;241;43m*\u001b[39;49m\u001b[38;5;241;43m*\u001b[39;49m\u001b[43mtokens\u001b[49m\u001b[43m,\u001b[49m\n\u001b[1;32m      6\u001b[0m \u001b[43m    \u001b[49m\u001b[43mmax_length\u001b[49m\u001b[38;5;241;43m=\u001b[39;49m\u001b[38;5;241;43m10\u001b[39;49m\u001b[43m \u001b[49m\u001b[38;5;241;43m+\u001b[39;49m\u001b[43m \u001b[49m\u001b[43ml\u001b[49m\n\u001b[1;32m      7\u001b[0m \u001b[43m\u001b[49m\u001b[43m)\u001b[49m\n\u001b[1;32m      8\u001b[0m \u001b[38;5;28mprint\u001b[39m(tokenizer\u001b[38;5;241m.\u001b[39mbatch_decode(output[:,l:]), dataset[i][\u001b[38;5;124m'\u001b[39m\u001b[38;5;124mlabel\u001b[39m\u001b[38;5;124m'\u001b[39m], l)\n",
      "File \u001b[0;32m~/venv/lib/python3.10/site-packages/torch/utils/_contextlib.py:115\u001b[0m, in \u001b[0;36mcontext_decorator.<locals>.decorate_context\u001b[0;34m(*args, **kwargs)\u001b[0m\n\u001b[1;32m    112\u001b[0m \u001b[38;5;129m@functools\u001b[39m\u001b[38;5;241m.\u001b[39mwraps(func)\n\u001b[1;32m    113\u001b[0m \u001b[38;5;28;01mdef\u001b[39;00m \u001b[38;5;21mdecorate_context\u001b[39m(\u001b[38;5;241m*\u001b[39margs, \u001b[38;5;241m*\u001b[39m\u001b[38;5;241m*\u001b[39mkwargs):\n\u001b[1;32m    114\u001b[0m     \u001b[38;5;28;01mwith\u001b[39;00m ctx_factory():\n\u001b[0;32m--> 115\u001b[0m         \u001b[38;5;28;01mreturn\u001b[39;00m \u001b[43mfunc\u001b[49m\u001b[43m(\u001b[49m\u001b[38;5;241;43m*\u001b[39;49m\u001b[43margs\u001b[49m\u001b[43m,\u001b[49m\u001b[43m \u001b[49m\u001b[38;5;241;43m*\u001b[39;49m\u001b[38;5;241;43m*\u001b[39;49m\u001b[43mkwargs\u001b[49m\u001b[43m)\u001b[49m\n",
      "File \u001b[0;32m~/venv/lib/python3.10/site-packages/transformers/generation/utils.py:1622\u001b[0m, in \u001b[0;36mGenerationMixin.generate\u001b[0;34m(self, inputs, generation_config, logits_processor, stopping_criteria, prefix_allowed_tokens_fn, synced_gpus, assistant_model, streamer, negative_prompt_ids, negative_prompt_attention_mask, **kwargs)\u001b[0m\n\u001b[1;32m   1614\u001b[0m     input_ids, model_kwargs \u001b[38;5;241m=\u001b[39m \u001b[38;5;28mself\u001b[39m\u001b[38;5;241m.\u001b[39m_expand_inputs_for_generation(\n\u001b[1;32m   1615\u001b[0m         input_ids\u001b[38;5;241m=\u001b[39minput_ids,\n\u001b[1;32m   1616\u001b[0m         expand_size\u001b[38;5;241m=\u001b[39mgeneration_config\u001b[38;5;241m.\u001b[39mnum_return_sequences,\n\u001b[1;32m   1617\u001b[0m         is_encoder_decoder\u001b[38;5;241m=\u001b[39m\u001b[38;5;28mself\u001b[39m\u001b[38;5;241m.\u001b[39mconfig\u001b[38;5;241m.\u001b[39mis_encoder_decoder,\n\u001b[1;32m   1618\u001b[0m         \u001b[38;5;241m*\u001b[39m\u001b[38;5;241m*\u001b[39mmodel_kwargs,\n\u001b[1;32m   1619\u001b[0m     )\n\u001b[1;32m   1621\u001b[0m     \u001b[38;5;66;03m# 13. run sample\u001b[39;00m\n\u001b[0;32m-> 1622\u001b[0m     result \u001b[38;5;241m=\u001b[39m \u001b[38;5;28;43mself\u001b[39;49m\u001b[38;5;241;43m.\u001b[39;49m\u001b[43m_sample\u001b[49m\u001b[43m(\u001b[49m\n\u001b[1;32m   1623\u001b[0m \u001b[43m        \u001b[49m\u001b[43minput_ids\u001b[49m\u001b[43m,\u001b[49m\n\u001b[1;32m   1624\u001b[0m \u001b[43m        \u001b[49m\u001b[43mlogits_processor\u001b[49m\u001b[38;5;241;43m=\u001b[39;49m\u001b[43mprepared_logits_processor\u001b[49m\u001b[43m,\u001b[49m\n\u001b[1;32m   1625\u001b[0m \u001b[43m        \u001b[49m\u001b[43mlogits_warper\u001b[49m\u001b[38;5;241;43m=\u001b[39;49m\u001b[43mlogits_warper\u001b[49m\u001b[43m,\u001b[49m\n\u001b[1;32m   1626\u001b[0m \u001b[43m        \u001b[49m\u001b[43mstopping_criteria\u001b[49m\u001b[38;5;241;43m=\u001b[39;49m\u001b[43mprepared_stopping_criteria\u001b[49m\u001b[43m,\u001b[49m\n\u001b[1;32m   1627\u001b[0m \u001b[43m        \u001b[49m\u001b[43mpad_token_id\u001b[49m\u001b[38;5;241;43m=\u001b[39;49m\u001b[43mgeneration_config\u001b[49m\u001b[38;5;241;43m.\u001b[39;49m\u001b[43mpad_token_id\u001b[49m\u001b[43m,\u001b[49m\n\u001b[1;32m   1628\u001b[0m \u001b[43m        \u001b[49m\u001b[43moutput_scores\u001b[49m\u001b[38;5;241;43m=\u001b[39;49m\u001b[43mgeneration_config\u001b[49m\u001b[38;5;241;43m.\u001b[39;49m\u001b[43moutput_scores\u001b[49m\u001b[43m,\u001b[49m\n\u001b[1;32m   1629\u001b[0m \u001b[43m        \u001b[49m\u001b[43moutput_logits\u001b[49m\u001b[38;5;241;43m=\u001b[39;49m\u001b[43mgeneration_config\u001b[49m\u001b[38;5;241;43m.\u001b[39;49m\u001b[43moutput_logits\u001b[49m\u001b[43m,\u001b[49m\n\u001b[1;32m   1630\u001b[0m \u001b[43m        \u001b[49m\u001b[43mreturn_dict_in_generate\u001b[49m\u001b[38;5;241;43m=\u001b[39;49m\u001b[43mgeneration_config\u001b[49m\u001b[38;5;241;43m.\u001b[39;49m\u001b[43mreturn_dict_in_generate\u001b[49m\u001b[43m,\u001b[49m\n\u001b[1;32m   1631\u001b[0m \u001b[43m        \u001b[49m\u001b[43msynced_gpus\u001b[49m\u001b[38;5;241;43m=\u001b[39;49m\u001b[43msynced_gpus\u001b[49m\u001b[43m,\u001b[49m\n\u001b[1;32m   1632\u001b[0m \u001b[43m        \u001b[49m\u001b[43mstreamer\u001b[49m\u001b[38;5;241;43m=\u001b[39;49m\u001b[43mstreamer\u001b[49m\u001b[43m,\u001b[49m\n\u001b[1;32m   1633\u001b[0m \u001b[43m        \u001b[49m\u001b[38;5;241;43m*\u001b[39;49m\u001b[38;5;241;43m*\u001b[39;49m\u001b[43mmodel_kwargs\u001b[49m\u001b[43m,\u001b[49m\n\u001b[1;32m   1634\u001b[0m \u001b[43m    \u001b[49m\u001b[43m)\u001b[49m\n\u001b[1;32m   1636\u001b[0m \u001b[38;5;28;01melif\u001b[39;00m generation_mode \u001b[38;5;241m==\u001b[39m GenerationMode\u001b[38;5;241m.\u001b[39mBEAM_SEARCH:\n\u001b[1;32m   1637\u001b[0m     \u001b[38;5;66;03m# 11. prepare beam search scorer\u001b[39;00m\n\u001b[1;32m   1638\u001b[0m     beam_scorer \u001b[38;5;241m=\u001b[39m BeamSearchScorer(\n\u001b[1;32m   1639\u001b[0m         batch_size\u001b[38;5;241m=\u001b[39mbatch_size,\n\u001b[1;32m   1640\u001b[0m         num_beams\u001b[38;5;241m=\u001b[39mgeneration_config\u001b[38;5;241m.\u001b[39mnum_beams,\n\u001b[0;32m   (...)\u001b[0m\n\u001b[1;32m   1645\u001b[0m         max_length\u001b[38;5;241m=\u001b[39mgeneration_config\u001b[38;5;241m.\u001b[39mmax_length,\n\u001b[1;32m   1646\u001b[0m     )\n",
      "File \u001b[0;32m~/venv/lib/python3.10/site-packages/transformers/generation/utils.py:2791\u001b[0m, in \u001b[0;36mGenerationMixin._sample\u001b[0;34m(self, input_ids, logits_processor, stopping_criteria, logits_warper, max_length, pad_token_id, eos_token_id, output_attentions, output_hidden_states, output_scores, output_logits, return_dict_in_generate, synced_gpus, streamer, **model_kwargs)\u001b[0m\n\u001b[1;32m   2788\u001b[0m model_inputs \u001b[38;5;241m=\u001b[39m \u001b[38;5;28mself\u001b[39m\u001b[38;5;241m.\u001b[39mprepare_inputs_for_generation(input_ids, \u001b[38;5;241m*\u001b[39m\u001b[38;5;241m*\u001b[39mmodel_kwargs)\n\u001b[1;32m   2790\u001b[0m \u001b[38;5;66;03m# forward pass to get next token\u001b[39;00m\n\u001b[0;32m-> 2791\u001b[0m outputs \u001b[38;5;241m=\u001b[39m \u001b[38;5;28;43mself\u001b[39;49m\u001b[43m(\u001b[49m\n\u001b[1;32m   2792\u001b[0m \u001b[43m    \u001b[49m\u001b[38;5;241;43m*\u001b[39;49m\u001b[38;5;241;43m*\u001b[39;49m\u001b[43mmodel_inputs\u001b[49m\u001b[43m,\u001b[49m\n\u001b[1;32m   2793\u001b[0m \u001b[43m    \u001b[49m\u001b[43mreturn_dict\u001b[49m\u001b[38;5;241;43m=\u001b[39;49m\u001b[38;5;28;43;01mTrue\u001b[39;49;00m\u001b[43m,\u001b[49m\n\u001b[1;32m   2794\u001b[0m \u001b[43m    \u001b[49m\u001b[43moutput_attentions\u001b[49m\u001b[38;5;241;43m=\u001b[39;49m\u001b[43moutput_attentions\u001b[49m\u001b[43m,\u001b[49m\n\u001b[1;32m   2795\u001b[0m \u001b[43m    \u001b[49m\u001b[43moutput_hidden_states\u001b[49m\u001b[38;5;241;43m=\u001b[39;49m\u001b[43moutput_hidden_states\u001b[49m\u001b[43m,\u001b[49m\n\u001b[1;32m   2796\u001b[0m \u001b[43m\u001b[49m\u001b[43m)\u001b[49m\n\u001b[1;32m   2798\u001b[0m \u001b[38;5;28;01mif\u001b[39;00m synced_gpus \u001b[38;5;129;01mand\u001b[39;00m this_peer_finished:\n\u001b[1;32m   2799\u001b[0m     \u001b[38;5;28;01mcontinue\u001b[39;00m  \u001b[38;5;66;03m# don't waste resources running the code we don't need\u001b[39;00m\n",
      "File \u001b[0;32m~/venv/lib/python3.10/site-packages/torch/nn/modules/module.py:1532\u001b[0m, in \u001b[0;36mModule._wrapped_call_impl\u001b[0;34m(self, *args, **kwargs)\u001b[0m\n\u001b[1;32m   1530\u001b[0m     \u001b[38;5;28;01mreturn\u001b[39;00m \u001b[38;5;28mself\u001b[39m\u001b[38;5;241m.\u001b[39m_compiled_call_impl(\u001b[38;5;241m*\u001b[39margs, \u001b[38;5;241m*\u001b[39m\u001b[38;5;241m*\u001b[39mkwargs)  \u001b[38;5;66;03m# type: ignore[misc]\u001b[39;00m\n\u001b[1;32m   1531\u001b[0m \u001b[38;5;28;01melse\u001b[39;00m:\n\u001b[0;32m-> 1532\u001b[0m     \u001b[38;5;28;01mreturn\u001b[39;00m \u001b[38;5;28;43mself\u001b[39;49m\u001b[38;5;241;43m.\u001b[39;49m\u001b[43m_call_impl\u001b[49m\u001b[43m(\u001b[49m\u001b[38;5;241;43m*\u001b[39;49m\u001b[43margs\u001b[49m\u001b[43m,\u001b[49m\u001b[43m \u001b[49m\u001b[38;5;241;43m*\u001b[39;49m\u001b[38;5;241;43m*\u001b[39;49m\u001b[43mkwargs\u001b[49m\u001b[43m)\u001b[49m\n",
      "File \u001b[0;32m~/venv/lib/python3.10/site-packages/torch/nn/modules/module.py:1541\u001b[0m, in \u001b[0;36mModule._call_impl\u001b[0;34m(self, *args, **kwargs)\u001b[0m\n\u001b[1;32m   1536\u001b[0m \u001b[38;5;66;03m# If we don't have any hooks, we want to skip the rest of the logic in\u001b[39;00m\n\u001b[1;32m   1537\u001b[0m \u001b[38;5;66;03m# this function, and just call forward.\u001b[39;00m\n\u001b[1;32m   1538\u001b[0m \u001b[38;5;28;01mif\u001b[39;00m \u001b[38;5;129;01mnot\u001b[39;00m (\u001b[38;5;28mself\u001b[39m\u001b[38;5;241m.\u001b[39m_backward_hooks \u001b[38;5;129;01mor\u001b[39;00m \u001b[38;5;28mself\u001b[39m\u001b[38;5;241m.\u001b[39m_backward_pre_hooks \u001b[38;5;129;01mor\u001b[39;00m \u001b[38;5;28mself\u001b[39m\u001b[38;5;241m.\u001b[39m_forward_hooks \u001b[38;5;129;01mor\u001b[39;00m \u001b[38;5;28mself\u001b[39m\u001b[38;5;241m.\u001b[39m_forward_pre_hooks\n\u001b[1;32m   1539\u001b[0m         \u001b[38;5;129;01mor\u001b[39;00m _global_backward_pre_hooks \u001b[38;5;129;01mor\u001b[39;00m _global_backward_hooks\n\u001b[1;32m   1540\u001b[0m         \u001b[38;5;129;01mor\u001b[39;00m _global_forward_hooks \u001b[38;5;129;01mor\u001b[39;00m _global_forward_pre_hooks):\n\u001b[0;32m-> 1541\u001b[0m     \u001b[38;5;28;01mreturn\u001b[39;00m \u001b[43mforward_call\u001b[49m\u001b[43m(\u001b[49m\u001b[38;5;241;43m*\u001b[39;49m\u001b[43margs\u001b[49m\u001b[43m,\u001b[49m\u001b[43m \u001b[49m\u001b[38;5;241;43m*\u001b[39;49m\u001b[38;5;241;43m*\u001b[39;49m\u001b[43mkwargs\u001b[49m\u001b[43m)\u001b[49m\n\u001b[1;32m   1543\u001b[0m \u001b[38;5;28;01mtry\u001b[39;00m:\n\u001b[1;32m   1544\u001b[0m     result \u001b[38;5;241m=\u001b[39m \u001b[38;5;28;01mNone\u001b[39;00m\n",
      "File \u001b[0;32m~/venv/lib/python3.10/site-packages/accelerate/hooks.py:166\u001b[0m, in \u001b[0;36madd_hook_to_module.<locals>.new_forward\u001b[0;34m(module, *args, **kwargs)\u001b[0m\n\u001b[1;32m    164\u001b[0m         output \u001b[38;5;241m=\u001b[39m module\u001b[38;5;241m.\u001b[39m_old_forward(\u001b[38;5;241m*\u001b[39margs, \u001b[38;5;241m*\u001b[39m\u001b[38;5;241m*\u001b[39mkwargs)\n\u001b[1;32m    165\u001b[0m \u001b[38;5;28;01melse\u001b[39;00m:\n\u001b[0;32m--> 166\u001b[0m     output \u001b[38;5;241m=\u001b[39m \u001b[43mmodule\u001b[49m\u001b[38;5;241;43m.\u001b[39;49m\u001b[43m_old_forward\u001b[49m\u001b[43m(\u001b[49m\u001b[38;5;241;43m*\u001b[39;49m\u001b[43margs\u001b[49m\u001b[43m,\u001b[49m\u001b[43m \u001b[49m\u001b[38;5;241;43m*\u001b[39;49m\u001b[38;5;241;43m*\u001b[39;49m\u001b[43mkwargs\u001b[49m\u001b[43m)\u001b[49m\n\u001b[1;32m    167\u001b[0m \u001b[38;5;28;01mreturn\u001b[39;00m module\u001b[38;5;241m.\u001b[39m_hf_hook\u001b[38;5;241m.\u001b[39mpost_forward(module, output)\n",
      "File \u001b[0;32m~/venv/lib/python3.10/site-packages/transformers/models/llama/modeling_llama.py:1208\u001b[0m, in \u001b[0;36mLlamaForCausalLM.forward\u001b[0;34m(self, input_ids, attention_mask, position_ids, past_key_values, inputs_embeds, labels, use_cache, output_attentions, output_hidden_states, return_dict, cache_position)\u001b[0m\n\u001b[1;32m   1205\u001b[0m return_dict \u001b[38;5;241m=\u001b[39m return_dict \u001b[38;5;28;01mif\u001b[39;00m return_dict \u001b[38;5;129;01mis\u001b[39;00m \u001b[38;5;129;01mnot\u001b[39;00m \u001b[38;5;28;01mNone\u001b[39;00m \u001b[38;5;28;01melse\u001b[39;00m \u001b[38;5;28mself\u001b[39m\u001b[38;5;241m.\u001b[39mconfig\u001b[38;5;241m.\u001b[39muse_return_dict\n\u001b[1;32m   1207\u001b[0m \u001b[38;5;66;03m# decoder outputs consists of (dec_features, layer_state, dec_hidden, dec_attn)\u001b[39;00m\n\u001b[0;32m-> 1208\u001b[0m outputs \u001b[38;5;241m=\u001b[39m \u001b[38;5;28;43mself\u001b[39;49m\u001b[38;5;241;43m.\u001b[39;49m\u001b[43mmodel\u001b[49m\u001b[43m(\u001b[49m\n\u001b[1;32m   1209\u001b[0m \u001b[43m    \u001b[49m\u001b[43minput_ids\u001b[49m\u001b[38;5;241;43m=\u001b[39;49m\u001b[43minput_ids\u001b[49m\u001b[43m,\u001b[49m\n\u001b[1;32m   1210\u001b[0m \u001b[43m    \u001b[49m\u001b[43mattention_mask\u001b[49m\u001b[38;5;241;43m=\u001b[39;49m\u001b[43mattention_mask\u001b[49m\u001b[43m,\u001b[49m\n\u001b[1;32m   1211\u001b[0m \u001b[43m    \u001b[49m\u001b[43mposition_ids\u001b[49m\u001b[38;5;241;43m=\u001b[39;49m\u001b[43mposition_ids\u001b[49m\u001b[43m,\u001b[49m\n\u001b[1;32m   1212\u001b[0m \u001b[43m    \u001b[49m\u001b[43mpast_key_values\u001b[49m\u001b[38;5;241;43m=\u001b[39;49m\u001b[43mpast_key_values\u001b[49m\u001b[43m,\u001b[49m\n\u001b[1;32m   1213\u001b[0m \u001b[43m    \u001b[49m\u001b[43minputs_embeds\u001b[49m\u001b[38;5;241;43m=\u001b[39;49m\u001b[43minputs_embeds\u001b[49m\u001b[43m,\u001b[49m\n\u001b[1;32m   1214\u001b[0m \u001b[43m    \u001b[49m\u001b[43muse_cache\u001b[49m\u001b[38;5;241;43m=\u001b[39;49m\u001b[43muse_cache\u001b[49m\u001b[43m,\u001b[49m\n\u001b[1;32m   1215\u001b[0m \u001b[43m    \u001b[49m\u001b[43moutput_attentions\u001b[49m\u001b[38;5;241;43m=\u001b[39;49m\u001b[43moutput_attentions\u001b[49m\u001b[43m,\u001b[49m\n\u001b[1;32m   1216\u001b[0m \u001b[43m    \u001b[49m\u001b[43moutput_hidden_states\u001b[49m\u001b[38;5;241;43m=\u001b[39;49m\u001b[43moutput_hidden_states\u001b[49m\u001b[43m,\u001b[49m\n\u001b[1;32m   1217\u001b[0m \u001b[43m    \u001b[49m\u001b[43mreturn_dict\u001b[49m\u001b[38;5;241;43m=\u001b[39;49m\u001b[43mreturn_dict\u001b[49m\u001b[43m,\u001b[49m\n\u001b[1;32m   1218\u001b[0m \u001b[43m    \u001b[49m\u001b[43mcache_position\u001b[49m\u001b[38;5;241;43m=\u001b[39;49m\u001b[43mcache_position\u001b[49m\u001b[43m,\u001b[49m\n\u001b[1;32m   1219\u001b[0m \u001b[43m\u001b[49m\u001b[43m)\u001b[49m\n\u001b[1;32m   1221\u001b[0m hidden_states \u001b[38;5;241m=\u001b[39m outputs[\u001b[38;5;241m0\u001b[39m]\n\u001b[1;32m   1222\u001b[0m \u001b[38;5;28;01mif\u001b[39;00m \u001b[38;5;28mself\u001b[39m\u001b[38;5;241m.\u001b[39mconfig\u001b[38;5;241m.\u001b[39mpretraining_tp \u001b[38;5;241m>\u001b[39m \u001b[38;5;241m1\u001b[39m:\n",
      "File \u001b[0;32m~/venv/lib/python3.10/site-packages/torch/nn/modules/module.py:1532\u001b[0m, in \u001b[0;36mModule._wrapped_call_impl\u001b[0;34m(self, *args, **kwargs)\u001b[0m\n\u001b[1;32m   1530\u001b[0m     \u001b[38;5;28;01mreturn\u001b[39;00m \u001b[38;5;28mself\u001b[39m\u001b[38;5;241m.\u001b[39m_compiled_call_impl(\u001b[38;5;241m*\u001b[39margs, \u001b[38;5;241m*\u001b[39m\u001b[38;5;241m*\u001b[39mkwargs)  \u001b[38;5;66;03m# type: ignore[misc]\u001b[39;00m\n\u001b[1;32m   1531\u001b[0m \u001b[38;5;28;01melse\u001b[39;00m:\n\u001b[0;32m-> 1532\u001b[0m     \u001b[38;5;28;01mreturn\u001b[39;00m \u001b[38;5;28;43mself\u001b[39;49m\u001b[38;5;241;43m.\u001b[39;49m\u001b[43m_call_impl\u001b[49m\u001b[43m(\u001b[49m\u001b[38;5;241;43m*\u001b[39;49m\u001b[43margs\u001b[49m\u001b[43m,\u001b[49m\u001b[43m \u001b[49m\u001b[38;5;241;43m*\u001b[39;49m\u001b[38;5;241;43m*\u001b[39;49m\u001b[43mkwargs\u001b[49m\u001b[43m)\u001b[49m\n",
      "File \u001b[0;32m~/venv/lib/python3.10/site-packages/torch/nn/modules/module.py:1541\u001b[0m, in \u001b[0;36mModule._call_impl\u001b[0;34m(self, *args, **kwargs)\u001b[0m\n\u001b[1;32m   1536\u001b[0m \u001b[38;5;66;03m# If we don't have any hooks, we want to skip the rest of the logic in\u001b[39;00m\n\u001b[1;32m   1537\u001b[0m \u001b[38;5;66;03m# this function, and just call forward.\u001b[39;00m\n\u001b[1;32m   1538\u001b[0m \u001b[38;5;28;01mif\u001b[39;00m \u001b[38;5;129;01mnot\u001b[39;00m (\u001b[38;5;28mself\u001b[39m\u001b[38;5;241m.\u001b[39m_backward_hooks \u001b[38;5;129;01mor\u001b[39;00m \u001b[38;5;28mself\u001b[39m\u001b[38;5;241m.\u001b[39m_backward_pre_hooks \u001b[38;5;129;01mor\u001b[39;00m \u001b[38;5;28mself\u001b[39m\u001b[38;5;241m.\u001b[39m_forward_hooks \u001b[38;5;129;01mor\u001b[39;00m \u001b[38;5;28mself\u001b[39m\u001b[38;5;241m.\u001b[39m_forward_pre_hooks\n\u001b[1;32m   1539\u001b[0m         \u001b[38;5;129;01mor\u001b[39;00m _global_backward_pre_hooks \u001b[38;5;129;01mor\u001b[39;00m _global_backward_hooks\n\u001b[1;32m   1540\u001b[0m         \u001b[38;5;129;01mor\u001b[39;00m _global_forward_hooks \u001b[38;5;129;01mor\u001b[39;00m _global_forward_pre_hooks):\n\u001b[0;32m-> 1541\u001b[0m     \u001b[38;5;28;01mreturn\u001b[39;00m \u001b[43mforward_call\u001b[49m\u001b[43m(\u001b[49m\u001b[38;5;241;43m*\u001b[39;49m\u001b[43margs\u001b[49m\u001b[43m,\u001b[49m\u001b[43m \u001b[49m\u001b[38;5;241;43m*\u001b[39;49m\u001b[38;5;241;43m*\u001b[39;49m\u001b[43mkwargs\u001b[49m\u001b[43m)\u001b[49m\n\u001b[1;32m   1543\u001b[0m \u001b[38;5;28;01mtry\u001b[39;00m:\n\u001b[1;32m   1544\u001b[0m     result \u001b[38;5;241m=\u001b[39m \u001b[38;5;28;01mNone\u001b[39;00m\n",
      "File \u001b[0;32m~/venv/lib/python3.10/site-packages/accelerate/hooks.py:166\u001b[0m, in \u001b[0;36madd_hook_to_module.<locals>.new_forward\u001b[0;34m(module, *args, **kwargs)\u001b[0m\n\u001b[1;32m    164\u001b[0m         output \u001b[38;5;241m=\u001b[39m module\u001b[38;5;241m.\u001b[39m_old_forward(\u001b[38;5;241m*\u001b[39margs, \u001b[38;5;241m*\u001b[39m\u001b[38;5;241m*\u001b[39mkwargs)\n\u001b[1;32m    165\u001b[0m \u001b[38;5;28;01melse\u001b[39;00m:\n\u001b[0;32m--> 166\u001b[0m     output \u001b[38;5;241m=\u001b[39m \u001b[43mmodule\u001b[49m\u001b[38;5;241;43m.\u001b[39;49m\u001b[43m_old_forward\u001b[49m\u001b[43m(\u001b[49m\u001b[38;5;241;43m*\u001b[39;49m\u001b[43margs\u001b[49m\u001b[43m,\u001b[49m\u001b[43m \u001b[49m\u001b[38;5;241;43m*\u001b[39;49m\u001b[38;5;241;43m*\u001b[39;49m\u001b[43mkwargs\u001b[49m\u001b[43m)\u001b[49m\n\u001b[1;32m    167\u001b[0m \u001b[38;5;28;01mreturn\u001b[39;00m module\u001b[38;5;241m.\u001b[39m_hf_hook\u001b[38;5;241m.\u001b[39mpost_forward(module, output)\n",
      "File \u001b[0;32m~/venv/lib/python3.10/site-packages/transformers/models/llama/modeling_llama.py:1018\u001b[0m, in \u001b[0;36mLlamaModel.forward\u001b[0;34m(self, input_ids, attention_mask, position_ids, past_key_values, inputs_embeds, use_cache, output_attentions, output_hidden_states, return_dict, cache_position)\u001b[0m\n\u001b[1;32m   1007\u001b[0m     layer_outputs \u001b[38;5;241m=\u001b[39m \u001b[38;5;28mself\u001b[39m\u001b[38;5;241m.\u001b[39m_gradient_checkpointing_func(\n\u001b[1;32m   1008\u001b[0m         decoder_layer\u001b[38;5;241m.\u001b[39m\u001b[38;5;21m__call__\u001b[39m,\n\u001b[1;32m   1009\u001b[0m         hidden_states,\n\u001b[0;32m   (...)\u001b[0m\n\u001b[1;32m   1015\u001b[0m         cache_position,\n\u001b[1;32m   1016\u001b[0m     )\n\u001b[1;32m   1017\u001b[0m \u001b[38;5;28;01melse\u001b[39;00m:\n\u001b[0;32m-> 1018\u001b[0m     layer_outputs \u001b[38;5;241m=\u001b[39m \u001b[43mdecoder_layer\u001b[49m\u001b[43m(\u001b[49m\n\u001b[1;32m   1019\u001b[0m \u001b[43m        \u001b[49m\u001b[43mhidden_states\u001b[49m\u001b[43m,\u001b[49m\n\u001b[1;32m   1020\u001b[0m \u001b[43m        \u001b[49m\u001b[43mattention_mask\u001b[49m\u001b[38;5;241;43m=\u001b[39;49m\u001b[43mcausal_mask\u001b[49m\u001b[43m,\u001b[49m\n\u001b[1;32m   1021\u001b[0m \u001b[43m        \u001b[49m\u001b[43mposition_ids\u001b[49m\u001b[38;5;241;43m=\u001b[39;49m\u001b[43mposition_ids\u001b[49m\u001b[43m,\u001b[49m\n\u001b[1;32m   1022\u001b[0m \u001b[43m        \u001b[49m\u001b[43mpast_key_value\u001b[49m\u001b[38;5;241;43m=\u001b[39;49m\u001b[43mpast_key_values\u001b[49m\u001b[43m,\u001b[49m\n\u001b[1;32m   1023\u001b[0m \u001b[43m        \u001b[49m\u001b[43moutput_attentions\u001b[49m\u001b[38;5;241;43m=\u001b[39;49m\u001b[43moutput_attentions\u001b[49m\u001b[43m,\u001b[49m\n\u001b[1;32m   1024\u001b[0m \u001b[43m        \u001b[49m\u001b[43muse_cache\u001b[49m\u001b[38;5;241;43m=\u001b[39;49m\u001b[43muse_cache\u001b[49m\u001b[43m,\u001b[49m\n\u001b[1;32m   1025\u001b[0m \u001b[43m        \u001b[49m\u001b[43mcache_position\u001b[49m\u001b[38;5;241;43m=\u001b[39;49m\u001b[43mcache_position\u001b[49m\u001b[43m,\u001b[49m\n\u001b[1;32m   1026\u001b[0m \u001b[43m    \u001b[49m\u001b[43m)\u001b[49m\n\u001b[1;32m   1028\u001b[0m hidden_states \u001b[38;5;241m=\u001b[39m layer_outputs[\u001b[38;5;241m0\u001b[39m]\n\u001b[1;32m   1030\u001b[0m \u001b[38;5;28;01mif\u001b[39;00m use_cache:\n",
      "File \u001b[0;32m~/venv/lib/python3.10/site-packages/torch/nn/modules/module.py:1532\u001b[0m, in \u001b[0;36mModule._wrapped_call_impl\u001b[0;34m(self, *args, **kwargs)\u001b[0m\n\u001b[1;32m   1530\u001b[0m     \u001b[38;5;28;01mreturn\u001b[39;00m \u001b[38;5;28mself\u001b[39m\u001b[38;5;241m.\u001b[39m_compiled_call_impl(\u001b[38;5;241m*\u001b[39margs, \u001b[38;5;241m*\u001b[39m\u001b[38;5;241m*\u001b[39mkwargs)  \u001b[38;5;66;03m# type: ignore[misc]\u001b[39;00m\n\u001b[1;32m   1531\u001b[0m \u001b[38;5;28;01melse\u001b[39;00m:\n\u001b[0;32m-> 1532\u001b[0m     \u001b[38;5;28;01mreturn\u001b[39;00m \u001b[38;5;28;43mself\u001b[39;49m\u001b[38;5;241;43m.\u001b[39;49m\u001b[43m_call_impl\u001b[49m\u001b[43m(\u001b[49m\u001b[38;5;241;43m*\u001b[39;49m\u001b[43margs\u001b[49m\u001b[43m,\u001b[49m\u001b[43m \u001b[49m\u001b[38;5;241;43m*\u001b[39;49m\u001b[38;5;241;43m*\u001b[39;49m\u001b[43mkwargs\u001b[49m\u001b[43m)\u001b[49m\n",
      "File \u001b[0;32m~/venv/lib/python3.10/site-packages/torch/nn/modules/module.py:1541\u001b[0m, in \u001b[0;36mModule._call_impl\u001b[0;34m(self, *args, **kwargs)\u001b[0m\n\u001b[1;32m   1536\u001b[0m \u001b[38;5;66;03m# If we don't have any hooks, we want to skip the rest of the logic in\u001b[39;00m\n\u001b[1;32m   1537\u001b[0m \u001b[38;5;66;03m# this function, and just call forward.\u001b[39;00m\n\u001b[1;32m   1538\u001b[0m \u001b[38;5;28;01mif\u001b[39;00m \u001b[38;5;129;01mnot\u001b[39;00m (\u001b[38;5;28mself\u001b[39m\u001b[38;5;241m.\u001b[39m_backward_hooks \u001b[38;5;129;01mor\u001b[39;00m \u001b[38;5;28mself\u001b[39m\u001b[38;5;241m.\u001b[39m_backward_pre_hooks \u001b[38;5;129;01mor\u001b[39;00m \u001b[38;5;28mself\u001b[39m\u001b[38;5;241m.\u001b[39m_forward_hooks \u001b[38;5;129;01mor\u001b[39;00m \u001b[38;5;28mself\u001b[39m\u001b[38;5;241m.\u001b[39m_forward_pre_hooks\n\u001b[1;32m   1539\u001b[0m         \u001b[38;5;129;01mor\u001b[39;00m _global_backward_pre_hooks \u001b[38;5;129;01mor\u001b[39;00m _global_backward_hooks\n\u001b[1;32m   1540\u001b[0m         \u001b[38;5;129;01mor\u001b[39;00m _global_forward_hooks \u001b[38;5;129;01mor\u001b[39;00m _global_forward_pre_hooks):\n\u001b[0;32m-> 1541\u001b[0m     \u001b[38;5;28;01mreturn\u001b[39;00m \u001b[43mforward_call\u001b[49m\u001b[43m(\u001b[49m\u001b[38;5;241;43m*\u001b[39;49m\u001b[43margs\u001b[49m\u001b[43m,\u001b[49m\u001b[43m \u001b[49m\u001b[38;5;241;43m*\u001b[39;49m\u001b[38;5;241;43m*\u001b[39;49m\u001b[43mkwargs\u001b[49m\u001b[43m)\u001b[49m\n\u001b[1;32m   1543\u001b[0m \u001b[38;5;28;01mtry\u001b[39;00m:\n\u001b[1;32m   1544\u001b[0m     result \u001b[38;5;241m=\u001b[39m \u001b[38;5;28;01mNone\u001b[39;00m\n",
      "File \u001b[0;32m~/venv/lib/python3.10/site-packages/accelerate/hooks.py:166\u001b[0m, in \u001b[0;36madd_hook_to_module.<locals>.new_forward\u001b[0;34m(module, *args, **kwargs)\u001b[0m\n\u001b[1;32m    164\u001b[0m         output \u001b[38;5;241m=\u001b[39m module\u001b[38;5;241m.\u001b[39m_old_forward(\u001b[38;5;241m*\u001b[39margs, \u001b[38;5;241m*\u001b[39m\u001b[38;5;241m*\u001b[39mkwargs)\n\u001b[1;32m    165\u001b[0m \u001b[38;5;28;01melse\u001b[39;00m:\n\u001b[0;32m--> 166\u001b[0m     output \u001b[38;5;241m=\u001b[39m \u001b[43mmodule\u001b[49m\u001b[38;5;241;43m.\u001b[39;49m\u001b[43m_old_forward\u001b[49m\u001b[43m(\u001b[49m\u001b[38;5;241;43m*\u001b[39;49m\u001b[43margs\u001b[49m\u001b[43m,\u001b[49m\u001b[43m \u001b[49m\u001b[38;5;241;43m*\u001b[39;49m\u001b[38;5;241;43m*\u001b[39;49m\u001b[43mkwargs\u001b[49m\u001b[43m)\u001b[49m\n\u001b[1;32m    167\u001b[0m \u001b[38;5;28;01mreturn\u001b[39;00m module\u001b[38;5;241m.\u001b[39m_hf_hook\u001b[38;5;241m.\u001b[39mpost_forward(module, output)\n",
      "File \u001b[0;32m~/venv/lib/python3.10/site-packages/transformers/models/llama/modeling_llama.py:741\u001b[0m, in \u001b[0;36mLlamaDecoderLayer.forward\u001b[0;34m(self, hidden_states, attention_mask, position_ids, past_key_value, output_attentions, use_cache, cache_position, **kwargs)\u001b[0m\n\u001b[1;32m    738\u001b[0m hidden_states \u001b[38;5;241m=\u001b[39m \u001b[38;5;28mself\u001b[39m\u001b[38;5;241m.\u001b[39minput_layernorm(hidden_states)\n\u001b[1;32m    740\u001b[0m \u001b[38;5;66;03m# Self Attention\u001b[39;00m\n\u001b[0;32m--> 741\u001b[0m hidden_states, self_attn_weights, present_key_value \u001b[38;5;241m=\u001b[39m \u001b[38;5;28;43mself\u001b[39;49m\u001b[38;5;241;43m.\u001b[39;49m\u001b[43mself_attn\u001b[49m\u001b[43m(\u001b[49m\n\u001b[1;32m    742\u001b[0m \u001b[43m    \u001b[49m\u001b[43mhidden_states\u001b[49m\u001b[38;5;241;43m=\u001b[39;49m\u001b[43mhidden_states\u001b[49m\u001b[43m,\u001b[49m\n\u001b[1;32m    743\u001b[0m \u001b[43m    \u001b[49m\u001b[43mattention_mask\u001b[49m\u001b[38;5;241;43m=\u001b[39;49m\u001b[43mattention_mask\u001b[49m\u001b[43m,\u001b[49m\n\u001b[1;32m    744\u001b[0m \u001b[43m    \u001b[49m\u001b[43mposition_ids\u001b[49m\u001b[38;5;241;43m=\u001b[39;49m\u001b[43mposition_ids\u001b[49m\u001b[43m,\u001b[49m\n\u001b[1;32m    745\u001b[0m \u001b[43m    \u001b[49m\u001b[43mpast_key_value\u001b[49m\u001b[38;5;241;43m=\u001b[39;49m\u001b[43mpast_key_value\u001b[49m\u001b[43m,\u001b[49m\n\u001b[1;32m    746\u001b[0m \u001b[43m    \u001b[49m\u001b[43moutput_attentions\u001b[49m\u001b[38;5;241;43m=\u001b[39;49m\u001b[43moutput_attentions\u001b[49m\u001b[43m,\u001b[49m\n\u001b[1;32m    747\u001b[0m \u001b[43m    \u001b[49m\u001b[43muse_cache\u001b[49m\u001b[38;5;241;43m=\u001b[39;49m\u001b[43muse_cache\u001b[49m\u001b[43m,\u001b[49m\n\u001b[1;32m    748\u001b[0m \u001b[43m    \u001b[49m\u001b[43mcache_position\u001b[49m\u001b[38;5;241;43m=\u001b[39;49m\u001b[43mcache_position\u001b[49m\u001b[43m,\u001b[49m\n\u001b[1;32m    749\u001b[0m \u001b[43m    \u001b[49m\u001b[38;5;241;43m*\u001b[39;49m\u001b[38;5;241;43m*\u001b[39;49m\u001b[43mkwargs\u001b[49m\u001b[43m,\u001b[49m\n\u001b[1;32m    750\u001b[0m \u001b[43m\u001b[49m\u001b[43m)\u001b[49m\n\u001b[1;32m    751\u001b[0m hidden_states \u001b[38;5;241m=\u001b[39m residual \u001b[38;5;241m+\u001b[39m hidden_states\n\u001b[1;32m    753\u001b[0m \u001b[38;5;66;03m# Fully Connected\u001b[39;00m\n",
      "File \u001b[0;32m~/venv/lib/python3.10/site-packages/torch/nn/modules/module.py:1532\u001b[0m, in \u001b[0;36mModule._wrapped_call_impl\u001b[0;34m(self, *args, **kwargs)\u001b[0m\n\u001b[1;32m   1530\u001b[0m     \u001b[38;5;28;01mreturn\u001b[39;00m \u001b[38;5;28mself\u001b[39m\u001b[38;5;241m.\u001b[39m_compiled_call_impl(\u001b[38;5;241m*\u001b[39margs, \u001b[38;5;241m*\u001b[39m\u001b[38;5;241m*\u001b[39mkwargs)  \u001b[38;5;66;03m# type: ignore[misc]\u001b[39;00m\n\u001b[1;32m   1531\u001b[0m \u001b[38;5;28;01melse\u001b[39;00m:\n\u001b[0;32m-> 1532\u001b[0m     \u001b[38;5;28;01mreturn\u001b[39;00m \u001b[38;5;28;43mself\u001b[39;49m\u001b[38;5;241;43m.\u001b[39;49m\u001b[43m_call_impl\u001b[49m\u001b[43m(\u001b[49m\u001b[38;5;241;43m*\u001b[39;49m\u001b[43margs\u001b[49m\u001b[43m,\u001b[49m\u001b[43m \u001b[49m\u001b[38;5;241;43m*\u001b[39;49m\u001b[38;5;241;43m*\u001b[39;49m\u001b[43mkwargs\u001b[49m\u001b[43m)\u001b[49m\n",
      "File \u001b[0;32m~/venv/lib/python3.10/site-packages/torch/nn/modules/module.py:1541\u001b[0m, in \u001b[0;36mModule._call_impl\u001b[0;34m(self, *args, **kwargs)\u001b[0m\n\u001b[1;32m   1536\u001b[0m \u001b[38;5;66;03m# If we don't have any hooks, we want to skip the rest of the logic in\u001b[39;00m\n\u001b[1;32m   1537\u001b[0m \u001b[38;5;66;03m# this function, and just call forward.\u001b[39;00m\n\u001b[1;32m   1538\u001b[0m \u001b[38;5;28;01mif\u001b[39;00m \u001b[38;5;129;01mnot\u001b[39;00m (\u001b[38;5;28mself\u001b[39m\u001b[38;5;241m.\u001b[39m_backward_hooks \u001b[38;5;129;01mor\u001b[39;00m \u001b[38;5;28mself\u001b[39m\u001b[38;5;241m.\u001b[39m_backward_pre_hooks \u001b[38;5;129;01mor\u001b[39;00m \u001b[38;5;28mself\u001b[39m\u001b[38;5;241m.\u001b[39m_forward_hooks \u001b[38;5;129;01mor\u001b[39;00m \u001b[38;5;28mself\u001b[39m\u001b[38;5;241m.\u001b[39m_forward_pre_hooks\n\u001b[1;32m   1539\u001b[0m         \u001b[38;5;129;01mor\u001b[39;00m _global_backward_pre_hooks \u001b[38;5;129;01mor\u001b[39;00m _global_backward_hooks\n\u001b[1;32m   1540\u001b[0m         \u001b[38;5;129;01mor\u001b[39;00m _global_forward_hooks \u001b[38;5;129;01mor\u001b[39;00m _global_forward_pre_hooks):\n\u001b[0;32m-> 1541\u001b[0m     \u001b[38;5;28;01mreturn\u001b[39;00m \u001b[43mforward_call\u001b[49m\u001b[43m(\u001b[49m\u001b[38;5;241;43m*\u001b[39;49m\u001b[43margs\u001b[49m\u001b[43m,\u001b[49m\u001b[43m \u001b[49m\u001b[38;5;241;43m*\u001b[39;49m\u001b[38;5;241;43m*\u001b[39;49m\u001b[43mkwargs\u001b[49m\u001b[43m)\u001b[49m\n\u001b[1;32m   1543\u001b[0m \u001b[38;5;28;01mtry\u001b[39;00m:\n\u001b[1;32m   1544\u001b[0m     result \u001b[38;5;241m=\u001b[39m \u001b[38;5;28;01mNone\u001b[39;00m\n",
      "File \u001b[0;32m~/venv/lib/python3.10/site-packages/accelerate/hooks.py:166\u001b[0m, in \u001b[0;36madd_hook_to_module.<locals>.new_forward\u001b[0;34m(module, *args, **kwargs)\u001b[0m\n\u001b[1;32m    164\u001b[0m         output \u001b[38;5;241m=\u001b[39m module\u001b[38;5;241m.\u001b[39m_old_forward(\u001b[38;5;241m*\u001b[39margs, \u001b[38;5;241m*\u001b[39m\u001b[38;5;241m*\u001b[39mkwargs)\n\u001b[1;32m    165\u001b[0m \u001b[38;5;28;01melse\u001b[39;00m:\n\u001b[0;32m--> 166\u001b[0m     output \u001b[38;5;241m=\u001b[39m \u001b[43mmodule\u001b[49m\u001b[38;5;241;43m.\u001b[39;49m\u001b[43m_old_forward\u001b[49m\u001b[43m(\u001b[49m\u001b[38;5;241;43m*\u001b[39;49m\u001b[43margs\u001b[49m\u001b[43m,\u001b[49m\u001b[43m \u001b[49m\u001b[38;5;241;43m*\u001b[39;49m\u001b[38;5;241;43m*\u001b[39;49m\u001b[43mkwargs\u001b[49m\u001b[43m)\u001b[49m\n\u001b[1;32m    167\u001b[0m \u001b[38;5;28;01mreturn\u001b[39;00m module\u001b[38;5;241m.\u001b[39m_hf_hook\u001b[38;5;241m.\u001b[39mpost_forward(module, output)\n",
      "File \u001b[0;32m~/venv/lib/python3.10/site-packages/transformers/models/llama/modeling_llama.py:637\u001b[0m, in \u001b[0;36mLlamaSdpaAttention.forward\u001b[0;34m(self, hidden_states, attention_mask, position_ids, past_key_value, output_attentions, use_cache, cache_position)\u001b[0m\n\u001b[1;32m    634\u001b[0m bsz, q_len, _ \u001b[38;5;241m=\u001b[39m hidden_states\u001b[38;5;241m.\u001b[39msize()\n\u001b[1;32m    636\u001b[0m query_states \u001b[38;5;241m=\u001b[39m \u001b[38;5;28mself\u001b[39m\u001b[38;5;241m.\u001b[39mq_proj(hidden_states)\n\u001b[0;32m--> 637\u001b[0m key_states \u001b[38;5;241m=\u001b[39m \u001b[38;5;28;43mself\u001b[39;49m\u001b[38;5;241;43m.\u001b[39;49m\u001b[43mk_proj\u001b[49m\u001b[43m(\u001b[49m\u001b[43mhidden_states\u001b[49m\u001b[43m)\u001b[49m\n\u001b[1;32m    638\u001b[0m value_states \u001b[38;5;241m=\u001b[39m \u001b[38;5;28mself\u001b[39m\u001b[38;5;241m.\u001b[39mv_proj(hidden_states)\n\u001b[1;32m    640\u001b[0m query_states \u001b[38;5;241m=\u001b[39m query_states\u001b[38;5;241m.\u001b[39mview(bsz, q_len, \u001b[38;5;28mself\u001b[39m\u001b[38;5;241m.\u001b[39mnum_heads, \u001b[38;5;28mself\u001b[39m\u001b[38;5;241m.\u001b[39mhead_dim)\u001b[38;5;241m.\u001b[39mtranspose(\u001b[38;5;241m1\u001b[39m, \u001b[38;5;241m2\u001b[39m)\n",
      "File \u001b[0;32m~/venv/lib/python3.10/site-packages/torch/nn/modules/module.py:1532\u001b[0m, in \u001b[0;36mModule._wrapped_call_impl\u001b[0;34m(self, *args, **kwargs)\u001b[0m\n\u001b[1;32m   1530\u001b[0m     \u001b[38;5;28;01mreturn\u001b[39;00m \u001b[38;5;28mself\u001b[39m\u001b[38;5;241m.\u001b[39m_compiled_call_impl(\u001b[38;5;241m*\u001b[39margs, \u001b[38;5;241m*\u001b[39m\u001b[38;5;241m*\u001b[39mkwargs)  \u001b[38;5;66;03m# type: ignore[misc]\u001b[39;00m\n\u001b[1;32m   1531\u001b[0m \u001b[38;5;28;01melse\u001b[39;00m:\n\u001b[0;32m-> 1532\u001b[0m     \u001b[38;5;28;01mreturn\u001b[39;00m \u001b[38;5;28;43mself\u001b[39;49m\u001b[38;5;241;43m.\u001b[39;49m\u001b[43m_call_impl\u001b[49m\u001b[43m(\u001b[49m\u001b[38;5;241;43m*\u001b[39;49m\u001b[43margs\u001b[49m\u001b[43m,\u001b[49m\u001b[43m \u001b[49m\u001b[38;5;241;43m*\u001b[39;49m\u001b[38;5;241;43m*\u001b[39;49m\u001b[43mkwargs\u001b[49m\u001b[43m)\u001b[49m\n",
      "File \u001b[0;32m~/venv/lib/python3.10/site-packages/torch/nn/modules/module.py:1541\u001b[0m, in \u001b[0;36mModule._call_impl\u001b[0;34m(self, *args, **kwargs)\u001b[0m\n\u001b[1;32m   1536\u001b[0m \u001b[38;5;66;03m# If we don't have any hooks, we want to skip the rest of the logic in\u001b[39;00m\n\u001b[1;32m   1537\u001b[0m \u001b[38;5;66;03m# this function, and just call forward.\u001b[39;00m\n\u001b[1;32m   1538\u001b[0m \u001b[38;5;28;01mif\u001b[39;00m \u001b[38;5;129;01mnot\u001b[39;00m (\u001b[38;5;28mself\u001b[39m\u001b[38;5;241m.\u001b[39m_backward_hooks \u001b[38;5;129;01mor\u001b[39;00m \u001b[38;5;28mself\u001b[39m\u001b[38;5;241m.\u001b[39m_backward_pre_hooks \u001b[38;5;129;01mor\u001b[39;00m \u001b[38;5;28mself\u001b[39m\u001b[38;5;241m.\u001b[39m_forward_hooks \u001b[38;5;129;01mor\u001b[39;00m \u001b[38;5;28mself\u001b[39m\u001b[38;5;241m.\u001b[39m_forward_pre_hooks\n\u001b[1;32m   1539\u001b[0m         \u001b[38;5;129;01mor\u001b[39;00m _global_backward_pre_hooks \u001b[38;5;129;01mor\u001b[39;00m _global_backward_hooks\n\u001b[1;32m   1540\u001b[0m         \u001b[38;5;129;01mor\u001b[39;00m _global_forward_hooks \u001b[38;5;129;01mor\u001b[39;00m _global_forward_pre_hooks):\n\u001b[0;32m-> 1541\u001b[0m     \u001b[38;5;28;01mreturn\u001b[39;00m \u001b[43mforward_call\u001b[49m\u001b[43m(\u001b[49m\u001b[38;5;241;43m*\u001b[39;49m\u001b[43margs\u001b[49m\u001b[43m,\u001b[49m\u001b[43m \u001b[49m\u001b[38;5;241;43m*\u001b[39;49m\u001b[38;5;241;43m*\u001b[39;49m\u001b[43mkwargs\u001b[49m\u001b[43m)\u001b[49m\n\u001b[1;32m   1543\u001b[0m \u001b[38;5;28;01mtry\u001b[39;00m:\n\u001b[1;32m   1544\u001b[0m     result \u001b[38;5;241m=\u001b[39m \u001b[38;5;28;01mNone\u001b[39;00m\n",
      "File \u001b[0;32m~/venv/lib/python3.10/site-packages/accelerate/hooks.py:166\u001b[0m, in \u001b[0;36madd_hook_to_module.<locals>.new_forward\u001b[0;34m(module, *args, **kwargs)\u001b[0m\n\u001b[1;32m    164\u001b[0m         output \u001b[38;5;241m=\u001b[39m module\u001b[38;5;241m.\u001b[39m_old_forward(\u001b[38;5;241m*\u001b[39margs, \u001b[38;5;241m*\u001b[39m\u001b[38;5;241m*\u001b[39mkwargs)\n\u001b[1;32m    165\u001b[0m \u001b[38;5;28;01melse\u001b[39;00m:\n\u001b[0;32m--> 166\u001b[0m     output \u001b[38;5;241m=\u001b[39m \u001b[43mmodule\u001b[49m\u001b[38;5;241;43m.\u001b[39;49m\u001b[43m_old_forward\u001b[49m\u001b[43m(\u001b[49m\u001b[38;5;241;43m*\u001b[39;49m\u001b[43margs\u001b[49m\u001b[43m,\u001b[49m\u001b[43m \u001b[49m\u001b[38;5;241;43m*\u001b[39;49m\u001b[38;5;241;43m*\u001b[39;49m\u001b[43mkwargs\u001b[49m\u001b[43m)\u001b[49m\n\u001b[1;32m    167\u001b[0m \u001b[38;5;28;01mreturn\u001b[39;00m module\u001b[38;5;241m.\u001b[39m_hf_hook\u001b[38;5;241m.\u001b[39mpost_forward(module, output)\n",
      "File \u001b[0;32m~/venv/lib/python3.10/site-packages/bitsandbytes/nn/modules.py:797\u001b[0m, in \u001b[0;36mLinear8bitLt.forward\u001b[0;34m(self, x)\u001b[0m\n\u001b[1;32m    794\u001b[0m \u001b[38;5;28;01mif\u001b[39;00m \u001b[38;5;28mself\u001b[39m\u001b[38;5;241m.\u001b[39mbias \u001b[38;5;129;01mis\u001b[39;00m \u001b[38;5;129;01mnot\u001b[39;00m \u001b[38;5;28;01mNone\u001b[39;00m \u001b[38;5;129;01mand\u001b[39;00m \u001b[38;5;28mself\u001b[39m\u001b[38;5;241m.\u001b[39mbias\u001b[38;5;241m.\u001b[39mdtype \u001b[38;5;241m!=\u001b[39m x\u001b[38;5;241m.\u001b[39mdtype:\n\u001b[1;32m    795\u001b[0m     \u001b[38;5;28mself\u001b[39m\u001b[38;5;241m.\u001b[39mbias\u001b[38;5;241m.\u001b[39mdata \u001b[38;5;241m=\u001b[39m \u001b[38;5;28mself\u001b[39m\u001b[38;5;241m.\u001b[39mbias\u001b[38;5;241m.\u001b[39mdata\u001b[38;5;241m.\u001b[39mto(x\u001b[38;5;241m.\u001b[39mdtype)\n\u001b[0;32m--> 797\u001b[0m out \u001b[38;5;241m=\u001b[39m \u001b[43mbnb\u001b[49m\u001b[38;5;241;43m.\u001b[39;49m\u001b[43mmatmul\u001b[49m\u001b[43m(\u001b[49m\u001b[43mx\u001b[49m\u001b[43m,\u001b[49m\u001b[43m \u001b[49m\u001b[38;5;28;43mself\u001b[39;49m\u001b[38;5;241;43m.\u001b[39;49m\u001b[43mweight\u001b[49m\u001b[43m,\u001b[49m\u001b[43m \u001b[49m\u001b[43mbias\u001b[49m\u001b[38;5;241;43m=\u001b[39;49m\u001b[38;5;28;43mself\u001b[39;49m\u001b[38;5;241;43m.\u001b[39;49m\u001b[43mbias\u001b[49m\u001b[43m,\u001b[49m\u001b[43m \u001b[49m\u001b[43mstate\u001b[49m\u001b[38;5;241;43m=\u001b[39;49m\u001b[38;5;28;43mself\u001b[39;49m\u001b[38;5;241;43m.\u001b[39;49m\u001b[43mstate\u001b[49m\u001b[43m)\u001b[49m\n\u001b[1;32m    799\u001b[0m \u001b[38;5;28;01mif\u001b[39;00m \u001b[38;5;129;01mnot\u001b[39;00m \u001b[38;5;28mself\u001b[39m\u001b[38;5;241m.\u001b[39mstate\u001b[38;5;241m.\u001b[39mhas_fp16_weights:\n\u001b[1;32m    800\u001b[0m     \u001b[38;5;28;01mif\u001b[39;00m \u001b[38;5;28mself\u001b[39m\u001b[38;5;241m.\u001b[39mstate\u001b[38;5;241m.\u001b[39mCB \u001b[38;5;129;01mis\u001b[39;00m \u001b[38;5;129;01mnot\u001b[39;00m \u001b[38;5;28;01mNone\u001b[39;00m \u001b[38;5;129;01mand\u001b[39;00m \u001b[38;5;28mself\u001b[39m\u001b[38;5;241m.\u001b[39mstate\u001b[38;5;241m.\u001b[39mCxB \u001b[38;5;129;01mis\u001b[39;00m \u001b[38;5;129;01mnot\u001b[39;00m \u001b[38;5;28;01mNone\u001b[39;00m:\n\u001b[1;32m    801\u001b[0m         \u001b[38;5;66;03m# we converted 8-bit row major to turing/ampere format in the first inference pass\u001b[39;00m\n\u001b[1;32m    802\u001b[0m         \u001b[38;5;66;03m# we no longer need the row-major weight\u001b[39;00m\n",
      "File \u001b[0;32m~/venv/lib/python3.10/site-packages/bitsandbytes/autograd/_functions.py:556\u001b[0m, in \u001b[0;36mmatmul\u001b[0;34m(A, B, out, state, threshold, bias)\u001b[0m\n\u001b[1;32m    554\u001b[0m \u001b[38;5;28;01mif\u001b[39;00m threshold \u001b[38;5;241m>\u001b[39m \u001b[38;5;241m0.0\u001b[39m:\n\u001b[1;32m    555\u001b[0m     state\u001b[38;5;241m.\u001b[39mthreshold \u001b[38;5;241m=\u001b[39m threshold\n\u001b[0;32m--> 556\u001b[0m \u001b[38;5;28;01mreturn\u001b[39;00m \u001b[43mMatMul8bitLt\u001b[49m\u001b[38;5;241;43m.\u001b[39;49m\u001b[43mapply\u001b[49m\u001b[43m(\u001b[49m\u001b[43mA\u001b[49m\u001b[43m,\u001b[49m\u001b[43m \u001b[49m\u001b[43mB\u001b[49m\u001b[43m,\u001b[49m\u001b[43m \u001b[49m\u001b[43mout\u001b[49m\u001b[43m,\u001b[49m\u001b[43m \u001b[49m\u001b[43mbias\u001b[49m\u001b[43m,\u001b[49m\u001b[43m \u001b[49m\u001b[43mstate\u001b[49m\u001b[43m)\u001b[49m\n",
      "File \u001b[0;32m~/venv/lib/python3.10/site-packages/torch/autograd/function.py:598\u001b[0m, in \u001b[0;36mFunction.apply\u001b[0;34m(cls, *args, **kwargs)\u001b[0m\n\u001b[1;32m    595\u001b[0m \u001b[38;5;28;01mif\u001b[39;00m \u001b[38;5;129;01mnot\u001b[39;00m torch\u001b[38;5;241m.\u001b[39m_C\u001b[38;5;241m.\u001b[39m_are_functorch_transforms_active():\n\u001b[1;32m    596\u001b[0m     \u001b[38;5;66;03m# See NOTE: [functorch vjp and autograd interaction]\u001b[39;00m\n\u001b[1;32m    597\u001b[0m     args \u001b[38;5;241m=\u001b[39m _functorch\u001b[38;5;241m.\u001b[39mutils\u001b[38;5;241m.\u001b[39munwrap_dead_wrappers(args)\n\u001b[0;32m--> 598\u001b[0m     \u001b[38;5;28;01mreturn\u001b[39;00m \u001b[38;5;28;43msuper\u001b[39;49m\u001b[43m(\u001b[49m\u001b[43m)\u001b[49m\u001b[38;5;241;43m.\u001b[39;49m\u001b[43mapply\u001b[49m\u001b[43m(\u001b[49m\u001b[38;5;241;43m*\u001b[39;49m\u001b[43margs\u001b[49m\u001b[43m,\u001b[49m\u001b[43m \u001b[49m\u001b[38;5;241;43m*\u001b[39;49m\u001b[38;5;241;43m*\u001b[39;49m\u001b[43mkwargs\u001b[49m\u001b[43m)\u001b[49m  \u001b[38;5;66;03m# type: ignore[misc]\u001b[39;00m\n\u001b[1;32m    600\u001b[0m \u001b[38;5;28;01mif\u001b[39;00m \u001b[38;5;129;01mnot\u001b[39;00m is_setup_ctx_defined:\n\u001b[1;32m    601\u001b[0m     \u001b[38;5;28;01mraise\u001b[39;00m \u001b[38;5;167;01mRuntimeError\u001b[39;00m(\n\u001b[1;32m    602\u001b[0m         \u001b[38;5;124m\"\u001b[39m\u001b[38;5;124mIn order to use an autograd.Function with functorch transforms \u001b[39m\u001b[38;5;124m\"\u001b[39m\n\u001b[1;32m    603\u001b[0m         \u001b[38;5;124m\"\u001b[39m\u001b[38;5;124m(vmap, grad, jvp, jacrev, ...), it must override the setup_context \u001b[39m\u001b[38;5;124m\"\u001b[39m\n\u001b[1;32m    604\u001b[0m         \u001b[38;5;124m\"\u001b[39m\u001b[38;5;124mstaticmethod. For more details, please see \u001b[39m\u001b[38;5;124m\"\u001b[39m\n\u001b[1;32m    605\u001b[0m         \u001b[38;5;124m\"\u001b[39m\u001b[38;5;124mhttps://pytorch.org/docs/master/notes/extending.func.html\u001b[39m\u001b[38;5;124m\"\u001b[39m\n\u001b[1;32m    606\u001b[0m     )\n",
      "File \u001b[0;32m~/venv/lib/python3.10/site-packages/bitsandbytes/autograd/_functions.py:321\u001b[0m, in \u001b[0;36mMatMul8bitLt.forward\u001b[0;34m(ctx, A, B, out, bias, state)\u001b[0m\n\u001b[1;32m    319\u001b[0m \u001b[38;5;28;01mif\u001b[39;00m \u001b[38;5;28mlen\u001b[39m(A\u001b[38;5;241m.\u001b[39mshape) \u001b[38;5;241m==\u001b[39m \u001b[38;5;241m3\u001b[39m:\n\u001b[1;32m    320\u001b[0m     A \u001b[38;5;241m=\u001b[39m A\u001b[38;5;241m.\u001b[39mreshape(\u001b[38;5;241m-\u001b[39m\u001b[38;5;241m1\u001b[39m, A\u001b[38;5;241m.\u001b[39mshape[\u001b[38;5;241m-\u001b[39m\u001b[38;5;241m1\u001b[39m])\n\u001b[0;32m--> 321\u001b[0m CA, CAt, SCA, SCAt, coo_tensorA \u001b[38;5;241m=\u001b[39m \u001b[43mF\u001b[49m\u001b[38;5;241;43m.\u001b[39;49m\u001b[43mdouble_quant\u001b[49m\u001b[43m(\u001b[49m\u001b[43mA\u001b[49m\u001b[38;5;241;43m.\u001b[39;49m\u001b[43mto\u001b[49m\u001b[43m(\u001b[49m\u001b[43mtorch\u001b[49m\u001b[38;5;241;43m.\u001b[39;49m\u001b[43mfloat16\u001b[49m\u001b[43m)\u001b[49m\u001b[43m,\u001b[49m\u001b[43m \u001b[49m\u001b[43mthreshold\u001b[49m\u001b[38;5;241;43m=\u001b[39;49m\u001b[43mstate\u001b[49m\u001b[38;5;241;43m.\u001b[39;49m\u001b[43mthreshold\u001b[49m\u001b[43m)\u001b[49m\n\u001b[1;32m    323\u001b[0m \u001b[38;5;28;01mif\u001b[39;00m state\u001b[38;5;241m.\u001b[39mthreshold \u001b[38;5;241m>\u001b[39m \u001b[38;5;241m0.0\u001b[39m \u001b[38;5;129;01mand\u001b[39;00m coo_tensorA \u001b[38;5;129;01mis\u001b[39;00m \u001b[38;5;129;01mnot\u001b[39;00m \u001b[38;5;28;01mNone\u001b[39;00m:\n\u001b[1;32m    324\u001b[0m     \u001b[38;5;28;01mif\u001b[39;00m state\u001b[38;5;241m.\u001b[39mhas_fp16_weights:\n",
      "File \u001b[0;32m~/venv/lib/python3.10/site-packages/bitsandbytes/functional.py:2591\u001b[0m, in \u001b[0;36mdouble_quant\u001b[0;34m(A, col_stats, row_stats, out_col, out_row, threshold)\u001b[0m\n\u001b[1;32m   2576\u001b[0m \u001b[38;5;28;01melse\u001b[39;00m:\n\u001b[1;32m   2577\u001b[0m     lib\u001b[38;5;241m.\u001b[39mcdouble_rowcol_quant(\n\u001b[1;32m   2578\u001b[0m         ptrA,\n\u001b[1;32m   2579\u001b[0m         ptrRowStats,\n\u001b[0;32m   (...)\u001b[0m\n\u001b[1;32m   2589\u001b[0m         ct\u001b[38;5;241m.\u001b[39mc_int32(cols),\n\u001b[1;32m   2590\u001b[0m     )\n\u001b[0;32m-> 2591\u001b[0m \u001b[43mpost_call\u001b[49m\u001b[43m(\u001b[49m\u001b[43mprev_device\u001b[49m\u001b[43m)\u001b[49m\n\u001b[1;32m   2593\u001b[0m \u001b[38;5;28;01mreturn\u001b[39;00m out_row, out_col, row_stats, col_stats, coo_tensor\n",
      "File \u001b[0;32m~/venv/lib/python3.10/site-packages/bitsandbytes/functional.py:463\u001b[0m, in \u001b[0;36mpost_call\u001b[0;34m(prev_device)\u001b[0m\n\u001b[1;32m    459\u001b[0m     torch\u001b[38;5;241m.\u001b[39mcuda\u001b[38;5;241m.\u001b[39mset_device(device)\n\u001b[1;32m    460\u001b[0m     \u001b[38;5;28;01mreturn\u001b[39;00m prev_device\n\u001b[0;32m--> 463\u001b[0m \u001b[38;5;28;01mdef\u001b[39;00m \u001b[38;5;21mpost_call\u001b[39m(prev_device):\n\u001b[1;32m    464\u001b[0m     torch\u001b[38;5;241m.\u001b[39mcuda\u001b[38;5;241m.\u001b[39mset_device(prev_device)\n\u001b[1;32m    467\u001b[0m \u001b[38;5;28;01mdef\u001b[39;00m \u001b[38;5;21mget_transform_func\u001b[39m(dtype, orderA, orderOut, transpose\u001b[38;5;241m=\u001b[39m\u001b[38;5;28;01mFalse\u001b[39;00m):\n",
      "\u001b[0;31mKeyboardInterrupt\u001b[0m: "
     ]
    }
   ],
   "source": [
    "for i in range(100):\n",
    "    tokens = batch_to_device(tokenizer(dataset.dataset[i]['prompt'], return_tensors='pt'))\n",
    "    l = len(tokens['input_ids'][0])\n",
    "    output = model.generate(\n",
    "        **tokens,\n",
    "        max_length=10 + l\n",
    "    )\n",
    "    print(tokenizer.batch_decode(output[:,l:]), dataset[i]['label'], l)"
   ]
  },
  {
   "cell_type": "code",
   "execution_count": 32,
   "metadata": {},
   "outputs": [
    {
     "data": {
      "text/plain": [
       "(0, 497)"
      ]
     },
     "execution_count": 32,
     "metadata": {},
     "output_type": "execute_result"
    }
   ],
   "source": [
    "sum(preds), sum(labels)"
   ]
  },
  {
   "cell_type": "code",
   "execution_count": 19,
   "metadata": {},
   "outputs": [],
   "source": [
    "import torch\n",
    "\n",
    "class LogitsDataset(torch.utils.data.Dataset):\n",
    "    def __init__(self, dir_path):\n",
    "        super(LogitsDataset).__init__()\n",
    "        self.ids = torch.load(f\"{dir_path}/input_ids.pt\")\n",
    "        self.masks = torch.load(f\"{dir_path}/attention_masks.pt\")\n",
    "        self.indices = torch.load(f\"{dir_path}/indices.pt\")#[:, :, :10]\n",
    "        self.values = torch.load(f\"{dir_path}/values.pt\")#[:, :, :10]\n",
    "\n",
    "    def __len__(self):\n",
    "        return len(self.ids)\n",
    "\n",
    "    def __getitem__(self, idx):\n",
    "        return {\n",
    "            'input_ids': self.ids[idx],\n",
    "            'attention_mask': self.masks[idx],\n",
    "            'indices': self.indices[idx],\n",
    "            'values': self.values[idx],\n",
    "        }"
   ]
  },
  {
   "cell_type": "code",
   "execution_count": 20,
   "metadata": {},
   "outputs": [
    {
     "data": {
      "text/plain": [
       "['<s> a0x0040550atestb_al_al[label=\"0x0040550a\\\\ntestb %al, %al\"];\\n a0x0040550cje_0x00405513[label=\"0x0040550c\\\\nje 0x00405513\"];\\n a0x00405513call_0x00402ef4[label=\"0x00405513\\\\ncall 0x00402ef4\"];\\n a0x00402ef4fninit_[label=\"0x00402ef4\\\\nfninit \"];\\n a0x00402ef6fwait_[label=\"0x00402ef6\\\\nfwait \"];</s><unk><unk><unk><unk><unk><unk><unk><unk><unk><unk><unk><unk><unk><unk><unk><unk><unk><unk><unk><unk><unk><unk><unk><unk><unk><unk><unk><unk><unk><unk><unk><unk><unk><unk><unk><unk><unk><unk><unk><unk><unk><unk><unk><unk><unk><unk><unk><unk>',\n",
       " '<s> * router: added optional :ref:`upstream logs <envoy_api_field_config.filter.http.router.v2.Router.upstream_log>`.\\n * router: added complete :ref:`custom append/override/remove support\\n   <config_http_conn_man_headers_custom_request_headers>` of request/response headers.\\n * router: added support to :ref:`specify response code during redirect\\n   <envoy_api_field_route.RedirectAction.response_code>`.\\n * router: added :ref:`configuration <envoy_api_field_route.RouteAction.cluster_not_found_response_code>`\\n   to return either a 404 or 503 if the upstream cluster does not exist.\\n * runtime: added :ref:`comment capability <config_runtime_comments>`.\\n * server: change default log level (:option:`-l`) to `info`.\\n * stats: maximum stat/name sizes and maximum number of stats are now variable via the\\n   :option:`--max-obj-name-len` and :option:`--max-stats` options.</s><unk><unk>',\n",
       " '<s>  *\\t0xd0 (Task EvenField 0 HorizontalBlank 0 0 0 0)\\n  *\\n  * The user application DID bytes we care about are:\\n  *\\t0x91 (1 0 010        0 !ActiveLine AncDataPresent)\\n  *\\t0x55 (0 1 010 2ndField !ActiveLine AncDataPresent)\\n  *\\n  */\\n static const u8 sliced_vbi_did[2] = { 0x91, 0x55 };\\n struct vbi_anc_data {\\n \\t/* u8 eav[4]; */\\n \\t/* u8 idle[]; Variable number of idle bytes */\\n \\tu8 preamble[3];\\n \\tu8 did;\\n \\tu8 sdid;\\n \\tu8 data_count;\\n \\tu8 idid[2];\\n \\tu8 payload[1]; /* data_count of payload */\\n \\t/* u8 checksum; */</s><unk><unk><unk><unk><unk><unk><unk><unk><unk><unk><unk><unk>',\n",
       " '<s> Various institutions stated a desire to rescue \\'fallen women and help them massqge their trade and \\'re-enter society training them for positions such as domestic servants. Jan Arild Ellingsen represents Progress on the committee, and is an Halden spa Halden critic, as is Ropstad.\\n Support is particularly strong amongst the youth wings of the parties.\\n Massate, confirmed, in individual or group Forgot account? Later, it was stated that Teen guy fucks girl in Norway href=\"https://www.trasteveredreamsuites.com/swinger-clubs-lillehammer-norway.html\">Swinger clubs Lillehammer Norway was an exercise designed primarily to stimulate debate on the issue.\\n The staff is extremely nice and helpful. While at first I was concerned that these manipulation places might just be whorehouses in disguise, other travelers and my cuonty Rough Guide assured Lotus chinese Fredrikstad that many are veritably legitimate massage businesses.\\n This Arendal county massage outcall Swingers clubs Norway part of the following collections : Thanks for voting! We will definitely stay.</s>',\n",
       " '<s> “What Sources Did the Gospel Writers Use?” September 2005. Get the book and read this short blog entry for a good summary.\\n G. N. Stanton. “Q.” Dictionary of Jesus and the Gospels. Eds. Joel B. Green and Scot McKnight. Intervarsity, 1992. Pp. 644-50.\\n Etienne Trocmé. The Passion as Liturgy: A Study in the Origin of the Passion Narratives in the Four Gospels. SCM, 1983.\\n Bruce Chilton and Craig A. Evans, eds. Authenticating the Words of Jesus. Brill, 1999.\\n Richard A. Horsley, ed. Oral Performance, Popular Tradition, and Hidden Transcript in Q. Semeia Studies. Society of Biblical Literature, 2006.\\n David E. Orton, ed. The Synoptic Problem: Studies from Novum Testamentum. Brill, 1999.\\n Petros Vassilidies.</s><unk><unk><unk><unk><unk><unk><unk>',\n",
       " \"<s> She hurriedly used Can You Damage Your Lungs Vaping Thc Oil Li Ke approached, and ran out quickly Li Ke couldn't catch Thc Oil Brownie Recipe so she gave up and felt that she was losing face. If Can Cbd Oil Help People With Diverticolus shop, it won't be wronged The old beggar yelled from the room Why don't you two come in to eat? If you don't come, we will all have eaten Come Xiao Lingzi Thc Oil Brownie Recipe Wu Qiuyu. The man shrugged, smiled and Cannabis Red Oil I so strong? When you speak out, it is clear that you are not complimenting me, but making trouble new age premium hemp oil 1000mg reviews. There is no trick, and it depends recovery cbd tea to become a Usda Certified Organic Cbd Oil Companies master!</s><unk><unk><unk><unk><unk><unk><unk><unk><unk><unk><unk><unk><unk><unk><unk><unk><unk><unk><unk><unk><unk><unk><unk><unk><unk><unk><unk><unk><unk><unk><unk><unk><unk><unk><unk><unk><unk><unk><unk><unk><unk><unk>\",\n",
       " '<s> This probiotic formula has been our best seller for over a year. High potency, 8 critical strains and prebiotic fiber assure your digestive and immune systems stay in optimal health.\\n At our current special price of 79 cents per day for 60 capsules and 84 cents per day for 30 capsules, this is the best value of any probiotic formula!\\n • Very high potency at 35 billion viable cells per capsule.\\n • Bioenhanced Acid Resistant Strains (BEARS) ensures survivability in both low (acid) and high (alkaline) pH environments.\\n • The BEARS strains in this formula are designed to withstand the acid conditions present in the stomach during digestion without the need for an enteric coating.\\n • Selected strains have been cultivated under harsh conditions, and have developed the ability to adapt to extreme changes in environment (“survival of the fittest”) i.e. pH, temperature.</s><unk><unk><unk><unk><unk><unk><unk><unk><unk><unk><unk><unk><unk><unk><unk><unk><unk><unk><unk><unk>',\n",
       " '<s> Composing is fun, specifically whenever you must compose essays concerning something you recognize about. A tried and tested method to become arranged Second of all, writing essays is an established means to be a self-disciplined individual. A special practical essay composing suggestion is to guarantee you devote sufficient time for assessing all the regions of your preferred subject concern.\\n Choose what sort of declaration you would love to make with your writing. Your writing can produce a tremendous impact on your viewers yet only if you choose to be sincere with them in a way they can associate. Essay creating varies from most of various other kinds of Flask Programming you will have to compose in institution and also college. It is a vital part of college life. It is the simple component. In the future, also, learning exactly how to make up an exceptional scholastic essay is similar to riding a bike with the training wheels on.\\n The single means through which your research study essay paper is going to be a success is by checking out a good deal on the subject of research.</s><unk><unk><unk><unk><unk><unk><unk><unk><unk><unk><unk><unk><unk><unk><unk><unk><unk><unk><unk><unk><unk><unk><unk>',\n",
       " \"<s> Char-grilled, tender and soft, New Ubin's Foie Gras satay comes with an in-house raspberry sauce which creates a sinfully good combination that practically melts in your mouth.\\n Perfectly fragrant rice cooked in coconut milk and pandan leaves give way to a splendid combination of coconut and chicken. New Ubin's Nasi Lemak is served with Ayam Bakar (charcoal-grilled chicken), hard-boiled eggs, anchovies and sliced cucumbers.\\n Claypot Chicken covered in sweet and savoury glaze, is prepared with the addition of Sauza Gold Tequila for a strong and boozy kick.\\n Flavours of smoky charcoal grilled red snapper fish head, Enoki mushrooms, tofu, bean curd, yam and seaweed blend together in this steamboat to present a fragrant amalgamation of flavours.\\n Caramelised house-made Smoked Pork Collar creates a combination of sweet and tangy flavours to the palette.</s><unk><unk><unk><unk>\",\n",
       " '<s> Lusaka Times (2016) ‘President Lungu Appoints a Commission of Inquiry to Examine the Causes of the Political Violence’, Available at: <https://www.lusakatimes.com/2016/10/22/president-lungu-appoints-commission-inquiry-examine-causes-political-violence/> [Accessed 6 June 2019].\\n Namaiko, Tunji and Etyang, Oita (2017) ‘Conflict Structural Vulnerability Assessment (SVA) – Zambia’, p. 12, Available at: <https://www.themastonline.com/wp-content/uploads/2018/04/Report-on-SVA-Zambia-Final-Final.pdf> [Accessed 8 September 2018].</s><unk><unk><unk><unk><unk><unk><unk><unk><unk><unk><unk><unk><unk><unk><unk><unk><unk><unk><unk><unk><unk><unk><unk><unk><unk><unk><unk><unk><unk><unk><unk><unk><unk><unk><unk>',\n",
       " '<s> Thirteen general fraternities are members of and governed by the Interfraternity Council. There is also a Cultural Greek Council which governs over six sororities, six fraternities and one co-ed fraternity.\\n DIG Magazine, the campus magazine, has gone through many changes throughout the years. It started off as The Lantern, a magazine for night-time students, before transforming to UniverCity in 1973. Then, it turned into University Magazine. In the early 2000s, the magazine transformed to DIG Magazine as a music magazine before transitioning to a general art & culture magazine. Today, the magazine features interesting people within the community, and discusses topics that concern students\\' interests.\\n ^ California Department of Education, p. 153.\\n ^ a b January 22, 2009.Los Angeles Times. \"Carl McIntosh Dies at 94.\" Accessed 2013-08-14.\\n ^ a b January 26, 2009.Daily 49er.Vega, Frances.</s><unk><unk><unk><unk><unk><unk><unk><unk><unk>',\n",
       " '<s> 588,679111216690831360,2767,6293\\n 589,679132435750195208,1251,3136\\n 590,679148763231985668,1112,2934\\n 591,679158373988876288,8798,22752\\n 592,679462823135686656,20414,33581\\n 593,679475951516934144,689,2223\\n 594,679503373272485890,1606,3343</s><unk><unk><unk><unk><unk><unk><unk><unk><unk><unk><unk><unk><unk><unk><unk>',\n",
       " '<s> Artifact made by weaving or felting or knitting or crocheting natural or synthetic fibers. Synonyms: fabric, material, textile. \"Woven cloth originated in Mesopotamia around 5000 BC\" , \"She measured off enough material for a dress\"\\n ... find their food without trouble,—without gardener to gather it, purchaser to buy it, cook to prepare it, or carver to cut it up; whilst their skin defends them from the rain and snow, without the merchant giving them cloth, the tailor making the dress, or the errand-boy begging for a drink-penny. To man however, who has intelligence, Nature did not care to grant these indulgences, since he is able to procure for himself what he wants. This is the reason that we commonly see clever men poor, and blockheads ...</s><unk><unk><unk><unk><unk><unk><unk><unk><unk><unk><unk><unk><unk><unk><unk><unk><unk><unk><unk><unk><unk><unk><unk><unk><unk><unk><unk><unk><unk><unk><unk><unk><unk><unk><unk><unk><unk><unk><unk><unk><unk><unk><unk><unk><unk><unk><unk><unk><unk><unk><unk><unk><unk><unk><unk><unk><unk><unk><unk><unk><unk><unk><unk><unk>',\n",
       " '<s> So again, I think we are -- we’re in the midst of -- and we’ve seen independents in, quite frankly, the last three election cycles side with different political parties. That’s because they want Washington to work for them, not against them.\\n And I think that’s -- again, that’s the message that we took from this campaign.\\n Q Since Senator McConnell today did say that the Republicans would be pressing repeatedly in his words to repeal the health care bill and to repeal the financial bill -- he suggested also the financial regulation reform -- will the President veto any efforts to do either of those?\\n MR. GIBBS: Well, I honestly don’t think, Jake, it will come to that.\\n Let’s take financial reform. I just mentioned health care reform.</s><unk><unk><unk><unk><unk><unk><unk><unk><unk><unk><unk><unk><unk><unk><unk><unk><unk><unk><unk><unk><unk><unk><unk><unk><unk><unk><unk><unk><unk><unk><unk><unk><unk><unk><unk><unk><unk><unk><unk><unk><unk><unk><unk><unk><unk><unk><unk><unk><unk><unk><unk><unk><unk><unk><unk><unk><unk><unk><unk><unk><unk><unk><unk><unk><unk><unk><unk><unk><unk><unk><unk><unk><unk><unk><unk><unk>',\n",
       " '<s> Why would revolutionary Tripoli be subject to a media blackout if it was in the hands of triumphant revolutionaries and its euphoric supporters.\\n It is also a lie that there have been mass celebrations: even the media montage which showed “Green Square” being taken over only showed unsavoury looking militants. Where were the people? Could you have imagined a total blackout of Tahrir Square in the midst of those great events in January? Where is Aljazeera to show us jubilant Tripoli. There are no scenes of joy in Tripoli: only a descent into hell.\\n Of course, there was certainly confusion last Monday about what exactly had happened.\\n There still is, but at the moment of writing in response to the declaration that the rebels had taken Tripoli our leftist editors would have known that NATO had bombed and provided aerial support for the rebels for nearly 6 months without them being able to achieve any real progress.\\n They would have been aware, therefore, that even with massive NATO backing they were militarily incapable.</s><unk><unk><unk><unk><unk><unk><unk><unk><unk><unk><unk><unk><unk><unk><unk>',\n",
       " \"<s>  In addition, psychiatrists help treat mental health conditions like schizophrenia or depression. If you have good communication skills and are interested in helping people live a better life, this is just the career path for you.\\n In the past decade, demand for mental health services has seen a rise due to increased mental health issues while the stigma surrounding mental health conditions is declining. Unfortunately, the high demand has caused a gap in psychiatric care; there is a need to fill jobs as mental health practitioners. As a medical student or nurse, if you wish to pursue a career in psychiatry, there can be many convincing reasons.\\n Psychiatrists work flexible hours.\\n Unlike working in any other job in medicine, psychiatrists can work flexible hours. You can schedule your patients as per your routine and give enough time to your family. You don't have to be on call if you have a busy day at work and can reschedule your appointments with patients. Flexibility in working hours, leaves and control over your time is among the many perks of being a psychiatrist.</s><unk><unk><unk><unk><unk><unk><unk><unk><unk><unk><unk><unk><unk>\",\n",
       " \"<s> Ever since schools have been closed, I've had much more time to code and write.\\n Online school only takes me 1-2 hours every morning. Before, school in-person before quarantine took at least 11 hours out of my day, leaving me with little time to do what I love (coding, writing, building).\\n Doing school online and at home isn't the main focus of this article. The main focus is that I setup a monitor in my room and it's helped me get a LOT done.\\n It's a very simple setup, but it works great.\\n I have experimented with many setups in many different rooms, but this one seems to work the best. Since the monitor wasn't tall enough to not be blocked by my Mac computer, I placed the monitor on top of a handful of books.\\n Speaking of books, I'm working on making my own reading list. I've read many books this year, and I am reviewing my favorite books and how they've changed my life.\\n Back to the setup. The table I am using is primarily made to be a picnic table.</s><unk><unk><unk><unk><unk><unk><unk><unk><unk>\",\n",
       " '<s> Dr. Weitz: Are you going to the Designs for Health seminar in Orlando?\\n Dr. Tan: Yes, I will be. Will you be going?\\n Dr. Weitz: I’m going, so I’ll look.\\n Dr. Tan: Oh.\\n Dr. Weitz: Yeah, so look for me there. I’ll say hello to you.\\n Dr. Tan: Oh, Dr. Weitz, I will look for you.\\n Dr. Weitz: Grab a cup of coffee or something.\\n Dr. Tan: Yeah, will do. Thank you.\\n Dr. Weitz: Thank you, Dr. Tan. Okay. Bye.\\n Dr. Tan: All right. Bye-bye.\\n Dr. Weitz: Thank you for making it all the way through this episode of the Rational Wellness Podcast. And if you enjoyed this podcast, please go to Apple Podcast and give us a five star ratings and review. That way, more people will be able to find this Rational Wellness podcast when they’re searching for health podcasts.</s><unk><unk><unk><unk><unk><unk><unk><unk><unk><unk><unk><unk><unk><unk><unk><unk><unk><unk>',\n",
       " \"<s> Lee, K.E.C., Cherian, M., Ng, M., Ismail, R., Sim, J. & Chee, M. F. (2004). Children's experiences of multicultural relationships in informal primary school settings. In A.H. Lai (Ed.). Beyond Rituals and Riots: Ethnic Relations and Social Cohesion in Singapore. Singapore: Marshall Cavendish International.\\n Lee, K.E.C., Ng, M. & Phang, R. (2002). Effects of cooperative learning on elementary school children in Singapore. Asia Pacific Journal of Education. 22 (1), 3-15.\\n Lee, K.E.C., Ng, M. & Jacobs, G. M. (1998). Cooperative Learning in the Thinking Classroom. Educational Practice and Theory. 20 (1), 59-73.\\n Purnell, K. N., Lee, K.E.C. & Lambert, D. (1995). Promoting world class standards in geography with high school students.</s><unk>\",\n",
       " \"<s> I decided to order one of these last week, it should arrive early next week.\\n I was close to buying an ipod dock as I didn't have one, but thought I'd just go for the DNP-720AE as I like the idea of listening to internet radio without having to switch my PC on.\\n Streaming from my PC is something I want to play with too, so this makes the DNP-720AE worthwhile for me as I don't have an iphone (and don't really like the idea of having to control things using one).\\n So, has anyone else here bought a DNP-720AE?\\n Hi, I bought one of these last week, I've been waiting eagerly for something like this from Denon. The sound quality from the tuner and anything streamed wirelessly to it (internet radio, ipod) is excellent in true Denon tradiotion, great clarity and plenty of detail and bass. Very easy to set up the connection to the wireless router and you're away. I connect my ipod touch to the unit via Airplay, no need to have a computer on.</s><unk><unk><unk><unk><unk>\",\n",
       " '<s>  *    It is assumed there is only one pool.\\n  */\\n static void\\n _mpool_alloc(size_t size)\\n {\\n     unsigned long pbase = 0;\\n     if (dma_debug >= 1) {\\n         gprintk(\"Allocating DMA memory using method dmaalloc=%d\\\\n\", dmaalloc);\\n     }\\n #if defined(__arm__) && !defined(CONFIG_HIGHMEM)\\n     if (_use_himem) {\\n         gprintk(\"DMA in high memory requires CONFIG_HIGHMEM on ARM CPUs.\\\\n\");\\n         return;\\n     }\\n #endif\\n     if (size == 0) return;\\n     if (_use_himem) {\\n         /* Use high memory for DMA */\\n         if (_himemaddr) {\\n             pbase = _himemaddr;\\n         } else {\\n             pbase = virt_to_phys(high_memory);\\n         }\\n         _cpu_pbase = pbase;\\n         _dma_vbase = phys_to_virt(pbase);</s>',\n",
       " '<s> The DBS filter paper cards and devices for microsampling of blood examined were the Whatman 903 Protein Saver card (GE Healthcare Ltd., Cardiff, UK), the Capitainer quantitative DBS (qDBS; Capitainer AB, Stockholm, Sweden), the 10 μL Mitra Clamshell (Neoteryx, Torrance, CA, USA), and the HemaXis DB 10 (DBS System SA, Gland, Switzerland). The addition of PLD inhibitors to dismounted Capitainer qDBS discs was made by pipetting 2-μL inhibitor solution onto the disc and allowing it to dry for at least 24 h.\\n Blood samples\\n The blood specimens used for this study were de-identified surplus volumes of fresh venous whole blood samples selected among those sent to the Departments of Clinical Pharmacology and Clinical Chemistry, Karolinska University Laboratory (Stockholm) for routine analysis.</s><unk><unk><unk><unk><unk><unk><unk><unk><unk><unk><unk><unk><unk><unk><unk><unk><unk><unk><unk><unk><unk><unk><unk><unk><unk><unk><unk><unk><unk><unk><unk>',\n",
       " '<s> -3.817331305244588968e-01\\n -6.781766232894015367e-01\\n -1.760225594553859185e-01\\n -9.911622874987700005e-01\\n 7.727463526824300821e-01\\n 9.252274943379124039e-01\\n 9.297061158660411273e-01\\n 6.089314105864587212e-01\\n -8.142554176855152370e-01</s><unk><unk><unk><unk><unk><unk><unk><unk><unk><unk><unk><unk><unk><unk><unk><unk><unk><unk><unk><unk><unk>',\n",
       " '<s> You must take the steroids according to the instructions your doctor or pharmacist gives you!\\n Haben Sie gewusst, kamagra chewable tablets uk dass Spirituosen Potenbeschwerden bei Männern begünstigen? Other research has shown that some medicines -- including the antidepressants Paxil and Prozac -- can interfere with how CYP2D6 works and might reduce tamoxifen’s effectiveness against breast cancer. Paresthesias such as electric shock sensations), kamagra chewable tablets uk anxiety, confusion, headache, lethargy, emotional lability, insomnia, and hypomania. So, kamagra chewable bestellen it is hard to know how often the side effect occurs. Alloway (University of Tennessee Bowld Hospital, Memphis); M. • Zyvox (linezolid) is an antiviral manufactured by Pfizer. These include the prescription medication Valtrex!</s><unk><unk><unk><unk><unk><unk><unk><unk><unk><unk><unk><unk><unk><unk><unk><unk><unk><unk><unk><unk><unk><unk><unk><unk><unk><unk><unk><unk>',\n",
       " '<s> Es único y por mucho que cambies el nick, el identificador nunca cambia Hi, has the DFINITY airdrop done? I did kyc and received no DFINITY They already did right? Best indicator for binary options indicator скачать So far, has been the same pattern every time before going higher, would need a clear reversal to consider a short Pues programate un contrato, yo uso Serpent. How to trade burstcoin for bitcoins with. So far, everything is going as planned. Ella es una magna cum laude de la Universidad de Pennsylvania, con un B. Additionally, new bitcoins will coinbase is safe why coinbase take so long to transfer eth to be issued for decades to come. Binance coin runs on the Ethereum blockchain Mar 5, Here is What is Driving asset is ranked 7th on the Brave New Coin market cap table, below EOS (EOS).</s><unk><unk><unk><unk><unk><unk><unk><unk><unk><unk><unk><unk><unk><unk><unk><unk><unk><unk><unk><unk><unk><unk><unk><unk><unk><unk><unk><unk><unk><unk><unk><unk><unk><unk><unk><unk><unk><unk><unk><unk><unk><unk><unk><unk><unk><unk>',\n",
       " '<s> This year, we asked over 2,700 game developers about their work, and their industry as a whole. We found developers are working to improve accessibility in gaming; they’re mixed on the viability of Steam Deck; and they have questions about bringing cryptocurrency or non-fungible tokens (NFTs) into the gaming sphere. We also included a retrospective, looking back at 10 years of State of the Industry.\\n Here are some highlights from the 2022 State of the Game Industry Report—for a free copy of the full report, head here.\\n At the time the survey was conducted, 38% of respondents said that their companies reached out to them to start a conversation about how misconduct and toxicity are handled in the industry; 62% said their companies did nothing. This shows a growing number of workplaces have taken at least some initiative to root out toxicity, while also pointing out the industry has a way to go.</s><unk><unk><unk><unk><unk><unk><unk><unk><unk><unk><unk><unk><unk><unk><unk><unk><unk><unk><unk><unk><unk><unk><unk><unk><unk><unk><unk><unk><unk><unk><unk><unk>',\n",
       " '<s> These words and phrases are printed much larger than the other text, and therefore have a much larger impact on us. By just looking at these two places on the graphic the average viewer has already been convinced that plastic in the ocean is something bad that we need to stop, and that mean the graphic has done its job. All of the real facts do not need to be read, and in fact nothing is really gained from reading them, all of the reactions that you will likely experience from this picture will come in the first few seconds of viewing it.\\n While I was reading through James Gleick’s The Information this passage jumped out at me. After reading through the excerpt which kept talking about how saturated our culture has become with information over the past five hundred years, I came back to this passage. It’s hard to believe that after five hundred years of information overload no one had really wrote about how the printing press and communication gave rise to modern times. This seems to contradict what Gleick is saying, because if we were really over saturated with information would not all views on history, including Eisenstein’s, be available to everyone who is willing to search for it.</s>',\n",
       " \"<s> Is gambling considered righteous or is it a sin?\\n Are Kshatriyas allowed to gamble?\\n Is addiction to gambling righteous?\\n Who are all the characters from different Hindu stories that gambled?\\n I already asked a question on gambling in Mahabharata, but this is for all other scriptures and Hinduism in general.\\n It is described in Rigveda Mandala 10, Sukta 34. You can read HYMN XXXIV. Dice, Etc.\\n Quoting couple of verses that show the adverse effects of gambling and advice not to gamble.\\n 10 The gambler's wife is left forlorn and wretched: the mother mourns the son who wanders homeless.\\n 13 Play not with dice: no, cultivate thy corn-land. Enjoy the gain, and deem that wealth sufficient. There are thy cattle there thy wife, O gambler. So this good Savitar himself hath told me.\\n Gambling is a vice. It is considered as a sin.</s><unk><unk><unk>\",\n",
       " '<s> human margins will derive to start filtered to be how activities and Primary pictures are to make several historical statistics, making fair factors and indicating a cohesion for extended sale of device( Schadt et al. Catastrophic members may be an ex-military group of a academic science. In one troubling theme, a are of a BRCA deal described to an online School and young manifestation by the period against the boom subject( Peres 1999). At our variance, where the elderly digital term were all major( and only s) new characteristics before field continuing issues began seen, both degenerative and necessary records by 14-bit full and Tough ways was conducted in the requirements slicing the various collection of the BRCA submissions. In the identity tool, Chinese decree patients are successfully compared shown. several figures called named First elegant annotators when the Chinese Fulfilment called funded in personalized intelligent bits, including considered partial or inconclusive debut( Fleming 2008; Davies 2008; Ng et al. Vorhaus 2010; Hamburg and Collins 2010).</s><unk><unk><unk><unk><unk>',\n",
       " '<s> Dushyant Dave, the counsel for the lawyers’ association, had argued that the CBI changed its stand on Shah after the change of government at the Centre in 2014. The petition also raised questions over the CBI’s decision to file revision applications against the discharge of two police officers accused in the case and not challenge Shah’s discharge from the case.\\n Additional Solicitor General Anil Singh, appearing for the CBI, said there was no law that makes it compulsory for the agency to file appeals or revision applications for every discharge.\\n Sheikh was a wanted criminal killed by the Gujarat Police in an encounter in November 2005, which is alleged to have been staged. Sheikh and his wife Kauserbi were travelling by bus from Hyderabad to Sangli in Maharashtra when they were stopped by the Gujarat and Rajasthan police, abducted and shot dead near Gandhinagar. A sub-inspector also allegedly raped Kauserbi before she was murdered.</s><unk><unk><unk><unk><unk><unk><unk><unk><unk><unk><unk><unk><unk><unk><unk><unk><unk>',\n",
       " '<s> Developers will take a present internet site and alter layout, design, incorporating new pages, images along with features. They do this by having a structure submit, that is utilized to position anything together. The layout records often include the web developers. Conversely, they usually are developed by them using specified packages. Template designers often times have more knowledge about how numerous packages do the job and can create a much better structure on your website pages.\\n Very first web browser engineering and software programs frequently demand much better functional observation catch the attention of be taken into consideration, and quite a few web-site designers offers this. Once you know using it proficiently, it’s actually not difficult to increase good taste to your site. Often, 1st cell phone browser technological innovation help it become vital to develop a site having a low-standard page layout. Numerous graphic designers have experience in working with many engineering and will be able to create a web page look beautiful for users with windows that don’t help all of the needed attributes.\\n There are several decisions available for personal computer and tablet pc pc’s.</s><unk><unk><unk><unk><unk><unk><unk><unk><unk><unk><unk><unk><unk><unk><unk>',\n",
       " '<s> This is because, with root gain access to, one might potentially break the underlying server framework, developing a less reputable platform for both yourself and also other clients.\\n Nonetheless, most setups that normally require root, can still be managed with the wealth of Cloudways settings readily available. We don’t feel that this is a disadvantage because, actually, you don’t require it.\\n With this feature, you can better examine whether your details IP address is open or obstructed. As soon as you are performed with including IP addresses to whitelist you can simply hit ‘Conserve Modifications’ in order to use them.\\n Cloudways’ upright scaling, is created such that you can conveniently boost your web server dimension with the Control board with no hassle – it’s dead simple.\\n DigitalOcean and also Vultr only provide web server upgrades of web server size while Amazon as well as Google Compute Engine allow you to downsize them too (this would be terrific if you want to handle web traffic spikes such as holiday). Cloudways Vs Fastcomet.</s><unk><unk><unk><unk><unk><unk><unk><unk><unk><unk><unk><unk><unk><unk><unk><unk>',\n",
       " \"<s> Although the examples above target the same element, the selectors are quite different. The second one is actually invalid - you can't use it as the basis of a new jQuery object. It only shows that the filter method was used to narrow down the collection.\\n This is also the basis for the quickEach() method that you can use as a faster alternative to the default each().\\n The CSS hooks API was introduced to give developers the ability to get and set particular CSS values. Using it, you can hide browser specific implementations and expose a unified interface for accessing particular properties.\\n What is even better, is that people have already built a rich library of supported CSS hooks that you can use for free in your next project.\\n Which will do what you expect. The $.proxy function takes two arguments - your original function, and a context. It returns a new function in which the value of this is always fixed to the context. You can read more about $.proxy in the docs.\\n If you invest some time in writing a piece of jQuery code, consider turning it into a plugin. This promotes code reuse, limits dependencies and helps you organize your project's code base.</s><unk><unk><unk><unk><unk><unk><unk><unk><unk><unk>\",\n",
       " '<s> As Dr. Jeffrey M. Friedman, M.D., Ph.D., head of the Laboratory of Molecular Genetics at Rockefeller University, explained: “The average human consumes one million or more calories per year, yet weight changes very little in most people.” Research has shown that through diet and exercise, people have a long-term control over their weights within a 10- or 15-pound range, said Dr. Friedman. That’s never going to transform someone into a different body type — make a naturally fat person thin or a genetically lean person obese.\\n Nor is obesity a mental or behavioral disorder, although the fattest people do experience a disproportionate degree of stigma, even in healthcare and among healthcare professionals. Still, the prejudicial belief that obesity is caused by overeating, an addiction to food or a psychological disorder continues today.\\n Deep brain stimulation (DBS) is founded on the unsound premise that obesity itself is a disease caused by uncontrolled eating.</s><unk><unk><unk><unk><unk><unk><unk><unk><unk><unk><unk><unk>',\n",
       " \"<s> And, no, I'm not ready for another shoot for at least a few weeks :wink:.\\n The more I like it! I love the way everyone in the bg is oof, and softly faded B&amp;W. Other than keeping the couple in color, how did you achieve that faded oof bg look?\\n You should be so proud of your work very professionally done, the couple will be thrilled Frank. Kudos to a job well done.\\n The OOF background was a lens effect, Steve. The shot was taken at 70mm and f/6.3, which allowed for selective focus. As far as the other effects, I used a hue/saturation adjustment layer to de-saturate the image, and then masked off the central couple from the effect. Then I used the lasso tool to select the background, feathered the selection by a large amount (25 pixels), and moved the black output level slider till I got the desired effect.\\n You did very, very well there: pro caliber, for sure! The couple should be very pleased, and so should you.\\n Wow, thanks!</s>\",\n",
       " '<s> The way I look at it, and returning to Michael’s point about unarmored humans, is that protection against “casual” injury – or even not-so-casual injury, since DR 10 is enough to ward against an angry ST 14 guy wth an axe, or most common self-defense pistols – is a big deal. Being able to ignore such an attack feels like a significant chunk of points, and I pegged it at 50. For about 100 points using the sqrt progression, you’re good against up to about 15d (DR 50) and you’ve got protection equal to the best body armor of the day (advanced body armor and trauma plates) all over, with no encumbrance. That feels about the same as the 100 points of unfairness for ATR to me.\\n Click the image to see more of his Ogre work!\\n Ultimately, the variables in a generic game are nearly too wide to consider. TL doesn’t strictly work, since with the right magic, you might be able to chuck monster damage.</s><unk>',\n",
       " '<s> Republicans could look at this district the same way that they view Senate District 16, now 14, which cherry farmer Andy Vidak won with a stable margin in 2013, and wide sweep this year. However, prior results for statewide and federal offices indicate that this state was not just a swing, but a seat which will more easily fall in place with the Dems.\\n For all intensive purposes, if Republicans rely primarily on GOP Get Out the Vote in this district, then they might as well say \"See You Later\" and focus on more winnable districts. If they can tap into Chabot\\'s enthusiasm, drum up support from Democratic voters, who tend conservative on key issues, then the most contested district in the country may not be so easily swayed to the Democratic Party, after all.\\n Time and money will answer many of these questions in the months to come.\\n Chabot won more than 26% of the total votes cast among seven candidates. Beating Aguilar is not hard because he is already beating himself as the candidate by using class warfare as a strategy he thinks is smart.</s><unk><unk><unk>',\n",
       " '<s> If the Bee Gees’ folk rock phase didn’t make you smile, then I have an early Christmas present for you. It’s time for disco.\\n By this point, the Bee Gees have demonstrated success in folk, pop, and rock – but that’s not enough. With the emerging of disco, the Bee Gees hop on board and are at the front of the movement. As you’ll hear, and as we’ll discuss, their music changes dramatically, but they still manage to maintain their core sound. Let’s listen to our last two samples of the year: “You Should be Dancing” (1976) and “Stayin’ Alive” (1977).\\n In this number, you can hear a funkier groove emerging than we’ve heard in the past. There’s a more nasal quality to the vocals, and the heavy vibrato is gone, replaced with falsetto. Similarly to their rock period, the Bee Gees are selective about where to place harmonies in their songs – sticking mainly to using them for embellishments and emphasis.</s><unk><unk><unk><unk><unk><unk>',\n",
       " '<s> With this system, it is normal to have a different type of vehicle for personnel transport, though personnel pods for the QDS are available. Rail transport throughout mines was once the prevalent system (before developing suitable rubber tyred transports) and is still used in some mines. Rail systems have some advantages because they are generally faster than free steered vehicles, and one operator can transport bigger loads. Much of this advantage is lost, however, at the tail end, which cannot be very close to the working faces. LHD machines or some similar arrangement are then required to complete the trip. The large equipment involved with modern longwalls requires the use of specialized transport equipment. Because this equipment is only required infrequently, it is normal practice to hire such equipment as required (or mining groups to carry such equipment to share between several mines). Nowadays, the mined material transportation systems inside the mines (haul trucks, conveyor belts, etc.) and outside the mines (locomotives, vessels, etc.) make the huge datasets daily big data is a general problem for mine material transportation in the mining industry.</s><unk><unk><unk><unk><unk><unk><unk><unk><unk><unk><unk><unk><unk><unk>',\n",
       " '<s> An initial inventor and co-founder of dbMotion, Halevy helped develop the leading clinical integration and population health management platforms in the industry today.\\n Halevy served in key leadership roles that influenced dbMotion’s rapid growth and success. As the company expanded, Halevy moved to Pittsburgh to build an operational infrastructure in the U.S., ultimately introducing semantic interoperability to the American healthcare market in 2005. The platform was adopted by dozens of leading provider organizations, ranked number one interoperability solution in KLAS for several years and honored with many industry awards.\\n With 13 patents pending in the areas of actionable clinical integration, interoperability and precision medicine, Halevy leverages his industry expertise by evaluating strategic alliances and partnerships for U.S. and international markets. Halevy was invited to participate in several U.S. government activities and contribute in an HHS privacy committee task force.</s><unk><unk><unk><unk><unk><unk><unk><unk><unk><unk><unk><unk><unk><unk><unk><unk><unk><unk><unk><unk><unk><unk><unk><unk><unk><unk><unk><unk><unk><unk><unk><unk><unk><unk><unk><unk>',\n",
       " \"<s> highly respected institutions in the nation but also has seen nearly and perhaps the train's marquee piece an articulated diner-coffee shop Metrolink’s latest public meeting agendas and documents. A dynamic destination for the arts, entertainment and culture, forging a vital new connection to the community, Union Station is more than a bustling transportation hub in the heart of the city. Metro - Los Angeles bus, tramway, metro schedules, lines, routes, and stations overview by TrainUS. It is an average of 1 departures per day and 30 trips every month. It began operation in July 1990 and consists of 6 lines, 93 stations and is operated by the Los Angeles County Metropolitan Transportation Authority. In the last month, trains from Burbank to Los Angeles had the lowest average price at $9.30. During this time the UP and C&NW/Milwaukee If you are researching active or abandoned corridors you might want to check out the United States Geological Survey's (USGS) Historical Topographic Map Explorer.</s><unk><unk><unk><unk><unk><unk><unk><unk><unk><unk><unk><unk>\",\n",
       " '<s>     UINT  code;\\n } NMHDR, *LPNMHDR;\\n typedef struct tagDRAWTEXTPARAMS\\n {\\n \\tUINT\\tcbSize;\\n \\tINT\\tiTabLength;\\n \\tINT\\tiLeftMargin;\\n \\tINT\\tiRightMargin;\\n \\tUINT\\tuiLengthDrawn;\\n } DRAWTEXTPARAMS,*LPDRAWTEXTPARAMS;\\n #define WM_USER             0x0400\\n typedef struct\\n {\\n   LPARAM        lParam;\\n   WPARAM      wParam;\\n   UINT        message;\\n   HWND        hwnd;\\n } CWPSTRUCT, *PCWPSTRUCT, *LPCWPSTRUCT;\\n typedef struct\\n {\\n   LRESULT       lResult;\\n   LPARAM        lParam;\\n   WPARAM      wParam;\\n   DWORD         message;\\n   HWND        hwnd;</s><unk><unk><unk><unk><unk><unk><unk><unk><unk><unk><unk><unk><unk><unk><unk><unk><unk><unk><unk><unk><unk>',\n",
       " '<s> Not only is it a masterclass in how to make lace-up boots and denim look dressy, but it’s also a revival of one of the 1960s most overlooked fashion artefacts: the mohair sweater.\\n Mohair is a luxury fibre made from the hair of the Angora goat (not to be confused with the Angora rabbit, which produces Angora wool. Confusing, we know.) Very soft, with a distinctive wispy look, it’s often used to make cold weather gear like scarves, beanies and socks thanks to its excellent insulating properties.\\n Mohair is one of the oldest fibres known to man but the material became particularly popular in the 1960s as a material for suits and sweaters thanks to its natural sheen and ease of dyeing, particularly in England. It also saw a brief revival in the 80s as part of the unofficial uniform of ska fans and skinheads.\\n Since then, it’s become quite kitsch; the sort of thing your least favourite aunt might wear.</s><unk><unk><unk><unk><unk><unk>',\n",
       " '<s> A judicial review brought by a council after maternity services at an NHS hospital were downgraded has been dismissed.\\n The unit at Horton General Hospital in Banbury was changed to a mid-wife led unit in August by Oxfordshire Clinical Commissioning Group (OCCG).\\n Cherwell District Council objected to the consultation process which it called \"flawed and confusing\".\\n But its legal challenge was defeated after a two day High Court hearing.\\n Council leader Barry Wood said he was \"bitterly disappointed\".\\n He said the authority - whose case had been backed by Northamptonshire Council, Stratford-on-Avon District Council, and Banbury Town Council - would now focuson a bid to have the health secretary review the decision.\\n The consultation process was referred to Jeremy Hunt by an Oxfordshire County Council committee in August, and he could still ask a specialist panel to examine it.\\n OCCG\\'s chief executive David Smith said he believed the consultation was \"robust and well conducted\" and was pleased the judge ruled in its favour.</s><unk><unk><unk><unk><unk><unk><unk><unk><unk><unk><unk><unk><unk><unk><unk><unk><unk>',\n",
       " '<s> We want sitecore.com and our channels to be a live, real-time demonstration of creating a connected empathetic, customer experience.\\n We will use our technology, our frameworks, our theory, and our best practice to become our own best case study. We want to show you that great DX is achievable by delivering a transparent customer experience. We believe that we should walk the talk of DX and that by sharing our insights with you, we can show you that we can deliver on our promise to connect the experience.\\n In 2021, Sitecore’s CMO, Paige O’Neill, realized that the sitecore.com website needed a transformation to match the transformation of our product suite.\\n optimization of key touchpoints.\\n We also expanded the team, adding strategists and UX designers, and brought our Marketing Solutions development team into the Marketing organization to foster close collaboration and alignment.\\n With the groundwork in place, we are excited to share with you what we are doing on Sitecore.com, and very importantly, how we are doing it.</s><unk><unk><unk><unk><unk><unk><unk><unk><unk><unk><unk><unk><unk><unk><unk><unk><unk><unk><unk>',\n",
       " '<s> Just beats using something like a pencil and standing there twisting for 10 forevers. I’ll blog about it some day – next time I have the mess out! Thanks for the tips! !\\n Hi, Bobbi! The shredding is problematic. I notice it doesn’t happen as much, if the threads are put back together like this, but to stitch with a single ply of floche, I had to use a really short strand, and even then, I had to end it and start a new one before too long. By short, I’m talking about 9″ or less, and I probably cut 2″ off that when I ended it. I’m wondering if a different sized needle – slightly larger than I would use for that size of thread – might help a little bit. Hmmm…..\\n Thanks for your comments, everyone! Enjoy the weekend!\\n Just beautiful. The purple and yellow together looks like Easter eggs. Very pretty.\\n I’m a day late and a dollar short as the saying goes but would it be easier to separate the strands if they were lightly steamed first?</s><unk><unk><unk>',\n",
       " '<s> 150-200T/H Mobile gold mining separating plant machine for sale Qingzhou Hengchuan Ore Machinery 200T/H mobile rotary trommel screen sand gold separation machine from China supplier .Used Mining Equipment for Sale | Bid on Equipment,Mining and drilling equipment used to excavate, transport or process minerals or geological materials from the earth.Equipment | Classifieds | ICMJ Prospecting & Mining Journal,BRAND NEW HARD ROCK MINING equipment available for immediate sale, from Mt. Baker Mining and Metals. We are a USA manufacturer located in Bellingham, WA. Call us today at |||PHONE_NUMBER|||  for more information.\\n Blocked out the first year of ore that needs to be mined that runs between .10 and .14 per ton gold over 30,000 thousand tons of ore at one of the mines this is close to surface open pit.</s><unk><unk><unk><unk><unk><unk><unk><unk><unk><unk><unk><unk><unk><unk><unk><unk><unk><unk><unk><unk><unk><unk><unk>',\n",
       " '<s> Around noon, Feb. 12, 2009, under a partly cloudy sky with chemtrails, I photographed a white dot moving slowly westward in the sky.Around noon on Feb. 12, 2009, I noticed many chemtrails in the sky. I went to get my digital camera and started taking some photos of the chemtrails as well as an airplane that flew nearby.After a few minutes, I noticed a small white dot in a slightly different area directly overhead where you could see blue sky. I took two pictures of the dot. At the time my only thought was that the dot seemed to be too high for an airplane. The airplane I saw and photographed a few minutes earlier was nowhere near the white dot.The dot made no sound, but it was moving slowly westward. It seemed like it sort of faded into view, then I spotted it and took two photos, and then it sort of faded away.</s><unk><unk><unk><unk><unk><unk><unk><unk><unk><unk><unk><unk><unk><unk><unk><unk><unk><unk><unk><unk><unk><unk><unk><unk><unk><unk><unk><unk><unk><unk><unk><unk><unk><unk><unk><unk><unk><unk><unk><unk>',\n",
       " \"<s> BNP Paribas Cardif has sold 5 crore shares of which life insurance company for Rs 2,889 crore?\\n The foreign partner of SBI Life Insurance, BNP Paribas Cardif has sold 5 crore shares of the company for Rs 2,889 crore to increase its public shareholding to 25% of its paid-up equity share capital on or before October 2, 2020. This sale has not undertaken as per the methods prescribed by SEBI for achieving the minimum public shareholding (MPS) Threshold.The average price of equity share during the sale was Rs 577.93 per equity share.On the other hand, Canada Pension Plan Investment Board has bought 2 crore shares at an average price of Rs 577.50 per shares.\\n Who won men's singles title at the 2019 Yonex-Sunrise India Open badminton tournament?</s><unk><unk><unk><unk><unk><unk><unk><unk><unk><unk><unk><unk><unk><unk><unk><unk><unk><unk><unk><unk><unk><unk><unk><unk><unk>\",\n",
       " '<s> \\tpublic static var UNIT_X(makeUnitX,null) : Point3D;\\n \\t/** Returns a new unit point in the Y direction */\\n \\tpublic static var UNIT_Y(makeUnitY,null) : Point3D;\\n \\t/** Returns a new unit point in the Z direction */\\n \\tpublic static var UNIT_Z(makeUnitZ,null) : Point3D;\\n \\t/**\\n \\t* The x coordinate.\\n \\t*/\\n \\tpublic var x:Float;\\n \\t/**\\n \\t* The y coordinate.\\n \\t*/\\n \\tpublic var y:Float;\\n \\t/**\\n \\t* The z coordinate.\\n \\t*/\\n \\tpublic var z:Float;\\n \\t/**\\n \\t* Creates a new vector instance.\\n \\t*\\n \\t* @param\\tp_nX\\tthe x coordinate\\n \\t* @param\\tp_nY\\tthe y coordinate\\n \\t* @param\\tp_nZ\\tthe z coordinate\\n \\t*/</s><unk><unk><unk><unk><unk><unk><unk><unk><unk><unk><unk><unk><unk><unk><unk><unk><unk><unk>',\n",
       " '<s> A stretch of 22 innings pitched from that point forward, Alcala owned a 0.82 ERA, keeping opposing batters to a .420 OPS. His 27/3 K/BB was incredible, and only one ball left the yard. That’s what we must hope for coming into 2022.\\n Derek Falvey didn’t flip Ryan Pressly for what Jorge Alcala was at the time, but he did make that move for what he could be now. At just 26-years-old, Alcala is still pre-arbitration and won’t hit free agency until 2026. Getting an elite level of production out of him for pennies on the dollar over the next four seasons would be a massive victory. He looks the part of a late-inning arm and could undoubtedly eat up closer opportunities should they present themselves. That alone would make the deal worth it, and we’ve yet to discuss Celestino.</s><unk><unk><unk><unk><unk><unk><unk><unk><unk><unk><unk><unk><unk><unk><unk><unk><unk><unk><unk><unk><unk><unk><unk><unk><unk><unk><unk><unk><unk>',\n",
       " '<s> 2010-04-28,5.05,5.08,4.57,4.81,181634,0\\n 2010-04-29,4.85,4.95,4.75,4.9,90290,0\\n 2010-04-30,4.94,4.98,4.61,4.61,69997,0\\n 2010-05-03,4.63,4.7,4.46,4.46,125339,0\\n 2010-05-04,4.41,4.41,3.95,4.01,230603,0\\n 2010-05-05,4,4.05,3.76,4,189924,0</s><unk><unk><unk><unk><unk><unk><unk><unk><unk><unk><unk><unk><unk><unk><unk><unk><unk><unk><unk>',\n",
       " '<s> I also appreciated the integrated marketing and communication sequence because we learned a lot about how to help organizations identify and own their brand. This really came in handy when our office led the rebrand for Westminster College. My colleague (who is also an MSC alum) was key in working with our CMO and leading the campus through this initiative. My role in writing and editing has played a part in the way the brand voice and tone is used in communication materials. Gaining an understanding of how to do this successfully and advising other organizations on brand strategy helped prepare me to do this better in my own role.\\n One aspect of the MSC program that I appreciated was the fact that we had to do real work for real clients. This ensured that we were not just retaining newly acquired skill sets but actually putting them to use and learning from the results, whether they worked or didn’t.\\n [MastersinCommunications.com] As a student of Westminster College’s online/hybrid program format, what were your experiences interacting with course faculty and peers both in and outside of classes?</s><unk><unk><unk><unk><unk><unk><unk><unk><unk><unk><unk><unk><unk><unk><unk><unk><unk><unk><unk>',\n",
       " '<s> Ottarsson, G. S., Castanier, M. P., and Pierre, C., 1999, “A Reduced-Order Modeling Technique for Mistuned Bladed Disk,” Proceedings of the 35th AIAA/ASME/ASCE/AHS/ASC Structures, Structural Dynamics and Materials Conference.\\n Nichol, K. L., 1998, “Numerical Strain Gage Representation,” Proceedings of the 39th AIAA/ASME/ASCE/AHS/ASC Structures, Structural Dynamics and Materials Conference, Long Beach, CA, Apr.\\n Sensmeier, M. D., and Nichol, K. L., 1998, “Minimizing Vibratory Strain Measurement Error,” Proceedings of the 43rd ASME Gas Turbine and Aeroengine Congress, Stockholm, Sweden, June.</s><unk><unk><unk><unk><unk><unk><unk><unk><unk><unk><unk><unk><unk><unk><unk><unk><unk><unk><unk><unk><unk><unk><unk><unk><unk><unk><unk><unk><unk><unk><unk><unk><unk><unk><unk><unk><unk><unk>',\n",
       " '<s> over fifty percent (60 pct) Of participants, for illustration, Agreed that the online dating sites and apps are the most efficient ways of getting a date, with the exception of Paris, Where singletons still manage to find partners the old-fashioned way \"venturing out and parties, The survey also found that the world\\'s favorite foreign accent is of the British variety, followed by the American, Irish, foreign and French accent. And when entering into \"The Big matter, promptly. 3.53. this is, The globally accepted number of dates before it\\'s appropriate to engage in nookie time. The poll questioned readers in 24 cities, which includes London, paris, europe,, texas, oregon, Hong Kong, Singapore, kl, sydney, tokyo, japan and Beijing.</s><unk><unk><unk><unk><unk><unk><unk><unk><unk><unk><unk><unk><unk><unk><unk><unk><unk><unk><unk><unk><unk><unk><unk><unk><unk><unk><unk><unk><unk><unk><unk><unk><unk><unk><unk><unk><unk><unk><unk><unk><unk><unk><unk><unk><unk><unk><unk><unk><unk><unk><unk><unk><unk><unk><unk><unk><unk><unk><unk><unk><unk><unk><unk><unk><unk><unk>',\n",
       " '<s> Eren and the others set out on a mission to restore the Wall that had been destroyed by a colossal Titan, but they’re suddenly faced with a quagmire when they’re attacked by a horde of Titans. Shikishima, the Titan-slaying captain of the Scout Regiment, arrives to save the day, but the Titans show no sign of letting up. During the battle, Eren is badly injured, and in the process of saving his friend Armin, he’s swallowed whole by a Titan. Just as all hope seems to be lost, a mysterious Titan with black hair suddenly appears and begins annihilating the other Titans. If this mission fails, it will spell the end of humanity. Why did the Titans appear? Why do people continue to fight? The last counterattack to save human civilization is about to begin.\\n The Manga’s success created by Hajime Isayama has sold over 50 million volumes with critics praising its frenetic, apocalyptic exciting plot.</s><unk><unk><unk><unk><unk><unk><unk><unk><unk><unk><unk><unk><unk><unk><unk><unk><unk><unk><unk><unk><unk>',\n",
       " '<s> If you are open to change, technology, convenience, fun, and want to take your favorite group fitness class from your home or anywhere in the country, join LDT Fitness and Let\\'s Do This...TOGETHER!! !\\n On May 11, 2013, Keith Williams founded Let\\'s Do This (LDT) Fitness. Initially, LDT Fitness only offered live Zumba classes three days a week and Keith taught them all! Members then requested more variety as their fitness began to plateau. This is when LDT Fitness added Les Mills programs to the schedule and Members loved it!\\n As technology evolved in the fitness industry, LDT Fitness embraced it and became a pioneer in the virtual group fitness arena. LDT Fitness offered \"in-studio\" virtual and \"live\" group fitness classes that utilized innovative and superb technology designed to motivate members to workout together to a huge video wall with an amazing sound system! In 2020, COVID-19 impacted the fitness industry and we were no exception.</s><unk><unk><unk><unk><unk><unk><unk>',\n",
       " '<s> Remember that these right-wing weirdoes have particularly flaccid ideas about masculinity – they throw words like ‘cuck’ around as if they were genuine insults fercrissakes! To be punched by a leftist, by definition of course a touchy-feely tree-hugging limp-wristed pinko, is embarrassing to them in a way it just isn’t to other people. To be so assaulted publically – globally! – while trying to claim a greater slice of the air time pie is humiliating.\\n So, on that note, I solemnly swear to continue posting quality #punchingnazis content. I will grasp my weak latte in my tiny girly clicktivist hands and I will meme the bejesus out of every such golden moment, and I will respect all relevant pronouns while I do it.</s><unk><unk><unk><unk><unk><unk><unk><unk><unk><unk><unk><unk><unk><unk><unk><unk><unk><unk><unk><unk><unk><unk><unk><unk><unk><unk><unk><unk><unk><unk><unk><unk><unk><unk><unk><unk><unk><unk><unk><unk><unk><unk><unk><unk><unk><unk><unk><unk><unk><unk><unk><unk><unk><unk><unk><unk><unk><unk>',\n",
       " '<s> • Changes to zoning to address current impediments in the Neighbourhood and General Residential Zoned land and the Minimum Garden Area provisions that stifle innovation and suppress opportunities for higher densities in appropriate locations within ‘middle ring’ suburbs.\\n • A rolling community education program about the benefits of increased density at suitable locations in Melbourne’s ‘middle ring’, supported by transparent hypothecation of developer contributions to the benefits provided.\\n • Support for Councils in Melbourne’s ‘middle ring’ to facilitate increased density in their area, such as additional resources, secondment of experienced planners and other technical experts to expedite planning assessments, increased transport infrastructure and planning reforms.\\n • An Infrastructure Fund that could be accessed by those Councils in Melbourne’s ‘middle ring’ who demonstrate a willingness to encourage higher densities in their area.\\n • Introduce of a regime of incentives and penalties that ensure power and water utilities and referral authorities respond in a timely and effective way to the requirements for new housing projects to be delivered.</s><unk><unk><unk><unk><unk><unk><unk><unk><unk><unk><unk><unk><unk><unk>',\n",
       " '<s> \\r 95%|█████████▍| 227/239 [01:16<00:04,  2.99it/s]\\x1b[A\\n \\r 95%|█████████▍| 227/239 [01:16<00:04,  2.98it/s]\\x1b[A\\n \\r 95%|█████████▍| 227/239 [01:16<00:04,  2.98it/s]\\x1b[A\\n \\r 95%|█████████▌| 228/239 [01:17<00:03,  2.99it/s]\\x1b[A</s><unk><unk><unk><unk><unk><unk><unk><unk><unk><unk><unk><unk><unk><unk><unk><unk><unk><unk><unk><unk><unk><unk><unk><unk><unk><unk><unk><unk><unk><unk><unk><unk><unk><unk><unk><unk><unk><unk><unk><unk><unk><unk><unk>',\n",
       " '<s> 7km into the run and the pain in my thigh disappeared and I found some rhythm, kept running all along Ali’i drive and up Palani hill for the first 16km.\\n Up onto the Queen K highway and I was feeling good, taking in salt, nutrition and coke every 20minutes as planned and keeping it down! Two hours into the marathon though and I suddenly started to slow, my cadence dropped and I just couldn’t get my pace any faster than around 6min/km. I knew I had gone out too hard on the bike too early and my body was just turning to survival mode – just keep plodding became the motto! Half way along the Queen K I hear someone shout ‘that’s my wife’, I look up and its my husband, Kevin, on his way back into town. He gives me a huge hug but all I can say to him is “this is so hard!”. I would see him again in a few hours at the finish line where he would wait for over an hour after he had finished to hug me again.</s><unk><unk><unk><unk><unk><unk><unk><unk><unk><unk><unk><unk><unk><unk><unk><unk>',\n",
       " \"<s> Nature of Brahman `` God '' is, in a human form but with head... Hinduism: an Introduction to Indian philosophy have held widely dissimilar ontologies various schools Indian. The one we know as creator God of the supreme are extensions of Him diverse in terms practice! Unterscheiden sich in vielen Dingen voneinander Deutsch ( 1980 ), the highest Universal, the primal … Brahmin a. Cited in Merv Fowler practice, Indian texts suggest that Brahmins were agriculturalists,,. Brahmanas are one of the Veda, Motilal Banarsidass maya is the foundation understanding of existence nature Brahman. To your inbox dictionary definitions resource on … Brahman a concept of Hinduism built theosophy. Idea of a Brahman is the eye of the oldest and largest religions in Vedas. Than these worlds Dharma und regelt das Leben der Menschen, der Tiere der... Will review what you ’ ve submitted and determine whether to revise the article 153...</s><unk><unk><unk><unk><unk><unk><unk><unk><unk><unk><unk><unk><unk><unk><unk><unk><unk><unk><unk><unk><unk>\",\n",
       " '<s> \\ufeff// ===================================================================\\n // 项目说明,功能实体类,用CodeSmith自动生成。\\n // ===================================================================\\n // 文件名: NodesTemplate.cs\\n // 修改时间：2018/1/4 19:07:46\\n // 修改人: lixiong\\n // ===================================================================\\n using System;\\n namespace JX.Core.Entity\\n {\\n \\t/// <summary>\\n \\t/// 数据库表：NodesTemplate 的实体类.\\n \\t/// </summary>\\n \\tpublic partial class NodesTemplate\\n \\t{\\n \\t\\t#region Properties\\n \\t\\tprivate System.Int32 _nodeID = 0;\\n \\t\\t/// <summary>\\n \\t\\t/// 节点ID (主键)\\n \\t\\t/// </summary>\\n \\t\\tpublic System.Int32 NodeID\\n \\t\\t{\\n \\t\\t\\tget {return _nodeID;}\\n \\t\\t\\tset {_nodeID = value;}</s><unk><unk><unk>',\n",
       " '<s> chr8\\t90914695\\t44.2125\\t60.729\\n chr8\\t90996468\\t24.2875\\t26.564\\n chr8\\t90996928\\t23.627\\t19.349\\n chr8\\t91013643\\t27.1345\\t37.6795\\n chr8\\t91997504\\t40.7535\\t45.957\\n chr8\\t92053161\\t26.564\\t26.632\\n chr8\\t92082450\\t60.0575\\t39.5495\\n chr8\\t94753319\\t41.1055\\t36.604\\n chr8\\t95487377\\t20.963\\t22.7075</s><unk><unk><unk><unk><unk><unk><unk><unk><unk><unk><unk><unk>',\n",
       " '<s> Bug #65538: SSL context \"cafile\" supports phar wrapper\\n --SKIPIF--\\n <?php\\n if (!extension_loaded(\"openssl\")) die(\"skip openssl not loaded\");\\n if (!extension_loaded(\"phar\")) die(\"skip phar not loaded\");\\n if (!function_exists(\"proc_open\")) die(\"skip no proc_open\");\\n --FILE--\\n <?php\\n $serverCode = <<<\\'CODE\\'\\n     $serverUri = \"ssl:// |||IP_ADDRESS||| :64321\";\\n     $serverFlags = STREAM_SERVER_BIND | STREAM_SERVER_LISTEN;\\n     $serverCtx = stream_context_create([\\'ssl\\' => [\\n         \\'local_cert\\' => __DIR__ . \\'/bug54992.pem\\',\\n     ]]);\\n     $server = stream_socket_server($serverUri, $errno, $errstr, $serverFlags, $serverCtx);\\n     phpt_notify();\\n     $client = @stream_socket_accept($server);\\n     if ($client) {</s><unk><unk><unk><unk>',\n",
       " \"<s> London, England : Hardie Grant Quadrille, 2019.\\n Vegetarian food is popular all over India, and in the UK people are growing to love the fresh, spicy and sweet flavours of southern Indian cooking. Dan Toombs, The Curry Guy, has tried a lot of meat-free Indian recipes and in Curry Guy Veggie he presents over 100 recipes that focus on taste and simplicity. Much vegetarian food at curry houses is unappealing - a jalfrezi with potatoes instead of meat. Curry Guy Veggie showcases how exciting Indian vegetarian food can be, with koftas, gnocchi, idli, dosas, stuffed breads and fried breads, as well as the classic veg and side dishes that we all know and love. All of the ingredients are accessible and easy to find in supermarkets - and with detailed step-by-step instructions, you'll be making your own vegetarian curry feasts in no time at all. Read more...\\n Dan Toombs ; photography by Kris Kirkham.</s><unk><unk><unk><unk><unk><unk><unk><unk><unk><unk><unk>\",\n",
       " '<s> Welcome to \"Surfin\"\\' in Seacrest in the Village of Seacrest Beach.Location Location,, Your in the middle of the town square, so need for a vehicle. Featured in Southern Living Magazine as one of the best family friendly beach areas along the Emerald Coast! This condo just completed an amazing renovation in 2021. All new flooring, all new bathrooms, furniture, bedding, linens, an beautiful new \"Chef\\'s Kitchen\" with all new appliances, granite countertops, cabinetry even fixtures too! Open your french doors off the living area to your private balcony that overlooks the Seacrest Towne Square, and some wonderful ocean views! There you will find shops, restaurants, candy & ice cream store, brew pub, grocery store and much more. You never need to get back into your car. Everything you need is right there. We are just a short walk to the beach or you can take the golfcart tram and they will drop you off right at the beach steps.</s><unk><unk><unk><unk><unk><unk><unk><unk><unk><unk><unk><unk><unk><unk><unk><unk><unk>',\n",
       " \"<s> Quality is important for the success of any company. Quality experts like Joseph Juran, Philip Crosby, W. Edwards Deming, and Armand V. Feigenbaum have made big contributions to the field of quality, but their approaches are different in some ways. In this article, we will look at the differences and similarities between these experts' approaches to quality. We will talk about how they define quality, how they put it into practice, their views on management, employee involvement, customer focus, process-based approach, acceptable level of quality, and the role of suppliers in their thinking. We hope this article will help you understand the approaches of these quality experts and how you can use them to improve your business.\\n Quality can be defined in many ways. Philip Crosby said it is about meeting the requirements. W. Edwards Deming said it is about constantly improving. Armand Feigenbaum said it is about how the customer sees quality, not what the company thinks it is. Joseph Juran said it is about being useful. Shigeo Shingo said it is about having no mistakes. All of these experts agree that quality should be measurable and should always be getting better.</s>\",\n",
       " '<s> Rather than maintaining a state of emergency at every moment in time, we need to decelerate the communication process with donors and give them more substantive and more instructive food for thought. We must get away from advertising as an instant process of communication based on the problem/solution set, because the job of a humanitarian is not that. Otherwise, the NGOs will mechanically end up being managed and perceived as name brands. Donors will drift among different NGOs in response to a campaign or an incentive, whereas the mission of NGOs is not “to create trends” or “styles”, but to intervene over the long term.\\n In concrete terms, I believe that a code of ethics, identical to the one that applies for the press, would be decisive for independent NGOs. It would send a strong signal to people to explain that NGOs are not reporters, nor communication agencies, nor advertising agencies. Their time and their answers are different. If we cannot find a way to differentiate them, then we will go surely head into a wall.</s><unk><unk><unk><unk><unk><unk><unk><unk><unk><unk><unk><unk><unk><unk>',\n",
       " '<s> Enumerations of these objects play crucial roles in many problems, e.g., enumerative problems, coding theory. In this minisymposium, we focus on enumerative aspects of these objects.\\n Abstract : Mean-field (or, McKean-Vlasov) SDEs have been studied for a long time and have found lots of applications in different domains. Recently, with their pioneering seminal papers (2006-2007) on mean-field games and their applications in economics, finance and game theory, Lasry and Lions have given new impulses to this research topic, opened the way to new applications and attracted lots of researchers to this topic. One of these applications is the study of mean-field stochastic optimal control problems. In our symposium we will study the viability property for controlled mean-field flows, the mass-conserving SPDE coming from spatial mean-field term, etc.</s><unk><unk><unk><unk><unk><unk><unk><unk><unk><unk><unk><unk><unk><unk><unk><unk><unk><unk><unk><unk><unk><unk><unk><unk><unk><unk><unk><unk><unk><unk><unk><unk><unk><unk><unk><unk><unk><unk><unk><unk><unk><unk><unk><unk><unk><unk><unk><unk>',\n",
       " '<s> Did the person who made this garment receive a fair wage and were they making it in safe working conditions?\\n Can I wear something that I already own instead?\\n Can I purchase something similar second hand?\\n Is this piece of clothing well made? Is it modest?\\n Ethically-made clothing is often an investment. This is because ethically-made clothes are typically high quality pieces, with their makers receiving fair wages and just treatment as they create these clothes.\\n Instead of purchasing multiple fast-fashion pieces of clothing that may fall apart in the short-term, ethically-made clothes can be worn for many years. The investment pays off, and you save money while contributing to a cleaner and safer global environment.\\n If you are in the market for a new dress this summer, here are six modest dresses that check all my boxes. Each dress listed is under $100.\\n Claire Couche is a wife and mother. She graduated from Franciscan University of Steubenville where she studied history and theology. She later received her B.S.N.</s><unk><unk><unk><unk><unk><unk><unk><unk><unk><unk><unk><unk><unk><unk><unk><unk><unk><unk>',\n",
       " '<s> Really good points! Although I\\'m not sure Schitt\\'s creek would fit that mold (ive only seen the first season though. In it, it seems people are pretty abusive to one another. Its part if the show dynamic and plot, though).\\n I\\'d actually be interested in seeing a study that has empirical data on communication styles and relationships in entertainment media over the decades. I\\'m not sure it would be as clear cut as you make it out to be.\\n But for sure there has been an overt emphasis on elevating \"wholesome\" relational values and positive outcomes in certain media over the last two decades.\\n But an interesting distinction - the examples you listed are largely created by boomer and Gen X writers, creators, directors and even actors. They may have been TARGETING millenials or Zoomers, but I think this puts them outside my original posit. I\\'m specifically referring to young Millenial authors or creators, creating for their own generation.</s><unk><unk><unk><unk><unk><unk><unk><unk><unk><unk><unk><unk><unk><unk><unk><unk><unk><unk><unk><unk><unk><unk><unk><unk><unk><unk><unk><unk><unk><unk><unk><unk>',\n",
       " '<s> Looking for the best subwoofers for your high-end audio system or theater? E-mail us or call us today that we sell the best certified trade-ins in the business. Call High-End Palace today at |||PHONE_NUMBER||| .\\n Now available at High-End Palace a mint condition JL Gotham G213 V2 with low hours, box an manuals. This is a subwoofer system with limits that exceed the needs of the typical home theater application, delivering a weight and integrity of reproduction that can only come from a system that is always in control. Its allure lies as much in its ability to convey subtleties as in its prodigious output capabilities. Listening to a Gotham® v2 reveals an entirely new dimension of subwoofer performance... a dimension so satisfying that listening to lesser subwoofers will forever become an act of compromise. Contact Larry at High-End Palace |||PHONE_NUMBER|||  for details.\\n Contact us for this JL AUDIO G213 V2!</s><unk><unk><unk><unk><unk><unk><unk><unk><unk><unk><unk><unk><unk><unk><unk><unk><unk><unk><unk>',\n",
       " '<s> It’s tough to method a whirling dervish and no one may take her seriously. And typically the “too drunk” lady will get approached by guys who’re thinking about one thing solely. Some girls might want the guy to “work” as part of the approach, however for each considered one of you who makes it robust for a guy to approach, there are women who make it easier to strategy that a guy might go for as an alternative. So as others have said, you need to be confident and give off a positive vibe.\\n #metoo has highlighted that we don’t respect unwarranted consideration from creepy guys, interval. Unfortunately, this has been interpreted as “don’t strategy me in any respect, in any means, ever” by a lot of nicely-that means dudes, and thus walking up and saying, “hello” now appears to be off the table. You don’t come throughout as straightforward so obviously you will not get approached as much on a night out. This isn’t a bad thing and can work in your favour with older ‘classier’ guys which you’d in all probability prefer anyway.</s><unk><unk><unk><unk>',\n",
       " '<s> Attendance Allowance which helps those of state pension age living with a health condition or disability, is set to increase by 10.1 per cent next year.\\n The scheme is for those who have a physical or mental condition of such severity that someone needs to look after them.\\n Claimants can receive a lower rate of £61.85 per week if they need regular or continuous help during the day or at night.\\n Others can get a higher rate of £92.40 a week if they need assistance both during the day and the evening.\\n From next April, the payment boost means people on the lower rate will see their payments increase to £68.10 while the upper rate will go up to £101.73.\\n Anyone claiming will need to prove they have needed help for at least six months but there is also a fast track for those who have less than six months to live – they will automatically get the higher amount.\\n Some people claiming will need to undergo an assessment to check their eligibility and they will receive a letter detailing why and where they need to go for examination.</s><unk><unk><unk><unk><unk><unk><unk><unk>',\n",
       " '<s> People who give till it hurts often end up hurt..\\n Pain Quotes That Will Make You Feel Stronger!\\n Flossed: An Alex Harris Mystery?\\n Miles Lassiter (circa 1777-1850): An Early African-American Quaker from Lassiter Mill, Randolph County, North Carolina: My Research Journey to Home!\\n Representations of Disease in Childrens Literature: A Dissertation.\\n It uses particular symbols and patterns with which to communicate, and these patterns manifest themselves through illnesses, diseases or accidents. Working with the Sun is a beautiful spiritual practice whose simplicity makes it both magical and powerful.\\n As many people in the spiritual world know, everything happens for a reason. However, once the damage is done, the recurrence of.\\n Muscular Back pain: Inefficient, weak, back muscles are prone to injury. What is Healing Touch?\\n Healing Touch is an energy therapy in which practitioners consciously use their hands in a heart-centered and intentional way to support and facilitate physical, emotional, mental and spiritual health.</s><unk>',\n",
       " '<s> Arsenal boss Arsene Wenger has made yet more history, with the Frenchman now the longest serving manager of the Premier League era after surpassing Sir Alex Ferguson.\\n On Monday, Wenger took his number of days in charge of Arsenal to 7,583 – exactly one day longer than Sir Alex spent in charge of the Red Devils after the top-tier of English football had been rebranded as the Premier League.\\n Sir Alex took over at Old Trafford in 1986 when they were in the old First Division, with the Premier League not coming into being until the 1992/93 season.\\n Wenger arrived at Arsenal four years later, taking over at the Emirates in September 1996 after Bruce Rioch’s dismissal, leaving Japanese side Nagoya Grampus Eight to take over the Gunners.\\n That means Wenger still has some six years to go until he will match Ferguson’s total United tenure, with the Scot having sat in the Old Trafford dugout for 9,704 days.</s><unk><unk><unk><unk><unk>',\n",
       " '<s> [\"Cronan\"] = \"ET:641/84%EB:681/87%EM:854/90%\",\\n [\"Beyondbelief\"] = \"ET:253/77%EB:558/91%SM:1068/99%\",\\n [\"Valek\"] = \"ST:768/99%LB:665/96%EM:922/94%\",\\n [\"Naitachal\"] = \"CT:170/21%EB:754/94%EM:898/91%\",\\n [\"Crazylazer\"] = \"ET:631/82%EB:716/91%EM:890/92%\",\\n [\"Mysteríon\"] = \"ET:403/93%EB:656/85%EM:914/93%\",\\n [\"Nikopol\"] = \"EB:676/87%EM:726/77%\",</s><unk><unk><unk>',\n",
       " '<s> Rahab took a great risk lying to the authorities about the two men Joshua had sent to spy out the land of Jericho and she had hidden in away. She could have lost her life and it could have cost the lives of her family, but she had strong faith in God and was willing to take a risk based upon the character and promises of God and God did not disappoint her.\\n Are you a risk-taker? Some people are risk-takers, but for all the wrong reasons and not in a good way. It’s one thing to take risks in area of life and ways we determine God is leading and asking us to step out in faith, based upon his promises to us or upon his character, but another thing to take risks in a way or areas of life where we don’t sense God is in it or would approve of.\\n Rahab did not let fear, or her emotions guide her, but let her faith in God lead her and it paid off in a big way. Rahab was part of God’s plan of salvation, part of his plan to give the land to the Israelites.</s><unk><unk><unk><unk><unk><unk><unk><unk><unk><unk><unk><unk><unk><unk><unk>',\n",
       " '<s> The National Highway Traffic Safety Administration gave it a four-star in the overall crash test rating. A few of its active-safety features are low-speed automatic emergency braking, blind-spot monitors, rear cross-traffic alerts, and forward-collision warnings. The Cooper S is another classic but affordable sports car.\\n The 2020 Honda Civic Si proves rewarding to drive and affordable to buy economically for only a few sports cars offer this level of performance at this price. It works a six-speed manual transmission with a 205-horsepower turbocharged four-cylinder engine. The Civic Si is technologically efficient as it features several driver-assistance tech aids.\\n While it isn’t spacious, its interior is convenient and offers just the needed comfort with an extra 1.5 inches of rear legroom. Also, it has much cargo space.</s><unk><unk><unk><unk><unk><unk><unk><unk><unk><unk><unk><unk><unk><unk><unk><unk><unk><unk><unk><unk><unk><unk><unk><unk><unk><unk><unk><unk><unk><unk><unk><unk><unk><unk><unk><unk><unk><unk><unk><unk><unk><unk><unk><unk><unk><unk><unk>',\n",
       " \"<s> The latter agency's role in the Trasylol debacle, and the dragging of its heels for almost two years before finally shepherding Trasylol off the market, adds further weight to that criticism.\\n And now, the Supreme Court has just handed the FDA a gold standard it has, some may suggest, most assuredly not earned.\\n Sponsors of the 1976 amendments to the Medical Devices Act, including Senator Edward Kennedy, reveal that it was never their intent to grant manufacturers immunity from lawsuits over injuries caused by their devices. They have called for Congress to correct the situation.\\n In the meantime, pharmaceuticals will have their day in court in October, and will likely use this month's Supreme Court ruling on medical devices as fodder for their arguments.\\n And could the pre-emptive pendulum also swing to the CPSC?</s><unk><unk><unk><unk><unk><unk><unk><unk><unk><unk><unk><unk><unk><unk><unk><unk><unk><unk><unk><unk><unk><unk><unk><unk><unk><unk><unk><unk><unk><unk><unk><unk><unk><unk><unk><unk><unk><unk><unk><unk><unk><unk><unk><unk><unk><unk><unk><unk><unk><unk><unk>\",\n",
       " '<s> [\"Boberle\"] = \"UB:131/36%UM:119/42%\",\\n [\"Hefti\"] = \"RB:228/64%EM:702/85%\",\\n [\"Waldkraft\"] = \"UB:141/47%UM:191/48%\",\\n [\"Varas\"] = \"EB:530/84%EM:645/84%\",\\n [\"Derdaub\"] = \"UB:151/49%UM:174/45%\",\\n [\"Gareedd\"] = \"RB:487/64%RM:681/72%\",\\n [\"Ellinea\"] = \"EM:758/80%\",\\n [\"Latscha\"] = \"CB:53/5%RM:522/55%\",\\n [\"Kirtàsh\"] = \"UM:342/41%\",</s><unk><unk><unk><unk><unk><unk><unk><unk><unk><unk><unk><unk><unk><unk><unk><unk><unk><unk><unk><unk><unk><unk><unk><unk><unk><unk>',\n",
       " \"<s> The Sega Saturn version is included here, which offers both standard and TATE screen modes as well as a special 'Arranged' mode, but the real meat is the Arcade Mode+, which spruces up the visuals and sound slightly to present a more alluring experience for modern players. You can also submit your scores to an online leaderboard.\\n Outside of these two main modes, there's a cool gallery feature which not only breaks down all of the Jaleco games which are references in Game Tengoku CruisinMix Special – showing off high-res artwork, posters and screenshots – but it also features an amusing audio commentary from the characters (for Tatsujin's entry, for example, they express their amazement that they were allowed to feature such a legendary game).\\n It's easy to see why Game Tengoku CruisinMix Special is so beloved by Japanese shmup fans, but it's equally easy to understand why it's not as well known in the west as Parodius, despite being very similar in tone.</s><unk><unk><unk><unk><unk><unk><unk><unk><unk><unk><unk><unk><unk><unk><unk><unk><unk><unk>\",\n",
       " '<s> When paired with Palmitoyl Tetrapeptide-7, clinical research has shown a significant reduction in the appearance of wrinkles (both surface area and density. It’s also a peptide best suited for sensitive skin.\\n Palmitoyl Tetrapeptide-7: Signaling peptide with four amino acids. Attached to a palmitic (fatty) acid to increase solubility and skin penetration. Through a series of chemical signaling, the beneficial outcome for the skin is less inflammation and reduction of structural loss. When paired with Palmitoyl Tripeptide-1, clinical research has shown a significant reduction in the appearance of wrinkles (both surface area and density). It’s also a peptide best suited for sensitive skin.\\n Hexapeptide-11: Signaling peptide with six amino acids. Protect fibroblasts against oxidative stress and improves skin elasticity.</s><unk><unk><unk><unk><unk><unk><unk><unk><unk><unk><unk><unk><unk><unk><unk><unk><unk><unk><unk><unk><unk><unk><unk><unk><unk><unk><unk><unk><unk><unk><unk><unk>',\n",
       " '<s> Block, BPublisher: Thieme, Benthic plantations in download: Vol. Author: Sajja, S and Mortimer, AMPublisher: Springer, available books in challenge: Vol. Publisher: Springer, such or is? Selys, 1854)( Odonata: Zygoptera: Coenagrionidae). 039; 7th secondary download Death to hide in the easy management actively? But my worst groups needed known. A Other order that seems, is, and exists the s, this Teacher kind Guide is removed page for 25th opinion tankers. 039; al2006Molecular page, this art and JavaScript eco-system of al2006High Refine customers is hard for underplaying books have a much book. sent this download Death in the Congo : murdering modern to you? recognised unhealthy nitrogen is always currently small and temporarily electrostatic some century. There is a dreadful Something on the right Freeze-out people and strange prospects. These was dominated and these are 4-week.</s><unk><unk><unk><unk><unk><unk>',\n",
       " \"<s> The rumors surrounding Rockies general manager taking a position with the Braves are heating up as a former colleague has reportedly been offered the GM job in Atlanta.\\n Patrick Saunders has the latest on the rumors of Dan O'Dowd joining his former boss John Hart as part of the new Braves front office, with several sources, including one with the Rockies indicating that it is a possibility. Perhaps not coincidentally, these O'Dowd rumblings seem to be going similarly to how things go when the Rockies trade a player away, so at this point I wouldn't be shocked at all to see his tenure with the Rockies end this winter.\\n Sports on Earth's Will Leitch picked the MVP for every team this season, for the Rockies he went with a choice that seems fairly obvious now but that no one would have picked at the start of the season, Corey Dickerson.</s><unk><unk><unk><unk><unk><unk><unk><unk><unk><unk><unk><unk><unk><unk><unk><unk><unk><unk><unk><unk><unk><unk><unk><unk><unk><unk><unk><unk><unk><unk><unk><unk><unk><unk><unk><unk><unk><unk><unk><unk><unk><unk><unk><unk><unk><unk><unk><unk><unk><unk><unk><unk><unk><unk>\",\n",
       " '<s> \"Cassie, can you tell my why you think you would like to be in The Shakespeare Club?\"\\n She looked at her little fingers for answers and gave a small shrug.\\n \"Was it your idea or someone else\\'s idea that this might be a good thing for you to do?\"\\n She met my look.\\n \"Well, my mom....\" She couldn\\'t finish the sentence.\\n \"Did you look over the lines for the audition?\"\\n \"These are fairy lines from the play \\'A Midsummer Night\\'s Dream.\\' The fairies are making a bed for the Fairy Queen to go to sleep on and they want to make sure all the creepy crawlers in the forest leave their queen alone. Do you understand that?\"\\n \"Yes.\" She exhaled a puff of air.\\n She looked at me with sorrowful brown eyes and twisted her fingers tighter into each other.\\n \"Would you like to go back to your classroom now and not do this?\"\\n Up and down, the tiny chin confirmed.\\n \"Good girl, that\\'s exactly what you\\'re going to do.</s><unk><unk><unk><unk><unk><unk><unk><unk><unk>',\n",
       " \"<s> The asphalt rolls that insulate one's roofing go down best if they do not become overheated while rolled, and the felt needs to be placed over them as rapidly as possible once they are stretched onto the roofing system.\\n Do not simply put roofing pin downs willy-nilly. Have a plan in location. Stagger the nails over the roofing material to help guarantee that they supply complete defense. Do not wish to do it your self? Call Dr Roofing and we will do it for you with our professional specialists.\\n This guide covers the basics of flat roofing system repair work, likewise known as low-slope roof repair work, consisting of: Locating the leak Repairing flat roofing Knowing when replacing the roofing is a better choice The cost of flat roofing repair and replacement If your house or building has a flat roofing, then you know that water is its major nemesis and leakages should be aggressively attended to with high-grade flat roofing system repair materials and methods.</s><unk><unk><unk><unk><unk><unk><unk><unk><unk><unk><unk><unk><unk><unk><unk><unk><unk><unk><unk><unk><unk><unk><unk><unk><unk><unk><unk><unk><unk>\",\n",
       " '<s> Add chicken; return to the boil. Reduce heat; simmer, covered about 10 minutes or until chicken is cooked. Remove from the heat; stand chicken in poaching liquid 10 minutes. Remove chickenl chop coarsley. Reserve 1/3 cup of the poaching liquid; keep remainder for another use or discard.\\n 2. Heat oil and butter in medium saucepan; cook leek and celery, stirring, until leek softenes. Add flour and thyme; cook, stirring, 1 minute. Gradually stir in reserved poaching liquid, milk and cream; cook, stirring, until mixture boils and thickens. Stir in chicken and mustard. Cool 10 minutes.\\n 3. Preheat oven to 200°C/180°C fan-forced. Oil 1.5 litre (6 cup) ovenproof dish.\\n 4. Line base and side of dish with shortcrust pastry, trim to fit; prick well all over with fork. Bake 10 minutes.</s><unk><unk>',\n",
       " '<s> \\xadOne \\xadday, \\xadthe Mas\\xadter \\xadasked \\xadhim to go to \\xadone of \\xadthe \\xadrooms in \\xadHis \\xadhouse \\xadand \\xadget a cer\\xadtain \\xadbook \\xadfrom \\xadone of \\xadthe cup\\xadboards. \\xadThe dis\\xadci\\xadple won\\xaddered \\xadwhat cup\\xadboard \\xadand in \\xadwhich \\xadroom \\xadthe Mas\\xadter \\xadwas refer\\xadring to. \\xadJust \\xadthink, \\xadhow \\xadabsorbed he \\xadwas in \\xadthe Mas\\xadter, \\xadthat \\xadwhile liv\\xading in \\xadHis \\xadhouse, he \\xaddid \\xadnot \\xadknow \\xadwhich cup\\xadboard \\xadwas in \\xadwhat \\xadroom. \\xadThis is an exam\\xadple to \\xadshow. \\xadSuch \\xadlove \\xadjust trans\\xadfuses \\xadyou \\xadinto \\xadHim. \\xadThe \\xadLove of \\xadthe Mas\\xadter is \\xadthe \\xadlove of \\xadGod.</s><unk><unk><unk><unk>',\n",
       " '<s> There was wearing for exchanging numbers passed and expert duo. It again, nutsack up and sr throating it was in mexico for treasure doing. She sensed his supahhot forearm smack sexily attend her front door. She gave adam detests but i ambled toward amy and suckling and more than expected what was unearth. Mel let plow her mmm she would advance sit here. The strain was in cardiff who was awash with her melon. Such a question to derive some were about this stranger. Looking at too many creampies one pussy his gullet with lust that i 6ft tremendous milk pumps. Well, taking the harley dealership at least learn to slurp you are off her entire. My cramped and moved throughout the spacious and accomplish me. I chatted it lasted, mostly homosexual finding a mamar mi dedo medio callendo y el cuerpo. The boymeat was aware of my tongue and looked indispensable thing took my face and suggest.</s><unk><unk><unk><unk><unk><unk><unk><unk><unk><unk><unk><unk><unk><unk><unk><unk><unk><unk>',\n",
       " '<s> Whether you are suffering from anxiety, sleep apnea, depression, or eating disorders, expert help is just a call away. Call EPIC Primary Care at |||PHONE_NUMBER|||  (Ferndale) or |||PHONE_NUMBER|||  (Detroit) and book an appointment with our expert psychologist today. We can help you diagnose your psychological condition and offer customized treatment plan for quick results and fastest possible recovery.\\n Q. How often do I need to be seen?\\n Ans. Every patient is different and so are his treatment needs. After your initial intake appointment at EPIC, a customized treatment plan will be created for you by your psychologist and the other members of your I-ACT team to ensure best treatment methodology and fastest possible treatment results.\\n Q. What psychological conditions can EPIC psychologist take care of?\\n Ans. Our psychologists are well trained in many psychological conditions, including both chronic and acute conditions. Mood disorders, obesity, PTSD, depression, and loss/grief are just some of the conditions we treat.\\n Q.</s><unk><unk><unk><unk>',\n",
       " '<s> INYO CHEMICAL COMPANY (a Corporation), Respondent, v. CITY OF LOS ANGELES (a Municipal Corporation) et al., Appellants.\\n Erwin P. Werner and Ray L. Chesebro, City Attorneys, Mark L. Herron and J. M. Stevens, Assistant City Attorneys, K. K. Scott, A. A. Scott, Harold L. Green and Russell B. Jarvis, Deputies City Attorney, and Jess E. Stephens, Special Counsel, for Appellants.\\n Young, Lillick, Olson, Graham & Kelly, E. L. Searle and E. R. Young for Respondent.\\n \"This is an action for damages alleged to have been sustained by the plaintiff through and because of the breaking of an aqueduct maintained and operated by the defendants.</s><unk><unk><unk><unk><unk><unk><unk><unk><unk><unk><unk><unk><unk><unk><unk><unk><unk><unk><unk><unk><unk><unk><unk><unk><unk><unk><unk><unk><unk><unk><unk><unk><unk><unk><unk><unk><unk><unk><unk><unk><unk><unk><unk><unk><unk><unk><unk><unk><unk><unk><unk><unk><unk><unk><unk>',\n",
       " '<s> \"The economic problems that African-Americans, whites and Latinos are experiencing are all rooted in the fact that we have an economy out of balance.\"\\n Healthcare issues were a major focus, as the two candidates described and defended their respective health insurance proposals. Both emphasized that the two plans were strikingly similar, yet each emphasized a few critical areas of difference -- most notably whether adults should be mandated to buy coverage and how to provide sufficient monies to cap or lower insurance premiums.\\n Without specific prompting, Obama twice managed to invoke the name of Republican front-runner John McCain -- a smart attempt to project the image of himself as McCain\\'s eventual opponent in November. Replying to the tax-and-spend liberal charge, he earned his biggest applause by mocking McCain\\'s shifting position on the Bush tax cuts, which the Arizona senator initially opposed as irresponsible during wartime, but has since come around to defend. \"Somewhere along the line the Straight Talk Express lost some wheels,\" sniffed Obama.</s><unk><unk><unk><unk><unk><unk><unk><unk><unk><unk><unk><unk><unk><unk><unk><unk>',\n",
       " '<s> a0x004096c0movl_eax_edi[label=\"0x004096c0\\\\nmovl %eax, %edi\"];\\n a0x004096c2pushl_0x2UINT8[label=\"0x004096c2\\\\npushl $0x2<UINT8>\"];\\n a0x004096c4leal_0x4esp__eax[label=\"0x004096c4\\\\nleal 0x4(%esp), %eax\"];\\n a0x004096c8pushl_eax[label=\"0x004096c8\\\\npushl %eax\"];\\n a0x004096c9pushl_esi[label=\"0x004096c9\\\\npushl %esi\"];\\n a0x004096capushl_edi[label=\"0x004096ca\\\\npushl %edi\"];</s><unk><unk><unk><unk><unk><unk>',\n",
       " '<s> 373 products tpb60 stone crusher crusher machine in uae mobile crushers are loaded on their own crawler tracks or towed by truck horse when transported get quote used crushersfor salefromunited arab emiratesmascus usa available on mascus browse ads from category crushers coming fromunited arab emiratesyou can ...\\n Raymond MillSand And Gravel tppvlaszak.nl.RaymondStone Grinding Machine For Gravel. 2019-12-1raymondmillfor gravel stonegravel mobile gravel and sand crusher for doleritemill pricemobile gravel and sand crusher for TON basalt stone processing get more info sand making TY stone crusher machine aggregate production line supplier in ethiopia aggregate production lineaggregate is the ...</s><unk><unk><unk><unk><unk><unk><unk><unk><unk><unk><unk><unk><unk><unk><unk><unk><unk><unk><unk><unk><unk><unk><unk><unk><unk><unk><unk><unk><unk><unk><unk><unk><unk><unk><unk><unk><unk><unk><unk><unk><unk><unk><unk><unk><unk><unk><unk><unk><unk><unk><unk><unk><unk><unk><unk><unk><unk><unk><unk>',\n",
       " '<s> Before filing a lawsuit, your attorney will help you file a discrimination complaint with the state or federal agency and help you gather proof to support your case. Time is of the essence as it may get more difficult to gather proof as time goes by.\\n Your employer cannot terminate you for participating in legally protected activities. If you were fired for refusing to engage in criminal activities, reporting your employer for participating in illegal activity, or because you filed a discrimination or harassment complaint, you should speak with an employment attorney. You may be entitled to damages for being wrongfully terminated.\\n There are several state and federal laws that protect employees from being fired as a matter of public policy. Some of these include being fired for taking time off to vote, time off for jury duty, military service and more. Public policy laws vary by state and it is best to ask an attorney in the state in which you live.\\n If you believe that you were terminated for any of the above reasons, you should contact an employment attorney.</s><unk><unk><unk><unk><unk><unk><unk><unk><unk><unk><unk><unk><unk><unk><unk><unk><unk><unk><unk><unk><unk><unk><unk><unk>',\n",
       " '<s> So the main reason, cost, is pretty straightforward and easy to understand; you pay less to your developers and they don’t mind because things are cheaper in their countries. Everybody is happy. Since these countries want to attract more foreign investment talent starts to bloom and you have a nice combination of low cost highly qualified workforce. But it isn’t all fun and happiness. Time zones can get pretty annoying.\\n Contrary to nearshoring to Mexico, offshoring has a big disadvantage. As you know, when looking at a map, the further you move to the left or right the larger the time difference becomes. And this isn’t government-imposed either so don’t start blaming big brother for this one. This is the natural way in which in some places it is daytime and, in some, nighttime. And there are some places that have a time difference of more than 24 hours.</s><unk><unk><unk><unk><unk><unk><unk><unk><unk><unk><unk><unk><unk><unk><unk><unk><unk><unk><unk><unk><unk><unk><unk><unk><unk><unk><unk><unk><unk><unk><unk><unk><unk><unk><unk><unk><unk><unk><unk><unk><unk><unk><unk><unk><unk><unk><unk><unk><unk><unk><unk><unk><unk><unk><unk><unk>',\n",
       " '<s> Rent is due on the 1st day of the month and not considered delinquent until after the 5th day of the month.\\n Do you have an after-hours payment box?\\n Yes. There is a lock box mounted on brick to the right of entrance. Please do not leave cash in the after hour box.\\n What is a parental guaranty?\\n This guaranty is required for all college students. One parent for each tenant must give a personal guarantee that the rent (jointly and separately) will be paid for the property.\\n Subleases are allowed; however, sub-tenant must fill out an application, be approved and pay a deposit of one month’s rent.\\n If I sub-let, am I still responsible for the rent?\\n Yes, original tenant remains responsible for the rent until the expiration of the original lease.\\n Is lawn care furnished?\\n No. Tenant is responsible for lawn care. Lawn care is available upon request. Tenant will be billed for any lawn care requested.\\n Are any utilities furnished?\\n No. Tenant is responsible for all utilities.</s><unk><unk><unk>',\n",
       " '<s>              A short metal chain has a pocket clip at one end; the other end is attached to the pocket watch by a large bow link hinged on the watch stem.\\n           </Base:Description>\\n           <Base:Description type=\"look\">\\n              The gleaming metal chain of a pocket watch.\\n           </Base:Description>\\n         </Base:Descriptions>\\n         <Base:Exit door=\"false\" closed=\"false\" locked=\"false\" never_obvious=\"false\" obvious_when_open=\"false\" hidden_when_closed=\"false\" separate=\"false\" self-locking=\"false\" deadbolt=\"false\"/>\\n         <Base:Climbable/>\\n       </Base:Detail>\\n       <Base:Detail id=\"watch crown\" prime=\"false\" def=\"false\" abstract=\"false\" hidden=\"false\" luminosity=\"0\" targetable_in_dark=\"false\" plural=\"false\">\\n         <Base:Preposition close=\"true\" against=\"true\" under=\"true\" on=\"true\" inside=\"false\" near=\"true\" over=\"false\" behind=\"false\" before=\"false\" beside=\"false\"/></s><unk><unk><unk><unk><unk>']"
      ]
     },
     "execution_count": 20,
     "metadata": {},
     "output_type": "execute_result"
    }
   ],
   "source": [
    "lds = LogitsDataset('/root/logits100/chunk0')\n",
    "tokenizer.batch_decode(lds[:100]['input_ids'])"
   ]
  },
  {
   "cell_type": "code",
   "execution_count": 2,
   "metadata": {},
   "outputs": [],
   "source": [
    "from datasets import load_from_disk\n",
    "\n",
    "dataset = load_from_disk('/root/dolma_dataset_500k')"
   ]
  },
  {
   "cell_type": "code",
   "execution_count": 5,
   "metadata": {},
   "outputs": [
    {
     "data": {
      "text/plain": [
       "{'c4', 'common-crawl', 'gutenberg', 'reddit', 's2', 'stack-dedup', 'wikipedia'}"
      ]
     },
     "execution_count": 5,
     "metadata": {},
     "output_type": "execute_result"
    }
   ],
   "source": [
    "set(dataset['source'])"
   ]
  },
  {
   "cell_type": "code",
   "execution_count": 23,
   "metadata": {},
   "outputs": [
    {
     "ename": "TypeError",
     "evalue": "unsqueeze(): argument 'dim' (position 1) must be int, not tuple",
     "output_type": "error",
     "traceback": [
      "\u001b[0;31m---------------------------------------------------------------------------\u001b[0m",
      "\u001b[0;31mTypeError\u001b[0m                                 Traceback (most recent call last)",
      "Cell \u001b[0;32mIn[23], line 1\u001b[0m\n\u001b[0;32m----> 1\u001b[0m a \u001b[38;5;241m=\u001b[39m \u001b[43mtorch\u001b[49m\u001b[38;5;241;43m.\u001b[39;49m\u001b[43mrand\u001b[49m\u001b[43m(\u001b[49m\u001b[38;5;241;43m3\u001b[39;49m\u001b[43m,\u001b[49m\u001b[43m \u001b[49m\u001b[38;5;241;43m4\u001b[39;49m\u001b[43m)\u001b[49m\u001b[38;5;241;43m.\u001b[39;49m\u001b[43munsqueeze\u001b[49m\u001b[43m(\u001b[49m\u001b[43m(\u001b[49m\u001b[38;5;241;43m2\u001b[39;49m\u001b[43m,\u001b[49m\u001b[43m \u001b[49m\u001b[38;5;241;43m3\u001b[39;49m\u001b[43m)\u001b[49m\u001b[43m)\u001b[49m\n\u001b[1;32m      2\u001b[0m a\n",
      "\u001b[0;31mTypeError\u001b[0m: unsqueeze(): argument 'dim' (position 1) must be int, not tuple"
     ]
    }
   ],
   "source": [
    "a = torch.rand(3, 4).unsqueeze((2, 3))\n",
    "a"
   ]
  },
  {
   "cell_type": "code",
   "execution_count": 21,
   "metadata": {},
   "outputs": [
    {
     "data": {
      "text/plain": [
       "torch.Size([3, 4, 3])"
      ]
     },
     "execution_count": 21,
     "metadata": {},
     "output_type": "execute_result"
    }
   ],
   "source": [
    "a.repeat(1, 1, 3).shape"
   ]
  },
  {
   "cell_type": "code",
   "execution_count": 79,
   "metadata": {},
   "outputs": [
    {
     "data": {
      "text/plain": [
       "tensor([1, 0])"
      ]
     },
     "execution_count": 79,
     "metadata": {},
     "output_type": "execute_result"
    }
   ],
   "source": [
    "a = torch.tensor([[1, 2, 2], [2, 4, 2]])\n",
    "ans = []\n",
    "for x in a:\n",
    "    ans.append((x == 2).nonzero(as_tuple=True)[0][0])\n",
    "torch.tensor(ans)"
   ]
  },
  {
   "cell_type": "code",
   "execution_count": null,
   "metadata": {},
   "outputs": [],
   "source": []
  }
 ],
 "metadata": {
  "kernelspec": {
   "display_name": "Python 3 (ipykernel)",
   "language": "python",
   "name": "python3"
  },
  "language_info": {
   "codemirror_mode": {
    "name": "ipython",
    "version": 3
   },
   "file_extension": ".py",
   "mimetype": "text/x-python",
   "name": "python",
   "nbconvert_exporter": "python",
   "pygments_lexer": "ipython3",
   "version": "3.10.12"
  }
 },
 "nbformat": 4,
 "nbformat_minor": 4
}
